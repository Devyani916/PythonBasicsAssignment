{
  "nbformat": 4,
  "nbformat_minor": 0,
  "metadata": {
    "colab": {
      "provenance": [],
      "authorship_tag": "ABX9TyMwMsIKxqH1Fkm1d9gaF8wv",
      "include_colab_link": true
    },
    "kernelspec": {
      "name": "python3",
      "display_name": "Python 3"
    },
    "language_info": {
      "name": "python"
    }
  },
  "cells": [
    {
      "cell_type": "markdown",
      "metadata": {
        "id": "view-in-github",
        "colab_type": "text"
      },
      "source": [
        "<a href=\"https://colab.research.google.com/github/Devyani916/PythonBasicsAssignment/blob/main/EDA_Assignment.ipynb\" target=\"_parent\"><img src=\"https://colab.research.google.com/assets/colab-badge.svg\" alt=\"Open In Colab\"/></a>"
      ]
    },
    {
      "cell_type": "markdown",
      "source": [
        "**EDA-1** : **BIKE DETAILS DATASET**"
      ],
      "metadata": {
        "id": "DOWHiRPkuOXf"
      }
    },
    {
      "cell_type": "markdown",
      "source": [
        "1. What is the range of selling prices in the dataset?"
      ],
      "metadata": {
        "id": "gjcbue5vu7aV"
      }
    },
    {
      "cell_type": "code",
      "source": [
        "import pandas as pd\n",
        "\n",
        "\n",
        "df = pd.read_csv('/BIKE_DETAILS.csv')\n",
        "\n",
        "# Find minimum values\n",
        "min_values = df['selling_price'].min()\n",
        "\n",
        "# Find maximum values\n",
        "max_values = df['selling_price'].max()\n",
        "\n",
        "# Calculate range\n",
        "range_values = max_values - min_values\n",
        "\n",
        "# Print the range for each column\n",
        "print(range_values)"
      ],
      "metadata": {
        "id": "ackU1rri0Or5",
        "colab": {
          "base_uri": "https://localhost:8080/"
        },
        "outputId": "3097b597-209e-4e77-fe3c-ca46a9eb6c25"
      },
      "execution_count": null,
      "outputs": [
        {
          "output_type": "stream",
          "name": "stdout",
          "text": [
            "755000\n"
          ]
        }
      ]
    },
    {
      "cell_type": "markdown",
      "source": [
        "2. What is the median selling price for bikes in the dataset?"
      ],
      "metadata": {
        "id": "dPCYAkMDygRv"
      }
    },
    {
      "cell_type": "code",
      "source": [
        "median =df['selling_price'].median()\n",
        "\n",
        "#print median list price of bikes\n",
        "print(median)"
      ],
      "metadata": {
        "id": "jRxo_kSD8CzQ",
        "colab": {
          "base_uri": "https://localhost:8080/"
        },
        "outputId": "e74740f7-ff18-4268-f520-86e9037ac9c2"
      },
      "execution_count": null,
      "outputs": [
        {
          "output_type": "stream",
          "name": "stdout",
          "text": [
            "45000.0\n"
          ]
        }
      ]
    },
    {
      "cell_type": "markdown",
      "source": [
        "3. What is the most common seller type?"
      ],
      "metadata": {
        "id": "rpJLc2gi8xhe"
      }
    },
    {
      "cell_type": "code",
      "source": [
        "import pandas as pd\n",
        "df = pd.read_csv('/BIKE_DETAILS.csv')\n",
        "print(df['seller_type'].value_counts())"
      ],
      "metadata": {
        "id": "oaPdIvqKx-Uq",
        "colab": {
          "base_uri": "https://localhost:8080/"
        },
        "outputId": "22feece2-a63f-4213-ed29-044aab9cd388"
      },
      "execution_count": null,
      "outputs": [
        {
          "output_type": "stream",
          "name": "stdout",
          "text": [
            "seller_type\n",
            "Individual    1055\n",
            "Dealer           6\n",
            "Name: count, dtype: int64\n"
          ]
        }
      ]
    },
    {
      "cell_type": "markdown",
      "source": [
        "4. How many bikes have driven more than 50000 kilometers?"
      ],
      "metadata": {
        "id": "gPwk4mmIu0Yr"
      }
    },
    {
      "cell_type": "code",
      "source": [
        "import pandas as pd\n",
        "df = pd.read_csv('/BIKE_DETAILS.csv')\n",
        "b = df[df['km_driven']>50000].value_counts()\n",
        "print(b)\n"
      ],
      "metadata": {
        "id": "W902UQrBvaxt",
        "colab": {
          "base_uri": "https://localhost:8080/"
        },
        "outputId": "be0d7291-ffbf-4530-d4ca-ca2f85d4c7a6"
      },
      "execution_count": null,
      "outputs": [
        {
          "output_type": "stream",
          "name": "stdout",
          "text": [
            "name                      selling_price  year  seller_type  owner      km_driven  ex_showroom_price\n",
            "Bajaj Pulsar 135 LS       20000          2010  Individual   1st owner  80000      64589.0              2\n",
            "Honda Activa [2000-2015]  23000          2009  Individual   1st owner  95000      50267.0              2\n",
            "Bajaj Discover 100        28000          2015  Individual   2nd owner  52000      42859.0              1\n",
            "Bajaj Discover 110        15000          2007  Individual   1st owner  70000      52710.0              1\n",
            "Bajaj Discover 125        10000          2006  Individual   1st owner  51000      57549.0              1\n",
            "                                                                                                      ..\n",
            "Yamaha FZ16               40000          2016  Individual   1st owner  93000      78712.0              1\n",
            "Yamaha Fascino 110        45000          2016  Individual   1st owner  56000      54500.0              1\n",
            "Yamaha Fazer [2009-2016]  25000          2013  Individual   1st owner  120000     84751.0              1\n",
            "                          45000          2014  Individual   1st owner  57700      84751.0              1\n",
            "                          50000          2012  Individual   1st owner  100000     84751.0              1\n",
            "Name: count, Length: 86, dtype: int64\n"
          ]
        }
      ]
    },
    {
      "cell_type": "markdown",
      "source": [
        "5. What is the average km_driven value for each ownership type?"
      ],
      "metadata": {
        "id": "Gl5lHvN4wQeX"
      }
    },
    {
      "cell_type": "code",
      "source": [
        "import pandas as pd\n",
        "df = pd.read_csv('/BIKE_DETAILS.csv')\n",
        "print(df.groupby('owner')['km_driven'].mean())"
      ],
      "metadata": {
        "id": "Pc4s73npxaeT",
        "colab": {
          "base_uri": "https://localhost:8080/"
        },
        "outputId": "e15ba92a-ab06-456e-af1a-18bab6edfe97"
      },
      "execution_count": null,
      "outputs": [
        {
          "output_type": "stream",
          "name": "stdout",
          "text": [
            "owner\n",
            "1st owner     32816.583333\n",
            "2nd owner     39288.991870\n",
            "3rd owner     33292.181818\n",
            "4th owner    311500.000000\n",
            "Name: km_driven, dtype: float64\n"
          ]
        }
      ]
    },
    {
      "cell_type": "markdown",
      "source": [
        "6. What proportion of bikes are from the year 2015 or older?"
      ],
      "metadata": {
        "id": "3aM-W0Wnv4za"
      }
    },
    {
      "cell_type": "code",
      "source": [
        "import"
      ],
      "metadata": {
        "id": "gzyTJcLZl8B9"
      },
      "execution_count": null,
      "outputs": []
    }
  ]
}