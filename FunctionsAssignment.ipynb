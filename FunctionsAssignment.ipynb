{
  "nbformat": 4,
  "nbformat_minor": 0,
  "metadata": {
    "colab": {
      "provenance": [],
      "history_visible": true,
      "mount_file_id": "19YL8hmmL9E-sV-t01fXMKyjuqwXleHOe",
      "authorship_tag": "ABX9TyNzIOQl8IWAWXZbApNtZPp/",
      "include_colab_link": true
    },
    "kernelspec": {
      "name": "python3",
      "display_name": "Python 3"
    },
    "language_info": {
      "name": "python"
    }
  },
  "cells": [
    {
      "cell_type": "markdown",
      "metadata": {
        "id": "view-in-github",
        "colab_type": "text"
      },
      "source": [
        "<a href=\"https://colab.research.google.com/github/Devyani916/PythonBasicsAssignment/blob/main/FunctionsAssignment.ipynb\" target=\"_parent\"><img src=\"https://colab.research.google.com/assets/colab-badge.svg\" alt=\"Open In Colab\"/></a>"
      ]
    },
    {
      "cell_type": "markdown",
      "source": [
        "**Functions** **Assignment**"
      ],
      "metadata": {
        "id": "i8lISQqHMTTa"
      }
    },
    {
      "cell_type": "markdown",
      "source": [
        "***Theory Questions:***"
      ],
      "metadata": {
        "id": "LCj0Fwy6Mxje"
      }
    },
    {
      "cell_type": "markdown",
      "source": [
        "1. What is the difference between a function and a method in Python?\n",
        "- **Function** is seperate block of code which can be used independently and call anywhere. Also function can be reused multiple times whenever needed.\n",
        "\n",
        "- **Method** is a associated with the class and which can be used using dot notation. It can used as per the behaviour of an object."
      ],
      "metadata": {
        "id": "PJK6qYoeNMJY"
      }
    },
    {
      "cell_type": "code",
      "source": [
        "#Example of a function\n",
        "def func():\n",
        "  return \"This is a function\"\n",
        "\n",
        "func() #Calling of the function in the code"
      ],
      "metadata": {
        "colab": {
          "base_uri": "https://localhost:8080/",
          "height": 35
        },
        "id": "zkzeiOmdOwuj",
        "outputId": "40da86cd-d5eb-449a-d3bc-96a32879cd32"
      },
      "execution_count": 17,
      "outputs": [
        {
          "output_type": "execute_result",
          "data": {
            "text/plain": [
              "'This is a function'"
            ],
            "application/vnd.google.colaboratory.intrinsic+json": {
              "type": "string"
            }
          },
          "metadata": {},
          "execution_count": 17
        }
      ]
    },
    {
      "cell_type": "code",
      "source": [
        "#Example of a method\n",
        "class A:\n",
        "  def m(self):\n",
        "    print(\"This is a method\")\n",
        "\n",
        "obj = A()\n",
        "obj.m() #Calling a method with \".\" notation with object"
      ],
      "metadata": {
        "colab": {
          "base_uri": "https://localhost:8080/"
        },
        "id": "O26tlB3NPU65",
        "outputId": "5259b552-0c0d-44c7-9540-cd44d7f8380a"
      },
      "execution_count": 18,
      "outputs": [
        {
          "output_type": "stream",
          "name": "stdout",
          "text": [
            "This is a method\n"
          ]
        }
      ]
    },
    {
      "cell_type": "markdown",
      "source": [
        "*************************************"
      ],
      "metadata": {
        "id": "4C5NPVkYQKzy"
      }
    },
    {
      "cell_type": "markdown",
      "source": [
        "2. Explain the concept of function argument and parameters in Python.\n",
        "- **Function argument** are actual values that you can provide to a function when you call it. This aregument can be used to perform some specific task.\n",
        "- **Parameters** are the placeholder or variable names which are defined in brackets after function name while defining the function."
      ],
      "metadata": {
        "id": "bWnZyv3wQWkS"
      }
    },
    {
      "cell_type": "code",
      "source": [
        "#Example:\n",
        "def addition(a,b):\n",
        "  # a and b are the parameters\n",
        "  return a+b\n",
        "\n",
        "addition(2,3) # 2 and 3 are the arguments"
      ],
      "metadata": {
        "id": "ilRrDa-nWAcA",
        "colab": {
          "base_uri": "https://localhost:8080/"
        },
        "outputId": "c63619a2-6b74-4aeb-8c87-0944c7d4915c"
      },
      "execution_count": 19,
      "outputs": [
        {
          "output_type": "execute_result",
          "data": {
            "text/plain": [
              "5"
            ]
          },
          "metadata": {},
          "execution_count": 19
        }
      ]
    },
    {
      "cell_type": "markdown",
      "source": [
        "*******************************************"
      ],
      "metadata": {
        "id": "fb6LheYdYjMJ"
      }
    },
    {
      "cell_type": "markdown",
      "source": [
        "3. What are the different ways to define and call a function in Python.\n",
        "- Different ways to call a function:"
      ],
      "metadata": {
        "id": "DAZFZnErYqNT"
      }
    },
    {
      "cell_type": "code",
      "source": [
        "# 1. Call a function using Function_name followed by paranthesis\n",
        "#Example.\n",
        "def func():\n",
        "  print(\"Hello World!\")\n",
        "\n",
        "func()"
      ],
      "metadata": {
        "colab": {
          "base_uri": "https://localhost:8080/"
        },
        "id": "sGC1bZqtma00",
        "outputId": "c230bf4b-2641-48d9-91b3-a38a8cf378a5"
      },
      "execution_count": 20,
      "outputs": [
        {
          "output_type": "stream",
          "name": "stdout",
          "text": [
            "Hello World!\n"
          ]
        }
      ]
    },
    {
      "cell_type": "code",
      "source": [
        "# 2. Call a function with an argument\n",
        "#Example:\n",
        "def func(name):\n",
        "  print(f\"hello {name}\")\n",
        "\n",
        "func(\"devyani\")"
      ],
      "metadata": {
        "colab": {
          "base_uri": "https://localhost:8080/"
        },
        "id": "P_nCua10lwBE",
        "outputId": "cb8d35d9-51ba-4fd2-8735-60eb60720fd7"
      },
      "execution_count": 21,
      "outputs": [
        {
          "output_type": "stream",
          "name": "stdout",
          "text": [
            "hello devyani\n"
          ]
        }
      ]
    },
    {
      "cell_type": "code",
      "source": [
        "# 3. Call a function that returns a value\n",
        "#Example:\n",
        "def func(a, b):\n",
        "  return a+b\n",
        "\n",
        "func(2,3)"
      ],
      "metadata": {
        "colab": {
          "base_uri": "https://localhost:8080/"
        },
        "id": "0WX7_3eynGU2",
        "outputId": "b50c4d84-2fa7-4be2-84fe-ef51a55fd8c6"
      },
      "execution_count": 22,
      "outputs": [
        {
          "output_type": "execute_result",
          "data": {
            "text/plain": [
              "5"
            ]
          },
          "metadata": {},
          "execution_count": 22
        }
      ]
    },
    {
      "cell_type": "code",
      "source": [
        "# 4. Function with the default argument\n",
        "#Example\n",
        "def func(name=\"Saikat\"): #if no name paased while function called then by default it gives default value\n",
        "  print(f\"Hello {name}\")\n",
        "\n",
        "func(\"Devyani\")"
      ],
      "metadata": {
        "colab": {
          "base_uri": "https://localhost:8080/"
        },
        "id": "Qjn8BrXbqc2v",
        "outputId": "9dd069f4-858d-444b-f1a2-c34fcbea2005"
      },
      "execution_count": 23,
      "outputs": [
        {
          "output_type": "stream",
          "name": "stdout",
          "text": [
            "Hello Devyani\n"
          ]
        }
      ]
    },
    {
      "cell_type": "code",
      "source": [
        "func() #no argument value has been paased so default value will be printed"
      ],
      "metadata": {
        "colab": {
          "base_uri": "https://localhost:8080/"
        },
        "id": "o3p5zSyPrJE-",
        "outputId": "35fbb914-6827-4e46-e227-bf77f5094298"
      },
      "execution_count": 24,
      "outputs": [
        {
          "output_type": "stream",
          "name": "stdout",
          "text": [
            "Hello Saikat\n"
          ]
        }
      ]
    },
    {
      "cell_type": "code",
      "source": [
        "# 5. Function with variable number of argument>>syntax>> def func(*argument_name)\n",
        "#Example:\n",
        "def func(*args):\n",
        "  sum1 = 0\n",
        "  for i in args:\n",
        "    sum1 += i\n",
        "\n",
        "  return sum1\n",
        "\n",
        "func(1,4,5,9)\n"
      ],
      "metadata": {
        "colab": {
          "base_uri": "https://localhost:8080/"
        },
        "id": "KeDdSg_KrNQz",
        "outputId": "4764ebd4-ebfd-4fcc-f0e0-828c0ed075c1"
      },
      "execution_count": 25,
      "outputs": [
        {
          "output_type": "execute_result",
          "data": {
            "text/plain": [
              "19"
            ]
          },
          "metadata": {},
          "execution_count": 25
        }
      ]
    },
    {
      "cell_type": "code",
      "source": [
        "# 6. Function with keyword arguments>> syntax is **kwargs in paranthesis. It returns key-value pair as an output.\n",
        "# It allows to pass variable number of keyword arguments\n",
        "#Example:\n",
        "def lis(**kwargs):\n",
        "  for key,value in kwargs.items():\n",
        "    print(f\"{key} : {value}\")\n",
        "\n",
        "lis(name=\"Saikat\", age=27, gender= \"male\", experience=3, city=\"Puri\")"
      ],
      "metadata": {
        "colab": {
          "base_uri": "https://localhost:8080/"
        },
        "id": "iezaFq9DsBEp",
        "outputId": "05b40ac1-2bd8-468d-c370-cd1182b07f88"
      },
      "execution_count": 26,
      "outputs": [
        {
          "output_type": "stream",
          "name": "stdout",
          "text": [
            "name : Saikat\n",
            "age : 27\n",
            "gender : male\n",
            "experience : 3\n",
            "city : Puri\n"
          ]
        }
      ]
    },
    {
      "cell_type": "code",
      "source": [
        "# 7. Call a function inside a function\n",
        "#Example:\n",
        "def myhome(x):\n",
        "  print(f\"{x} is a member of home\")\n",
        "\n",
        "def home(*members):\n",
        "  for mem in members:\n",
        "    myhome(mem)\n",
        "\n",
        "home(\"Devyani\",\"Saikat\",\"Mummy\",\"Papa\")"
      ],
      "metadata": {
        "colab": {
          "base_uri": "https://localhost:8080/"
        },
        "id": "IV_aRSyrwLuN",
        "outputId": "eddd1c8c-d514-4196-8ef9-af8ba89f2a09"
      },
      "execution_count": 27,
      "outputs": [
        {
          "output_type": "stream",
          "name": "stdout",
          "text": [
            "Devyani is a member of home\n",
            "Saikat is a member of home\n",
            "Mummy is a member of home\n",
            "Papa is a member of home\n"
          ]
        }
      ]
    },
    {
      "cell_type": "markdown",
      "source": [
        "*********************************"
      ],
      "metadata": {
        "id": "g1C0ecXgyEnS"
      }
    },
    {
      "cell_type": "markdown",
      "source": [
        "4. What is the purpose of the 'return statement' in Python function?\n",
        "- **Return statement** used to when a function wants to return a result of any calculation or data manipulation. Return statement used at the end of the function which terminates the execution and returns the result."
      ],
      "metadata": {
        "id": "PWxJUjvFybN8"
      }
    },
    {
      "cell_type": "code",
      "source": [
        "#Example:\n",
        "def calc(a,b):\n",
        "  multiply = a*b\n",
        "  return multiply #return statement returns the result i.e. multiplication of two numbers\n",
        "\n",
        "calc(9,7)"
      ],
      "metadata": {
        "colab": {
          "base_uri": "https://localhost:8080/"
        },
        "id": "GoEu8wln1UIV",
        "outputId": "05e8c09a-9fb2-4f0e-c4d3-dfd63bb8d115"
      },
      "execution_count": 28,
      "outputs": [
        {
          "output_type": "execute_result",
          "data": {
            "text/plain": [
              "63"
            ]
          },
          "metadata": {},
          "execution_count": 28
        }
      ]
    },
    {
      "cell_type": "markdown",
      "source": [
        "5. What are iterators in Python and how do they differ from ieterables?\n",
        "- Iterotor in python is an object that is used to iterate over iterable objects like lists, tuples, dicts, and sets.\n",
        "- Iterator object can be initialized using 'iter()' method. It uses 'next' method for iteration."
      ],
      "metadata": {
        "id": "Z7FV4-172kk9"
      }
    },
    {
      "cell_type": "code",
      "source": [
        "#Example:\n",
        "fruits=(\"Orange\", \"Apple\", \"Stawberry\")\n",
        "iter_obj = iter(fruits)\n",
        "for i in fruits:\n",
        "  print(next(iter_obj))\n"
      ],
      "metadata": {
        "id": "rdiqlMShyxGL",
        "colab": {
          "base_uri": "https://localhost:8080/"
        },
        "outputId": "f341f28d-fca1-481a-fe96-a44123ae13be"
      },
      "execution_count": 29,
      "outputs": [
        {
          "output_type": "stream",
          "name": "stdout",
          "text": [
            "Orange\n",
            "Apple\n",
            "Stawberry\n"
          ]
        }
      ]
    },
    {
      "cell_type": "markdown",
      "source": [
        "6. Explain the concept of generators in Python and how they are defined.\n",
        "- Generator functions in Python are the way to create iterators in a more concise and memory-efficient manner.\n",
        "- It allows iterator over large sequence of data without loading entire data into memory.It uses the yield keyword to produce a series of values one at a time instead of returning all in one result."
      ],
      "metadata": {
        "id": "n7mTEXoZNoeJ"
      }
    },
    {
      "cell_type": "code",
      "source": [
        "#Example:\n",
        "def wonders():\n",
        "  yield \"Dudu\"\n",
        "  yield \"Mummy\"\n",
        "  yield \"Papa\"\n",
        "  yield \"Sonu-Monu\"\n",
        "\n",
        "for my in wonders():\n",
        "  print(f\"{my} is my wonder!\")\n"
      ],
      "metadata": {
        "colab": {
          "base_uri": "https://localhost:8080/"
        },
        "id": "JBjA_s_3TMqE",
        "outputId": "9d2aea07-402d-472a-8b3b-688185ffa16a"
      },
      "execution_count": 30,
      "outputs": [
        {
          "output_type": "stream",
          "name": "stdout",
          "text": [
            "Dudu is my wonder!\n",
            "Mummy is my wonder!\n",
            "Papa is my wonder!\n",
            "Sonu-Monu is my wonder!\n"
          ]
        }
      ]
    },
    {
      "cell_type": "markdown",
      "source": [
        "7. What are the advantages of using generators over regular functions?\n",
        "- **Advantages of using generators instead of regular functions**:\n",
        "-Uses yield keyword: It uses yield in place of return statement which make code more efficient as it pauses the execution and resume execution from there when we call gerenator again.\n",
        "-Eazy evaluation: Generator uses lazy evaluation method that means the values are generated on-the-fly and only when requested. This is mainly useful we want to work on large data or infinite sequence.\n",
        "-Memory efficiency: Generators are memory-efficient as they dont stores all the values in memory at once. Each value is generated and consumed one at a time which is suitable when data sets is large and memory is at high concern."
      ],
      "metadata": {
        "id": "aKHBDLacUWv9"
      }
    },
    {
      "cell_type": "code",
      "source": [
        "#Example:\n",
        "def fib(): #generator function for fibbonacci series\n",
        "  a, b = 0, 1\n",
        "  for i in range(10):\n",
        "    yield a\n",
        "    a, b= b, a+b\n",
        "\n",
        "for i in fib():# iteration for generator fun fib()\n",
        "  print(i)"
      ],
      "metadata": {
        "colab": {
          "base_uri": "https://localhost:8080/"
        },
        "id": "dHsRQdnXX0dp",
        "outputId": "093cb1cc-e22f-4e6c-9a43-7e657a1abd31"
      },
      "execution_count": 31,
      "outputs": [
        {
          "output_type": "stream",
          "name": "stdout",
          "text": [
            "0\n",
            "1\n",
            "1\n",
            "2\n",
            "3\n",
            "5\n",
            "8\n",
            "13\n",
            "21\n",
            "34\n"
          ]
        }
      ]
    },
    {
      "cell_type": "markdown",
      "source": [
        "8. What is a lambda function in python and when is it typically used?\n",
        "- A lambda function in Python is a concise way to create anonymous function, known as lambda expression. Lambda function are often used for short-term operation and defined in a single line.\n",
        "- Lambda function can have any number of input parameters but can only defined in a single line.\n",
        "- Lambda function is useful for shorterm task, specific task where you dont need extensive logic or full flegde program."
      ],
      "metadata": {
        "id": "-f-qbNFTbfSM"
      }
    },
    {
      "cell_type": "code",
      "source": [
        "#Example:\n",
        "is_even = lambda x: print(f\"{x} is a even number.\") if x%2==0 else print(f\"{x} is a odd number.\")\n",
        "is_even(6)"
      ],
      "metadata": {
        "colab": {
          "base_uri": "https://localhost:8080/"
        },
        "id": "Q5wPud57B4YW",
        "outputId": "cdc43173-7702-4aaf-dbe5-6ad37bed49d8"
      },
      "execution_count": 32,
      "outputs": [
        {
          "output_type": "stream",
          "name": "stdout",
          "text": [
            "6 is a even number.\n"
          ]
        }
      ]
    },
    {
      "cell_type": "code",
      "source": [
        "is_even(3)"
      ],
      "metadata": {
        "id": "b6tVcammaVIs",
        "colab": {
          "base_uri": "https://localhost:8080/"
        },
        "outputId": "6dea5c25-4632-4cb3-e54b-d98e1a038802"
      },
      "execution_count": 33,
      "outputs": [
        {
          "output_type": "stream",
          "name": "stdout",
          "text": [
            "3 is a odd number.\n"
          ]
        }
      ]
    },
    {
      "cell_type": "markdown",
      "source": [
        "9. Explain the purpose and usage of the 'map()' function in Python.\n",
        "- The map() function in Python is a built-in function that applies a given function to all the items in an iterable and returns an iterable map object of the results.\n",
        "syntax:\n",
        "map(func, iterable, ...)  "
      ],
      "metadata": {
        "id": "LdXE_PQ1C77c"
      }
    },
    {
      "cell_type": "code",
      "source": [
        "#Example:\n",
        "#Square of an number:\n",
        "l1 = [1, 2, 3, 4, 5, 6]\n",
        "sq_number = list(map(lambda x: x**2, l1)) # using lambda function\n",
        "print(sq_number)"
      ],
      "metadata": {
        "colab": {
          "base_uri": "https://localhost:8080/"
        },
        "id": "KL_2R33mGRsZ",
        "outputId": "91f298dd-9e28-4f4f-977d-e9e73f874cb4"
      },
      "execution_count": 34,
      "outputs": [
        {
          "output_type": "stream",
          "name": "stdout",
          "text": [
            "[1, 4, 9, 16, 25, 36]\n"
          ]
        }
      ]
    },
    {
      "cell_type": "code",
      "source": [
        "#Example:\n",
        "l2= [1, 3, 5, 7, 9]\n",
        "def add1(x):\n",
        "  return x+5\n",
        "\n",
        "s =list(map(add1, l2)) #with regular function\n",
        "print(s)"
      ],
      "metadata": {
        "colab": {
          "base_uri": "https://localhost:8080/"
        },
        "id": "b9Veu2o4HVV5",
        "outputId": "1289fe60-c5d6-4d7d-f3ec-39da4b4f3415"
      },
      "execution_count": 35,
      "outputs": [
        {
          "output_type": "stream",
          "name": "stdout",
          "text": [
            "[6, 8, 10, 12, 14]\n"
          ]
        }
      ]
    },
    {
      "cell_type": "markdown",
      "source": [
        "10. What is the difference between 'map()', 'reduce()' and 'filter()' functions in Python.\n",
        "- **map()** function executes a specified function for each of item of an iterables. Syntax: map(func, iterable)\n",
        "- **reduce()** function will always take two arguments. It summarized the values of an iterable into a single result. Syntax: reduce(func(x,y),iterable)\n",
        "reduce() does not accept empty iterable and will throw an error.\n",
        "- **filter()** function will the elements from an iterable based on some condition. Syntax: filter(func, iterable)"
      ],
      "metadata": {
        "id": "ZACcuzzgEaDO"
      }
    },
    {
      "cell_type": "code",
      "source": [
        "#Example\n",
        "shop_list = [{\"Name\":\"apple\", \"Cost\":10}, {\"Name\":\"Oranges\", \"Cost\":12}, {\"Name\":\"Grapes\", \"Cost\":50}]\n",
        "Items_Available = list(map(lambda x: x[\"Name\"], shop_list)) #map function used to print all items available\n",
        "print(Items_Available)\n"
      ],
      "metadata": {
        "colab": {
          "base_uri": "https://localhost:8080/"
        },
        "id": "Au-g-naFPwR8",
        "outputId": "11f35d8c-32d8-4a61-b31f-5a0334e2af18"
      },
      "execution_count": 36,
      "outputs": [
        {
          "output_type": "stream",
          "name": "stdout",
          "text": [
            "['apple', 'Oranges', 'Grapes']\n"
          ]
        }
      ]
    },
    {
      "cell_type": "code",
      "source": [
        "#Example\n",
        "from functools import reduce\n",
        "Total = reduce(lambda x,y: x+y, map(lambda x: x[\"Cost\"], shop_list)) #reduce function which gives sum of the cost of all the products\n",
        "print(Total)"
      ],
      "metadata": {
        "colab": {
          "base_uri": "https://localhost:8080/"
        },
        "id": "CVDjWBPGa0iV",
        "outputId": "ab18b640-bcf2-487f-8b1e-c5910062bf1a"
      },
      "execution_count": 37,
      "outputs": [
        {
          "output_type": "stream",
          "name": "stdout",
          "text": [
            "72\n"
          ]
        }
      ]
    },
    {
      "cell_type": "code",
      "source": [
        "#Example\n",
        "shop_list.append({\"Name\":\"Cabbage\", \"Cost\":20})\n",
        "shop_list.append({\"Name\":\"Tomato\", \"Cost\":25})\n",
        "print(shop_list)"
      ],
      "metadata": {
        "colab": {
          "base_uri": "https://localhost:8080/"
        },
        "id": "Dsv875fJbnah",
        "outputId": "20fc87f8-6f1a-45f0-d388-f078a7dc933b"
      },
      "execution_count": 38,
      "outputs": [
        {
          "output_type": "stream",
          "name": "stdout",
          "text": [
            "[{'Name': 'apple', 'Cost': 10}, {'Name': 'Oranges', 'Cost': 12}, {'Name': 'Grapes', 'Cost': 50}, {'Name': 'Cabbage', 'Cost': 20}, {'Name': 'Tomato', 'Cost': 25}]\n"
          ]
        }
      ]
    },
    {
      "cell_type": "code",
      "source": [
        "Fruits = list(filter(lambda x: x[\"Name\"]==\"apple\" or x[\"Name\"]==\"Oranges\" or x[\"Name\"]==\"Grapes\", shop_list)) #filter function to print only fruits\n",
        "print(Fruits)"
      ],
      "metadata": {
        "colab": {
          "base_uri": "https://localhost:8080/"
        },
        "id": "zCffl6bScU6V",
        "outputId": "1c5443d6-c80b-45a3-ff27-565e1314d2e6"
      },
      "execution_count": 39,
      "outputs": [
        {
          "output_type": "stream",
          "name": "stdout",
          "text": [
            "[{'Name': 'apple', 'Cost': 10}, {'Name': 'Oranges', 'Cost': 12}, {'Name': 'Grapes', 'Cost': 50}]\n"
          ]
        }
      ]
    },
    {
      "cell_type": "markdown",
      "source": [
        "11. Using pen & Paper write the internal mechanism for sum operation using reduce function on this given list:[47,11,42,13];  "
      ],
      "metadata": {
        "id": "qenY1soreaSz"
      }
    },
    {
      "cell_type": "code",
      "source": [
        "Num1= [47,11,42,13]\n",
        "s_Total= reduce(lambda x,y: x+y, Num1)\n",
        "print(s_Total)"
      ],
      "metadata": {
        "colab": {
          "base_uri": "https://localhost:8080/"
        },
        "id": "Im9w0-Negg-Y",
        "outputId": "f3efb37d-097c-427c-d178-62d91c9d798a"
      },
      "execution_count": 40,
      "outputs": [
        {
          "output_type": "stream",
          "name": "stdout",
          "text": [
            "113\n"
          ]
        }
      ]
    },
    {
      "cell_type": "markdown",
      "source": [
        "-"
      ],
      "metadata": {
        "id": "F_AmXVThkgRa"
      }
    },
    {
      "cell_type": "markdown",
      "source": [
        "************************************************************************ ************************************************************************"
      ],
      "metadata": {
        "id": "nVsxFbGUyoKi"
      }
    },
    {
      "cell_type": "markdown",
      "source": [
        "**Practical Questions**"
      ],
      "metadata": {
        "id": "lFg5pimGyxsX"
      }
    },
    {
      "cell_type": "markdown",
      "source": [
        "1. Write a Python function that takes a list of numbers as an input and returns the sum of all the even numbers in the list."
      ],
      "metadata": {
        "id": "SpAZ-b4ty57x"
      }
    },
    {
      "cell_type": "code",
      "source": [
        "numList = [1,3,2,5,4,6,7,8,9,10,12,11]\n",
        "def add_even(numList):\n",
        "  sumEven = 0\n",
        "  for i in numList:\n",
        "    if i%2 == 0:\n",
        "      sumEven += i\n",
        "    else:\n",
        "      continue\n",
        "  return sumEven\n",
        "\n",
        "add_even(numList)"
      ],
      "metadata": {
        "colab": {
          "base_uri": "https://localhost:8080/"
        },
        "id": "0lh_MS5xzU6f",
        "outputId": "ff79e3bd-a51c-419a-fb7c-bad8628c9e8b"
      },
      "execution_count": 41,
      "outputs": [
        {
          "output_type": "execute_result",
          "data": {
            "text/plain": [
              "42"
            ]
          },
          "metadata": {},
          "execution_count": 41
        }
      ]
    },
    {
      "cell_type": "markdown",
      "source": [
        "***********************************************"
      ],
      "metadata": {
        "id": "ZzrLebrkcaXf"
      }
    },
    {
      "cell_type": "markdown",
      "source": [
        "2. Create a Python function that accepts a string and returns the reverse of that string."
      ],
      "metadata": {
        "id": "uO0QzHCc0fbU"
      }
    },
    {
      "cell_type": "code",
      "source": [
        "String1 = input(\"Enter the string:\")\n",
        "print(f\"String entered by you is: {String1}\")\n",
        "def str_rev(String1):\n",
        "  for i in String1:\n",
        "    s = String1[::-1]\n",
        "  return print(f\"\\nThe reverse of the string is:{s}\")\n",
        "\n",
        "\n",
        "\n",
        "str_rev(String1)"
      ],
      "metadata": {
        "colab": {
          "base_uri": "https://localhost:8080/"
        },
        "id": "_i__z8s4J9cn",
        "outputId": "77e97f5a-cf3a-44cf-a8fb-925703a93b00"
      },
      "execution_count": 42,
      "outputs": [
        {
          "output_type": "stream",
          "name": "stdout",
          "text": [
            "Enter the string:saikat\n",
            "String entered by you is: saikat\n",
            "\n",
            "The reverse of the string is:takias\n"
          ]
        }
      ]
    },
    {
      "cell_type": "markdown",
      "source": [
        "*********************************************"
      ],
      "metadata": {
        "id": "jNafggYqcfu9"
      }
    },
    {
      "cell_type": "markdown",
      "source": [
        "3. Implement a Python function that takes a list of integers and returns a new list containing square of each number."
      ],
      "metadata": {
        "id": "AhEnrN7NMQ9v"
      }
    },
    {
      "cell_type": "code",
      "source": [
        "l = [1, 2, 4, 5, 6]\n",
        "print(f\"String provided : {l}\")\n",
        "x=[]\n",
        "def sq_list(l):\n",
        "  for i in l:\n",
        "    x.append(i**2)\n",
        "\n",
        "  return x\n",
        "\n",
        "sq_list(l)"
      ],
      "metadata": {
        "colab": {
          "base_uri": "https://localhost:8080/"
        },
        "id": "PG87Ya28MnDu",
        "outputId": "44735e8b-f2ea-468b-9d36-a5a3f8ae0935"
      },
      "execution_count": 43,
      "outputs": [
        {
          "output_type": "stream",
          "name": "stdout",
          "text": [
            "String provided : [1, 2, 4, 5, 6]\n"
          ]
        },
        {
          "output_type": "execute_result",
          "data": {
            "text/plain": [
              "[1, 4, 16, 25, 36]"
            ]
          },
          "metadata": {},
          "execution_count": 43
        }
      ]
    },
    {
      "cell_type": "markdown",
      "source": [
        "***********************************************"
      ],
      "metadata": {
        "id": "JlYISZKEckKA"
      }
    },
    {
      "cell_type": "markdown",
      "source": [
        "4. Write a Python function that checks if a given number is prime or not from 1 to 200."
      ],
      "metadata": {
        "id": "v4zKlvWxTw9c"
      }
    },
    {
      "cell_type": "code",
      "source": [
        "#Prime is a number which is divisible by itself and 1. eg: 2, 3, 5, 7, 11, etc\n",
        "def is_prime(num):\n",
        "  if num > 1 and num <= 200:\n",
        "    if num <= 1:\n",
        "      print(f\"{num} is not a prime number\")\n",
        "    else:\n",
        "      for i in range(2, num//2+1):\n",
        "        if num%i == 0:\n",
        "          print(f\"{num} is not a prime number\")\n",
        "          break\n",
        "        else:\n",
        "          print(f\"{num} is a prime number\")\n",
        "          break\n",
        "\n",
        "  else:\n",
        "    print(f\"{num} is out of range\")\n",
        "\n",
        "\n",
        "is_prime(201)\n"
      ],
      "metadata": {
        "colab": {
          "base_uri": "https://localhost:8080/"
        },
        "id": "Sdem4f9BUFF_",
        "outputId": "7b33662d-807e-4486-ecb7-7463696f63eb"
      },
      "execution_count": 44,
      "outputs": [
        {
          "output_type": "stream",
          "name": "stdout",
          "text": [
            "201 is out of range\n"
          ]
        }
      ]
    },
    {
      "cell_type": "code",
      "source": [
        "is_prime(11)"
      ],
      "metadata": {
        "colab": {
          "base_uri": "https://localhost:8080/"
        },
        "id": "EkNEF5bgeQOK",
        "outputId": "3a70a80f-7789-448f-ea7a-b3f2bd94315d"
      },
      "execution_count": 45,
      "outputs": [
        {
          "output_type": "stream",
          "name": "stdout",
          "text": [
            "11 is a prime number\n"
          ]
        }
      ]
    },
    {
      "cell_type": "code",
      "source": [
        "is_prime(4)"
      ],
      "metadata": {
        "colab": {
          "base_uri": "https://localhost:8080/"
        },
        "id": "0PzmC7yteefR",
        "outputId": "58a16f4d-171b-4061-d307-4fd7d02dd401"
      },
      "execution_count": 46,
      "outputs": [
        {
          "output_type": "stream",
          "name": "stdout",
          "text": [
            "4 is not a prime number\n"
          ]
        }
      ]
    },
    {
      "cell_type": "markdown",
      "source": [
        "************************************************"
      ],
      "metadata": {
        "id": "FxkEteSHcrEU"
      }
    },
    {
      "cell_type": "markdown",
      "source": [
        "5. Create an iterator class in Python that generates the Fibonacci sequence upto a specified number of terms."
      ],
      "metadata": {
        "id": "KEQXc17xes3a"
      }
    },
    {
      "cell_type": "code",
      "source": [
        "#Example\n",
        "class Fibonacci:\n",
        "  def __init__(self, limit):\n",
        "    self.limit = limit\n",
        "    self.a, self.b = 0, 1\n",
        "\n",
        "  def __iter__(self):\n",
        "    return self\n",
        "  def __next__(self):\n",
        "    if self.a > self.limit:\n",
        "      raise StopIteration\n",
        "    else:\n",
        "      self.a, self.b = self.b, self.a+self.b\n",
        "      return self.a\n",
        "\n",
        "\n",
        "iter_obj = iter(Fibonacci(100))\n",
        "for i in range(10):\n",
        "  print(next(iter_obj))"
      ],
      "metadata": {
        "colab": {
          "base_uri": "https://localhost:8080/"
        },
        "id": "1psUzAi7R3ij",
        "outputId": "153d2e55-d559-4cc2-dc32-37de6a4097ea"
      },
      "execution_count": 64,
      "outputs": [
        {
          "output_type": "stream",
          "name": "stdout",
          "text": [
            "1\n",
            "1\n",
            "2\n",
            "3\n",
            "5\n",
            "8\n",
            "13\n",
            "21\n",
            "34\n",
            "55\n"
          ]
        }
      ]
    },
    {
      "cell_type": "markdown",
      "source": [
        "************************************************"
      ],
      "metadata": {
        "id": "Jbe2Ulqkcwi9"
      }
    },
    {
      "cell_type": "markdown",
      "source": [
        "6. Write a generator function in Python that yields the power of 2 up to a given exponent."
      ],
      "metadata": {
        "id": "9ncP8D7Yh_q2"
      }
    },
    {
      "cell_type": "code",
      "source": [
        "end= int(input(\"Enter the exponent:\"))\n",
        "def generator_power():\n",
        "  for i in range(1, end+1):\n",
        "    yield 2**i\n",
        "\n",
        "for i in generator_power():\n",
        "  print(i)"
      ],
      "metadata": {
        "colab": {
          "base_uri": "https://localhost:8080/"
        },
        "id": "PN2ZiaRwiWiY",
        "outputId": "f8dace93-7def-4d7b-ca0b-66a2eaf8f66c"
      },
      "execution_count": 47,
      "outputs": [
        {
          "output_type": "stream",
          "name": "stdout",
          "text": [
            "Enter the exponent:5\n",
            "2\n",
            "4\n",
            "8\n",
            "16\n",
            "32\n"
          ]
        }
      ]
    },
    {
      "cell_type": "markdown",
      "source": [
        "************************************************"
      ],
      "metadata": {
        "id": "8MLhve0jc0d5"
      }
    },
    {
      "cell_type": "markdown",
      "source": [
        "7. Implement a generator function that reads a file line by line and yields each line as a string."
      ],
      "metadata": {
        "id": "b4auPEcvim0G"
      }
    },
    {
      "cell_type": "code",
      "source": [
        "#Example\n",
        "def Read_file_generator():\n",
        "  try:\n",
        "    with open(\"file.txt\", \"r\") as f:\n",
        "      for line in f:\n",
        "        yield line\n",
        "\n",
        "  except FileNotFoundError:\n",
        "    print(\"File not found\")\n",
        "    return # stops the generator\n",
        "\n",
        "for i in Read_file_generator():\n",
        "  print(i)"
      ],
      "metadata": {
        "id": "7r888SCvi6UR",
        "colab": {
          "base_uri": "https://localhost:8080/"
        },
        "outputId": "f41dc201-782e-45ea-bc34-b0edfe28f0f7"
      },
      "execution_count": 48,
      "outputs": [
        {
          "output_type": "stream",
          "name": "stdout",
          "text": [
            "File not found\n"
          ]
        }
      ]
    },
    {
      "cell_type": "markdown",
      "source": [
        "************************************************"
      ],
      "metadata": {
        "id": "tlvEzNi-c4xq"
      }
    },
    {
      "cell_type": "markdown",
      "source": [
        "8. Use a lambda function in Python to sort a list of tuples based on the second element of each tuple."
      ],
      "metadata": {
        "id": "sIrsH4Poi6rN"
      }
    },
    {
      "cell_type": "code",
      "source": [
        "lis_tuples =[(\"devu\", \"sai\", \"mitra\"),(\"pratik\", \"Diksha\", \"vivek\", \"monu\"), (\"sanju\", \"Bhai\", \"Viju\")]\n",
        "print(f\"List of tuples provided:\\n{lis_tuples}\\n\")\n",
        "lis_tuples.sort(key=lambda x: x[1])  # sort the list based on second element i.e. x[1] of tuples\n",
        "print(f\"Sorted list of tuples:\\n{lis_tuples}\")"
      ],
      "metadata": {
        "colab": {
          "base_uri": "https://localhost:8080/"
        },
        "id": "PtPJ3VfHjR6H",
        "outputId": "33dfe912-5273-4941-bb5a-0fbcadda1913"
      },
      "execution_count": 49,
      "outputs": [
        {
          "output_type": "stream",
          "name": "stdout",
          "text": [
            "List of tuples provided:\n",
            "[('devu', 'sai', 'mitra'), ('pratik', 'Diksha', 'vivek', 'monu'), ('sanju', 'Bhai', 'Viju')]\n",
            "\n",
            "Sorted list of tuples:\n",
            "[('sanju', 'Bhai', 'Viju'), ('pratik', 'Diksha', 'vivek', 'monu'), ('devu', 'sai', 'mitra')]\n"
          ]
        }
      ]
    },
    {
      "cell_type": "markdown",
      "source": [
        "************************************************"
      ],
      "metadata": {
        "id": "xhDdeFYuc_YV"
      }
    },
    {
      "cell_type": "markdown",
      "source": [
        "9. Write a Python program that uses 'map()' to convert a list temperatures from celcius to fahrenheit."
      ],
      "metadata": {
        "id": "0kmGmsY-jT2G"
      }
    },
    {
      "cell_type": "code",
      "source": [
        "temp_list = [20, 12, 30, 25]\n",
        "def temp_conv(temp_list):\n",
        "  fahren_list = list(map(lambda x: (x*9/5)+32, temp_list))\n",
        "  return fahren_list\n",
        "\n",
        "temp_conv(temp_list)"
      ],
      "metadata": {
        "colab": {
          "base_uri": "https://localhost:8080/"
        },
        "id": "P4aPodyFjSGE",
        "outputId": "21e16993-5ac8-487b-87ad-f6e209525b38"
      },
      "execution_count": 78,
      "outputs": [
        {
          "output_type": "execute_result",
          "data": {
            "text/plain": [
              "[68.0, 53.6, 86.0, 77.0]"
            ]
          },
          "metadata": {},
          "execution_count": 78
        }
      ]
    },
    {
      "cell_type": "markdown",
      "source": [
        "10. Create a Python program that uses 'filter()' to remove all the vowels from a given string."
      ],
      "metadata": {
        "id": "tS3LuF40AA9J"
      }
    },
    {
      "cell_type": "code",
      "source": [
        "vowels = ['a', 'e', 'i', 'o', 'u', 'A', 'E', 'I', 'O', 'U']\n",
        "str_ing= input(\"Enter the string:\")\n",
        "print(f\"\\nString entered by you is: {str_ing}\\n\")\n",
        "list(filter(lambda x : x not in vowels, str_ing))"
      ],
      "metadata": {
        "colab": {
          "base_uri": "https://localhost:8080/"
        },
        "id": "1HlX--NnAY4A",
        "outputId": "77092dcc-49aa-4fa8-f55b-9d559d6db9bb"
      },
      "execution_count": 73,
      "outputs": [
        {
          "output_type": "stream",
          "name": "stdout",
          "text": [
            "Enter the string:data science\n",
            "\n",
            "String entered by you is: data science\n",
            "\n"
          ]
        },
        {
          "output_type": "execute_result",
          "data": {
            "text/plain": [
              "['d', 't', ' ', 's', 'c', 'n', 'c']"
            ]
          },
          "metadata": {},
          "execution_count": 73
        }
      ]
    },
    {
      "cell_type": "markdown",
      "source": [
        "************************************************"
      ],
      "metadata": {
        "id": "x1cjbQ8FdD25"
      }
    },
    {
      "cell_type": "markdown",
      "source": [
        "11. Imagine an accounting routine used in a book shop. It works on a list with sublist, which looks like this:\n",
        "-\n",
        "Order Number >>    Book Title and Author>>      Quantity>>     Price per Item\n",
        "\n",
        "\n",
        "-\n",
        "Write a Python program, which returns a list with 2-tuples. Each tuple consists of the order number and the product of the price per item and the quantity. The product should be increased by 10, if the value of the order is smaller than 100.00.\n",
        "-\n",
        "\n",
        "Write a program using map and lambda function."
      ],
      "metadata": {
        "id": "Qo6hWYDMDQCN"
      }
    },
    {
      "cell_type": "code",
      "source": [
        "# Example\n",
        "orders = [ [\"34587\", \"  Learning Python, Mark Lutz\", 4, 40.95],\n",
        "           [\"98762\", \"   Programming Python, Mark Lutz\", 5, 56.80],\n",
        "           [\"77226\", \"   Head First Python, Paul Barry\", 3, 32.95],\n",
        "           [\"88112\", \"   Einführung in Python3, Bernd Klein\", 3, 24.99]]\n",
        "print(f\"Order Number\\tBook Title and Author\\tQuantity\\tPrice per Item\\n{orders[0]}\\n{orders[1]}\\n{orders[2]}\\n{orders[3]}\")\n",
        "\n",
        "order_list = list(map(lambda x: (x[0], x[2]*x[3]) if x[2]*x[3] >= 100 else (x[0], x[2]*x[3]+10), orders))\n",
        "print(f\"\\nOrderNumber  TotalPrice\\n{order_list[0]}\\n{order_list[1]}\\n{order_list[2]}\\n{order_list[3]}\")\n",
        "#\n",
        "#"
      ],
      "metadata": {
        "id": "THsbt3OB8Z7D",
        "colab": {
          "base_uri": "https://localhost:8080/"
        },
        "outputId": "20a0de04-b544-45c2-9868-d76c6af55a81"
      },
      "execution_count": 88,
      "outputs": [
        {
          "output_type": "stream",
          "name": "stdout",
          "text": [
            "Order Number\tBook Title and Author\tQuantity\tPrice per Item\n",
            "['34587', '  Learning Python, Mark Lutz', 4, 40.95]\n",
            "['98762', '   Programming Python, Mark Lutz', 5, 56.8]\n",
            "['77226', '   Head First Python, Paul Barry', 3, 32.95]\n",
            "['88112', '   Einführung in Python3, Bernd Klein', 3, 24.99]\n",
            "\n",
            "OrderNumber  TotalPrice\n",
            "('34587', 163.8)\n",
            "('98762', 284.0)\n",
            "('77226', 108.85000000000001)\n",
            "('88112', 84.97)\n"
          ]
        }
      ]
    },
    {
      "cell_type": "markdown",
      "source": [
        "************************************************************************************************"
      ],
      "metadata": {
        "id": "3Zwt5adpdJja"
      }
    }
  ]
}