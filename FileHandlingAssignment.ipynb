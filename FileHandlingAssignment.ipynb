{
  "nbformat": 4,
  "nbformat_minor": 0,
  "metadata": {
    "colab": {
      "provenance": [],
      "authorship_tag": "ABX9TyNlDDWT2RgG2G4NPsmkZnzr",
      "include_colab_link": true
    },
    "kernelspec": {
      "name": "python3",
      "display_name": "Python 3"
    },
    "language_info": {
      "name": "python"
    }
  },
  "cells": [
    {
      "cell_type": "markdown",
      "metadata": {
        "id": "view-in-github",
        "colab_type": "text"
      },
      "source": [
        "<a href=\"https://colab.research.google.com/github/Devyani916/PythonBasicsAssignment/blob/main/FileHandlingAssignment.ipynb\" target=\"_parent\"><img src=\"https://colab.research.google.com/assets/colab-badge.svg\" alt=\"Open In Colab\"/></a>"
      ]
    },
    {
      "cell_type": "markdown",
      "source": [
        "**Files, Exceptional handling, logging and memory management Assignment**"
      ],
      "metadata": {
        "id": "ROpQaODsfG2s"
      }
    },
    {
      "cell_type": "markdown",
      "source": [
        "***Theory Questions***"
      ],
      "metadata": {
        "id": "J7Kus-Q4fZ8e"
      }
    },
    {
      "cell_type": "markdown",
      "source": [
        "1. What is the difference between interpreted and compiled language?\n",
        "- Interpreted Language: An interpreted language is a programming language that is generally interpreted, without compiling a program into machine instructions instead it is directly executed. Interpreted language ranges JavaScript, Perl, Python, etc.\n",
        "- Compiled Language: A compiled language is a programming language that is generally compiled and not interpreted. Once compiled, is converted into binary language or machine understandable language; this code is not human readable. Types of compiled language C, C++, C#, etc.\n",
        "________________________________________________________________________________"
      ],
      "metadata": {
        "id": "vv0iRogiffAv"
      }
    },
    {
      "cell_type": "markdown",
      "source": [
        "2. What is exception handling in Python?\n",
        "- Exception handling in Python is the process of responding to errors that occur during program execution. It allows you to catch and manage errors so that the program doesn't crash.\n",
        "________________________________________________________________________________"
      ],
      "metadata": {
        "id": "jh8BNlOKjuTs"
      }
    },
    {
      "cell_type": "markdown",
      "source": [
        "3. What is the purpose of the finally block in exception handling?\n",
        "- The finally block is that part of exception handling which will execute important code such as closing resources, regardless of whether an exception is thrown or not. The finally block always executes when the try block exits.\n",
        "________________________________________________________________________________"
      ],
      "metadata": {
        "id": "4MjJhT0akMhn"
      }
    },
    {
      "cell_type": "markdown",
      "source": [
        "4. What is logging in Python?\n",
        "- Logging>> It records the state and flow of your program/code/software it is useful for understanding, monitoring and debugging of your code it shows how program behaves over time.\n",
        "________________________________________________________________________________"
      ],
      "metadata": {
        "id": "St2wpCDOlVlV"
      }
    },
    {
      "cell_type": "markdown",
      "source": [
        "5. What is the significance of the `__del__()` method in Python?\n",
        "- The `__del__()` method is also known as destructor method and it is powerful tool for managing resource cleanup when objects are destroyed.\n",
        "________________________________________________________________________________"
      ],
      "metadata": {
        "id": "9ckV_ByxwYRk"
      }
    },
    {
      "cell_type": "markdown",
      "source": [
        "6. What is the difference between import and from ... import in Python?\n",
        "- In general, we use the import statement when we need to use many attributes from a module, or when the module name is short and easy to remember. we use the from statement when we only need to use a few attributes from a module, or when the module name is long and hard to remember.\n",
        "________________________________________________________________________________"
      ],
      "metadata": {
        "id": "NoPFaDRjyGTK"
      }
    },
    {
      "cell_type": "markdown",
      "source": [
        "7. How can you handle multiple exceptions in Python?\n",
        "- If we can handle different exceptions in a single block of code, they can be grouped together in a tuple. The exceptions specified within the try block, the code in the except block will be executed.\n",
        "________________________________________________________________________________"
      ],
      "metadata": {
        "id": "YJ-cIEBVy-7O"
      }
    },
    {
      "cell_type": "markdown",
      "source": [
        "8. What is the purpose of the with statement when handling files in Python?\n",
        "- Using 'with' statement while opening a file ensures the file is properly closed after its suite finishes, even if an exception is raised, making the code cleaner, more readable, and efficient in managing resources.\n",
        "________________________________________________________________________________"
      ],
      "metadata": {
        "id": "3kci__bo1RlC"
      }
    },
    {
      "cell_type": "markdown",
      "source": [
        "9. What is the difference between multithreading and multiprocessing?\n",
        "- In multithreading, multiple threads  of a process to do different tasks, at about the same time, just one after the other. This gives you the illusion that the threads are running in parallel, but they are actually run in a concurrent manner.\n",
        "- In multiprocessing, multiple processes are run across multiple CPU cores, which do not share the resources among them. Each process can have many threads running in its own memory space. In Python, each process has its own instance of Python interpreter doing the job of executing the instructions.\n",
        "________________________________________________________________________________"
      ],
      "metadata": {
        "id": "jiJoMB4b4wnE"
      }
    },
    {
      "cell_type": "markdown",
      "source": [
        "10. What are the advantages of using logging in a program?\n",
        "- Logging in programming offers numerous advantages, including enhanced debugging, easier troubleshooting, improved security monitoring, and the ability to track user behavior and system performance, ultimately leading to more robust and maintainable applications.\n",
        "________________________________________________________________________________"
      ],
      "metadata": {
        "id": "4dEwavaUBkHL"
      }
    },
    {
      "cell_type": "markdown",
      "source": [
        "11. What is the memory management in Python?\n",
        "- Python memory management is the process of allocating and dealing with memory so that the programs can run efficiently. One advantage of Python, compared to other programming languages, is that it can perform memory management tasks automatically.\n",
        "________________________________________________________________________________"
      ],
      "metadata": {
        "id": "IWh4W_ZdFFXL"
      }
    },
    {
      "cell_type": "markdown",
      "source": [
        "12. What are the basic steps involved in exception handling in Python?\n",
        "- The exception handling involves `try, except, else and finally block.`\n",
        "  1. `try block`: Encloses the code that might raise an exception.\n",
        "  2. `except block`: Handles specific exceptions raised in the try block. We can have multiple except blocks to handle different types of exceptions.\n",
        "  3. `else block` (optional): Executes if no exceptions are raised in the try block.\n",
        "  4. `finally block` (optional): Always executes, regardless of whether an exception occurred or not, used for cleanup tasks like closing files or releasing the resources.\n",
        "________________________________________________________________________________\n",
        "\n"
      ],
      "metadata": {
        "id": "K6Rv7kPmGGM1"
      }
    },
    {
      "cell_type": "markdown",
      "source": [
        "13. Why is memory management important in Python?\n",
        "- Memory management is very crucial part of programming as it directly impacts performance, efficiency and stability of the system. It maintain the stability by efficiently allocating the resources and memory without any leaks which directly optimized the resource and memory usage.\n",
        "________________________________________________________________________________"
      ],
      "metadata": {
        "id": "2tJy8QbLHdDh"
      }
    },
    {
      "cell_type": "markdown",
      "source": [
        "14. What is the role of try and except in exception handling?\n",
        "- The `try block` encloses the code that might raise an exception. And the `except block` handles specific exceptions raised in the try block. We can have multiple except blocks to handle different types of exceptions.\n",
        "________________________________________________________________________________"
      ],
      "metadata": {
        "id": "OjLtHpi1IpTR"
      }
    },
    {
      "cell_type": "markdown",
      "source": [
        "15. How does Python's garbage collection system work?\n",
        "- Garbage collection in Python is very useful to open up the memory space. Garbage collection can be done two ways: reference counting and generational.\n",
        "The reference counting cleanup the object immediately once it reaches to the count `0`. The generational garbage collection is an advanced method of cleaning objects based on their age to optimized the resource and memory management.\n",
        "________________________________________________________________________________"
      ],
      "metadata": {
        "id": "Xyzq7soRJk1h"
      }
    },
    {
      "cell_type": "markdown",
      "source": [
        "16. What is the purpose of the else block in exceptional handling?\n",
        "- The else block is an optional block in exception handling which is executed when no exception raised in try block and useful when we want to perform specific actions when no exceptions occur.\n",
        "________________________________________________________________________________"
      ],
      "metadata": {
        "id": "Bf7GiwkmLmCo"
      }
    },
    {
      "cell_type": "markdown",
      "source": [
        "17. What are the common logging levels in Python?\n",
        "- There are six levels for logging in Python; each level is associated with an integer that indicates the log severity: `NOTSET=0, DEBUG=10, INFO=20, WARN=30, ERROR=40, and CRITICAL=50`.\n",
        "________________________________________________________________________________"
      ],
      "metadata": {
        "id": "Pi_2Dm5qMZhc"
      }
    },
    {
      "cell_type": "markdown",
      "source": [
        "18. What is the difference between `os.fork()` and multiprocessing in Python?\n",
        "- The fork system call does not exist on Windows. Therefore, when running a Windows OS we cannot use this method. Multiprocessing has a higher-level interface to execute a part of the currently running program. Therefore, consider fork() for a lower-level interface to forking a program, and the multiprocessing library to be a higher-level interface to forking a program.\n",
        "________________________________________________________________________________"
      ],
      "metadata": {
        "id": "YtJWLqAQMvQF"
      }
    },
    {
      "cell_type": "markdown",
      "source": [
        "19. What is the importance of closing a file in Python?\n",
        "- Closing a file is a crucial part of file management in programming, as it ensures the release of system resources, data integrity, and prevents data corruption. It is essential to close files after using them to maintain the stability and reliability of any application that involves file handling.\n",
        "________________________________________________________________________________\n",
        "\n"
      ],
      "metadata": {
        "id": "twS5YgmZOBl3"
      }
    },
    {
      "cell_type": "markdown",
      "source": [
        "20. What is the difference between file.read() and file.readline() in Python?\n",
        "- The key difference between file.read() and file.readline() is that file.read() reads the complete file whereas, file.readline() reads the first line of the file.\n",
        "________________________________________________________________________________"
      ],
      "metadata": {
        "id": "S3dr_GJev6aZ"
      }
    },
    {
      "cell_type": "markdown",
      "source": [
        "21. What is the logging module in Python used for?\n",
        "- Logging in Python keeps track of events while software runs. Logging is important for software developing, debugging, and running. Without using logging record if program crashes, there are very few chances that you detect the cause of the problem.\n",
        "\n",
        "---\n",
        "\n"
      ],
      "metadata": {
        "id": "pAMWEPCyGxOB"
      }
    },
    {
      "cell_type": "markdown",
      "source": [
        "22. What is the os module in Python used for in file handling?\n",
        "- Python has a built-in os module with methods for interacting with the operating system, like creating files and directories, management of files and directories, input, output, environment variables, process management, etc.\n",
        "\n",
        "\n",
        "---\n",
        "\n"
      ],
      "metadata": {
        "id": "0WoditO9Ge0e"
      }
    },
    {
      "cell_type": "markdown",
      "source": [
        "23. What are the challenges associated with memory management in Python?\n",
        "- Memory management in Python is  convenient, but presents some challenges like potential memory leaks due to circular references and the difficulty of debugging memory-related issues, garbage collection overhead, dynamic memory allocation, memory profiling, memory consumption, etc.\n",
        "\n",
        "---\n",
        "\n"
      ],
      "metadata": {
        "id": "LtAW4qDtFp7u"
      }
    },
    {
      "cell_type": "markdown",
      "source": [
        "24. How do you raise an exception manually in Python?\n",
        "- The raise keyword is used to raise an exception.We can define what kind of error to raise, and the text to print to the user.\n",
        "________________________________________________________________________________"
      ],
      "metadata": {
        "id": "H4h2a7WyE9Do"
      }
    },
    {
      "cell_type": "markdown",
      "source": [
        "25. Why is it important to use multithreading in certain applications?\n",
        "- Multithreading is crucial for applications demanding concurrent execution, improved performance, and efficient resource utilization, especially in modern multiprocessor systems. By dividing tasks into smaller threads, applications can achieve higher throughput, better responsiveness, and enhanced scalability.\n",
        "________________________________________________________________________________\n",
        "\n",
        "---\n",
        "\n"
      ],
      "metadata": {
        "id": "sDt85weeFRCl"
      }
    },
    {
      "cell_type": "markdown",
      "source": [
        "***Practical Questions***"
      ],
      "metadata": {
        "id": "lLyNluWtHl-2"
      }
    },
    {
      "cell_type": "markdown",
      "source": [
        "1. How can you open a file for writing in Python and write a string to it?"
      ],
      "metadata": {
        "id": "AB9cScNzHrBL"
      }
    },
    {
      "cell_type": "code",
      "source": [
        "file = open(\"example.txt\", \"w\")\n",
        "file.write(\"Hello, World!\")\n",
        "file.close()"
      ],
      "metadata": {
        "id": "8U8EEEBRH8uS"
      },
      "execution_count": null,
      "outputs": []
    },
    {
      "cell_type": "markdown",
      "source": [
        "_____________________________________________________________"
      ],
      "metadata": {
        "id": "aaatyK3A8z5t"
      }
    },
    {
      "cell_type": "markdown",
      "source": [
        "2. Write a Python program to read the contents of a file and print each line."
      ],
      "metadata": {
        "id": "x4ST1bW0IXvq"
      }
    },
    {
      "cell_type": "code",
      "source": [
        "file = open(\"example.txt\", \"r\")\n",
        "print(file.read())\n",
        "file.close()"
      ],
      "metadata": {
        "colab": {
          "base_uri": "https://localhost:8080/"
        },
        "id": "JxwSZaRCInvS",
        "outputId": "fbb38a5d-10b0-4261-f0b3-75087171f037"
      },
      "execution_count": null,
      "outputs": [
        {
          "output_type": "stream",
          "name": "stdout",
          "text": [
            "Hello, World!\n"
          ]
        }
      ]
    },
    {
      "cell_type": "markdown",
      "source": [
        "_____________________________________________________________"
      ],
      "metadata": {
        "id": "1m2IBu5Z83Rh"
      }
    },
    {
      "cell_type": "markdown",
      "source": [
        "3. How would you handle a case where the file doesn't exist while tryig to open it for reading?\n",
        "- In this we can open a file 'w' mode instead of 'r' mode. 'w' mode will create a new file and open it in a write mode. Post that close the file and again open it in 'r' mode for reading."
      ],
      "metadata": {
        "id": "2DQAglGyJfpV"
      }
    },
    {
      "cell_type": "code",
      "source": [
        "f = open(\"f2.txt\", 'w')\n",
        "f.close()\n",
        "f = open(\"f2.txt\", 'r')\n",
        "print(f.read())\n",
        "f.close()"
      ],
      "metadata": {
        "colab": {
          "base_uri": "https://localhost:8080/"
        },
        "id": "jNytkqL8KVlv",
        "outputId": "8dd776fb-2423-4d3c-dc22-fb99ccfe7715"
      },
      "execution_count": null,
      "outputs": [
        {
          "output_type": "stream",
          "name": "stdout",
          "text": [
            "\n"
          ]
        }
      ]
    },
    {
      "cell_type": "markdown",
      "source": [
        "_____________________________________________________________"
      ],
      "metadata": {
        "id": "2-LvvExC9AR9"
      }
    },
    {
      "cell_type": "markdown",
      "source": [
        "4. Write a Python script that reads from one file and writes its content to another file."
      ],
      "metadata": {
        "id": "-R0vh-G4MNSn"
      }
    },
    {
      "cell_type": "code",
      "source": [
        "file1 = open(\"file.txt\", \"r\")\n",
        "file2 = open(\"f2.txt\", \"w\")\n",
        "file2.write(file1.read())\n",
        "file1.close()\n",
        "file2.close()"
      ],
      "metadata": {
        "id": "4fq30EMDMnL_"
      },
      "execution_count": 113,
      "outputs": []
    },
    {
      "cell_type": "markdown",
      "source": [
        "_____________________________________________________________"
      ],
      "metadata": {
        "id": "TXE7i-xh9C9U"
      }
    },
    {
      "cell_type": "markdown",
      "source": [
        "5. How do you catch and handle division by zero error in Python?"
      ],
      "metadata": {
        "id": "bkQn5EEjM8t9"
      }
    },
    {
      "cell_type": "code",
      "source": [
        "try:\n",
        "  num = 10/0\n",
        "except ZeroDivisionError as e:\n",
        "  print(f\"Error: {e}\")"
      ],
      "metadata": {
        "colab": {
          "base_uri": "https://localhost:8080/"
        },
        "id": "4In_6iwOdSv2",
        "outputId": "3c5c6af7-7404-4b61-ac7a-4cf4aec911b3"
      },
      "execution_count": null,
      "outputs": [
        {
          "output_type": "stream",
          "name": "stdout",
          "text": [
            "Error: division by zero\n"
          ]
        }
      ]
    },
    {
      "cell_type": "markdown",
      "source": [
        "________________________________________"
      ],
      "metadata": {
        "id": "I0zXU2-y9kYN"
      }
    },
    {
      "cell_type": "markdown",
      "source": [
        "6. Write a Python program that logs an error message to a log file when a division by zero exception occurs."
      ],
      "metadata": {
        "id": "9eJVhj_feJkR"
      }
    },
    {
      "cell_type": "code",
      "source": [
        "import logging\n",
        "logging.basicConfig(filename = \"program1.log\", level = logging.DEBUG)\n",
        "try:\n",
        "    10/0\n",
        "except ZeroDivisionError as e:\n",
        "    logging.error(f\"My file was not found {e}\")"
      ],
      "metadata": {
        "colab": {
          "base_uri": "https://localhost:8080/"
        },
        "id": "06qrglPgeo_e",
        "outputId": "235459f2-f1c9-49b0-f85e-94c4bd7699b3"
      },
      "execution_count": null,
      "outputs": [
        {
          "output_type": "stream",
          "name": "stderr",
          "text": [
            "ERROR:root:My file was not found division by zero\n"
          ]
        }
      ]
    },
    {
      "cell_type": "markdown",
      "source": [
        "_____________________________________________________________"
      ],
      "metadata": {
        "id": "gP-30h3k-fRr"
      }
    },
    {
      "cell_type": "markdown",
      "source": [
        "7. How do you log information at different levels(INFO, ERROR, WARNING) in Python using the logging module?\n",
        "- INFO>>This is used to convey that the code is working as expected\n",
        "-WARNING>>Used to indicate that something unexpected happend or potential issue in the code\n",
        "-ERROR > Serious problem with some function"
      ],
      "metadata": {
        "id": "t_F84RhLg8uY"
      }
    },
    {
      "cell_type": "code",
      "source": [
        "import logging\n",
        "logging.basicConfig(filename = \"test.log\", level = logging.INFO)\n",
        "logging.info(\"This is my info log\")\n",
        "logging.error(\"This is my error log\")\n",
        "logging.warning(\"This is my warning log\")\n",
        "logging.shutdown()"
      ],
      "metadata": {
        "id": "jD6UDJo9hY1W",
        "colab": {
          "base_uri": "https://localhost:8080/"
        },
        "outputId": "7c7006b2-f8b7-4430-84c0-3919ce9a167c"
      },
      "execution_count": 1,
      "outputs": [
        {
          "output_type": "stream",
          "name": "stderr",
          "text": [
            "ERROR:root:This is my error log\n",
            "WARNING:root:This is my warning log\n"
          ]
        }
      ]
    },
    {
      "cell_type": "markdown",
      "source": [
        "\n",
        "\n",
        "---\n",
        "\n"
      ],
      "metadata": {
        "id": "aznv_v32-i86"
      }
    },
    {
      "cell_type": "markdown",
      "source": [
        "8. Write a program to handle a file opening error using exception handling."
      ],
      "metadata": {
        "id": "VQl91cBxxfWb"
      }
    },
    {
      "cell_type": "code",
      "source": [
        "try:\n",
        "    f = open(\"example.txt\", \"r\")\n",
        "    f.read()\n",
        "except Exception as e: #parent class\n",
        "    print(f\"File is not opened due to: {e}\")\n",
        "except FileNotFoundError as e:\n",
        "    print(f\"The following file was not created, please re run the code: {e}\")"
      ],
      "metadata": {
        "colab": {
          "base_uri": "https://localhost:8080/"
        },
        "id": "Uq7xoRdkxs0I",
        "outputId": "bb80b62c-1bff-4441-8f70-c1227aba7756"
      },
      "execution_count": 2,
      "outputs": [
        {
          "output_type": "stream",
          "name": "stdout",
          "text": [
            "File is not opened due to: [Errno 2] No such file or directory: 'example.txt'\n"
          ]
        }
      ]
    },
    {
      "cell_type": "markdown",
      "source": [
        "\n",
        "\n",
        "---\n",
        "\n"
      ],
      "metadata": {
        "id": "PxZloS4Z-n1O"
      }
    },
    {
      "cell_type": "markdown",
      "source": [
        "9. How can you read file line by line and store its content in a list in Python?"
      ],
      "metadata": {
        "id": "f7cit2m_5zjA"
      }
    },
    {
      "cell_type": "code",
      "source": [
        "f1 = open(\"file.txt\", \"w\")\n",
        "f1.write(\"This is first line\\n\")\n",
        "f1.write(\"This is second line\\n\")\n",
        "f1.close()\n",
        "data = []\n",
        "with open(\"file.txt\",'r') as f :\n",
        "    data = f.readlines()\n",
        "    print(data)\n",
        "\n"
      ],
      "metadata": {
        "colab": {
          "base_uri": "https://localhost:8080/"
        },
        "id": "xhiC-TWn6FW9",
        "outputId": "d10a6afd-ef25-4611-f2f9-27c6b2f00b73"
      },
      "execution_count": 15,
      "outputs": [
        {
          "output_type": "stream",
          "name": "stdout",
          "text": [
            "['This is first line\\n', 'This is second line\\n']\n"
          ]
        }
      ]
    },
    {
      "cell_type": "markdown",
      "source": [
        "\n",
        "\n",
        "---\n",
        "\n"
      ],
      "metadata": {
        "id": "mxZixVZv-p3k"
      }
    },
    {
      "cell_type": "markdown",
      "source": [
        "10. How can you append data to an existing file in Python?"
      ],
      "metadata": {
        "id": "Xxdwnmde62ZE"
      }
    },
    {
      "cell_type": "code",
      "source": [
        "with open(\"file.txt\", 'a') as f:\n",
        "  f.write(\"This is new line added\")"
      ],
      "metadata": {
        "id": "CM5G0jHA7AvU"
      },
      "execution_count": 16,
      "outputs": []
    },
    {
      "cell_type": "code",
      "source": [
        "with open(\"file.txt\", 'r') as f:\n",
        "  print(f.read())"
      ],
      "metadata": {
        "colab": {
          "base_uri": "https://localhost:8080/"
        },
        "id": "BNWfrKW98gM_",
        "outputId": "ed2587f1-2e5b-4980-e014-20b822ba88f7"
      },
      "execution_count": 17,
      "outputs": [
        {
          "output_type": "stream",
          "name": "stdout",
          "text": [
            "This is first line\n",
            "This is second line\n",
            "This is new line added\n"
          ]
        }
      ]
    },
    {
      "cell_type": "markdown",
      "source": [
        "\n",
        "\n",
        "---\n",
        "\n"
      ],
      "metadata": {
        "id": "ICqIQ4mQ-snu"
      }
    },
    {
      "cell_type": "markdown",
      "source": [
        "11. Write a Python program that uses a try-except block to handle an error when attempting to access a dictionary key that doesn't exist."
      ],
      "metadata": {
        "id": "TPShsMwR8svQ"
      }
    },
    {
      "cell_type": "code",
      "source": [
        "try:\n",
        "    d = {\"Name\": \"Devyani\", \"Age\": 27}\n",
        "    d[\"Salary\"]\n",
        "except KeyError as e:\n",
        "    print(f\"The key is not found : {e}\")"
      ],
      "metadata": {
        "colab": {
          "base_uri": "https://localhost:8080/"
        },
        "id": "TR4KElTk9Nu_",
        "outputId": "033b1e84-902c-48fd-f730-bb91c74b6ad5"
      },
      "execution_count": 19,
      "outputs": [
        {
          "output_type": "stream",
          "name": "stdout",
          "text": [
            "The key is not found : 'Salary'\n"
          ]
        }
      ]
    },
    {
      "cell_type": "markdown",
      "source": [
        "\n",
        "\n",
        "---\n",
        "\n"
      ],
      "metadata": {
        "id": "FBfpj8DQ-wJ3"
      }
    },
    {
      "cell_type": "markdown",
      "source": [
        "12. Write a program that demonstrates using multiple except blocks to handle different types of exceptions."
      ],
      "metadata": {
        "id": "QkMhdej_9wcO"
      }
    },
    {
      "cell_type": "code",
      "source": [
        "try:\n",
        "    10/\"string\"\n",
        "except ZeroDivisionError as e:\n",
        "    print(f\"The divison is not possible due the error>> {e}\")\n",
        "except Exception as e:\n",
        "    print(f\"The error is: {e}\")"
      ],
      "metadata": {
        "colab": {
          "base_uri": "https://localhost:8080/"
        },
        "id": "9IeT9mOh-EFV",
        "outputId": "79ec6c07-cd8c-4713-efd6-19f9556544ad"
      },
      "execution_count": 20,
      "outputs": [
        {
          "output_type": "stream",
          "name": "stdout",
          "text": [
            "The error is: unsupported operand type(s) for /: 'int' and 'str'\n"
          ]
        }
      ]
    },
    {
      "cell_type": "markdown",
      "source": [
        "\n",
        "\n",
        "---\n",
        "\n"
      ],
      "metadata": {
        "id": "ZrARpbWj-ywE"
      }
    },
    {
      "cell_type": "markdown",
      "source": [
        "13. How would you check if a file exists before attempting to read it in Python?"
      ],
      "metadata": {
        "id": "1L-c4EEi-wZr"
      }
    },
    {
      "cell_type": "code",
      "source": [
        "import os\n",
        "file = os.listdir()\n",
        "f1 = input(\"Enter name of the file to be read:\")\n",
        "if f1 not in os.listdir():\n",
        "  print(\"\\nFile does not exist\")\n",
        "else:\n",
        "  f = open(f1, 'r')\n",
        "  print(f.read())\n",
        "  f.close()"
      ],
      "metadata": {
        "colab": {
          "base_uri": "https://localhost:8080/"
        },
        "id": "EnlMjHVF_Bl3",
        "outputId": "6e71b291-d5a1-49e9-e727-eb4a4a36f544"
      },
      "execution_count": 108,
      "outputs": [
        {
          "output_type": "stream",
          "name": "stdout",
          "text": [
            "Enter name of the file to be read:myfile.txt\n",
            "\n",
            "File does not exist\n"
          ]
        }
      ]
    },
    {
      "cell_type": "markdown",
      "source": [
        "\n",
        "\n",
        "---\n",
        "\n"
      ],
      "metadata": {
        "id": "6RTCBdcL-1UU"
      }
    },
    {
      "cell_type": "markdown",
      "source": [
        "14. Write a program that uses the logging module to log both informational and error messages."
      ],
      "metadata": {
        "id": "WLS9N0g7Amxc"
      }
    },
    {
      "cell_type": "code",
      "source": [
        "import logging\n",
        "logging.basicConfig(filename = \"program.log\", level = logging.DEBUG)\n",
        "\n",
        "try:\n",
        "    f = open(\"example.txt\", \"r\")\n",
        "    f.read()\n",
        "except FileNotFoundError as e:\n",
        "    logging.error(f\"My file was not found {e}\")"
      ],
      "metadata": {
        "colab": {
          "base_uri": "https://localhost:8080/"
        },
        "id": "732YRkGFA5e8",
        "outputId": "22463e1d-6274-415d-e4c9-1d9b289a51e9"
      },
      "execution_count": 22,
      "outputs": [
        {
          "output_type": "stream",
          "name": "stderr",
          "text": [
            "ERROR:root:My file was not found [Errno 2] No such file or directory: 'example.txt'\n"
          ]
        }
      ]
    },
    {
      "cell_type": "markdown",
      "source": [
        "\n",
        "\n",
        "---\n",
        "\n"
      ],
      "metadata": {
        "id": "VpFcY_Wv-3yu"
      }
    },
    {
      "cell_type": "markdown",
      "source": [
        "15. Write a Python program that prints the content of a file and handles the case when the file is empty."
      ],
      "metadata": {
        "id": "n6sXWE0dBeRk"
      }
    },
    {
      "cell_type": "code",
      "source": [
        "import os\n",
        "fi = open(\"file1.txt\", \"w\")\n",
        "fi.close()\n",
        "with open(\"file1.txt\", 'r') as f:\n",
        "    file_size = os.path.getsize(\"/content/file1.txt\")\n",
        "    if file_size == 0:\n",
        "        print(\"File is empty\")\n",
        "    else:\n",
        "        print(f.read())"
      ],
      "metadata": {
        "colab": {
          "base_uri": "https://localhost:8080/"
        },
        "id": "jxbtwHKWCKMz",
        "outputId": "91c5123d-28c2-4cfe-d611-0df6c756e938"
      },
      "execution_count": 37,
      "outputs": [
        {
          "output_type": "stream",
          "name": "stdout",
          "text": [
            "File is empty\n"
          ]
        }
      ]
    },
    {
      "cell_type": "markdown",
      "source": [
        "\n",
        "\n",
        "---\n",
        "\n"
      ],
      "metadata": {
        "id": "344wsa6X-6wG"
      }
    },
    {
      "cell_type": "markdown",
      "source": [
        "16. Demonstrate how to use memory profiling to check the memory usage of a small program."
      ],
      "metadata": {
        "id": "g6HDxc9VYQO9"
      }
    },
    {
      "cell_type": "code",
      "source": [
        "import memory_profiler as mem_profile\n",
        "\n",
        "@mem_profile.profile\n",
        "def greet(name):\n",
        "  print(f\"Welcome {name}!\")\n",
        "\n",
        "greet(\"Devyani\")"
      ],
      "metadata": {
        "colab": {
          "base_uri": "https://localhost:8080/"
        },
        "id": "Ka2W8jLYYpN-",
        "outputId": "e55b3469-eeca-4b10-b346-6f779a460503"
      },
      "execution_count": 48,
      "outputs": [
        {
          "output_type": "stream",
          "name": "stdout",
          "text": [
            "ERROR: Could not find file <ipython-input-48-1cdeccc2c98d>\n",
            "NOTE: %mprun can only be used on functions defined in physical files, and not in the IPython environment.\n",
            "Welcome Devyani!\n"
          ]
        }
      ]
    },
    {
      "cell_type": "markdown",
      "source": [
        "\n",
        "\n",
        "---\n",
        "\n"
      ],
      "metadata": {
        "id": "6UarP5iU--BO"
      }
    },
    {
      "cell_type": "markdown",
      "source": [
        "17. Write a Python program to create and write a list of numbers to a file, one number per line."
      ],
      "metadata": {
        "id": "Oatz3aUtcAQM"
      }
    },
    {
      "cell_type": "code",
      "source": [
        "Number_list = [1,2,4,6,7,8,9]\n",
        "fy = open(\"file2.txt\", \"w\")\n",
        "for i in Number_list:\n",
        "  fy.write(f\"{i}\\n\")\n",
        "fy.close()\n",
        "with open(\"file2.txt\", 'r') as f:\n",
        "  print(\"File content\\n\")\n",
        "  print(f.read())"
      ],
      "metadata": {
        "colab": {
          "base_uri": "https://localhost:8080/"
        },
        "id": "5MwfH3HvcgF4",
        "outputId": "c5416434-2d64-4f6a-a7ce-7ca7a855a347"
      },
      "execution_count": 55,
      "outputs": [
        {
          "output_type": "stream",
          "name": "stdout",
          "text": [
            "File content\n",
            "\n",
            "1\n",
            "2\n",
            "4\n",
            "6\n",
            "7\n",
            "8\n",
            "9\n",
            "\n"
          ]
        }
      ]
    },
    {
      "cell_type": "markdown",
      "source": [
        "\n",
        "\n",
        "---\n",
        "\n"
      ],
      "metadata": {
        "id": "1eoFRCUf-_7z"
      }
    },
    {
      "cell_type": "markdown",
      "source": [
        "18. How would you implement a basic logging setup that logs to a file with rotation after 1MB."
      ],
      "metadata": {
        "id": "Dx-V4TwSd7yt"
      }
    },
    {
      "cell_type": "code",
      "source": [
        "import os\n",
        "import logging\n",
        "logger = logging.getLogger('my_logger')\n",
        "logger.setLevel(logging.DEBUG)\n",
        "\n",
        "handler = logging.handlers.RotatingFileHandler(\n",
        "    'my_log.log', maxBytes=1000, backupCount=5)\n",
        "\n",
        "formatter = logging.Formatter('%(asctime)s - %(name)s - %(levelname)s - %(message)s')\n",
        "handler.setFormatter(formatter)\n",
        "\n",
        "# Add the handler to the logger\n",
        "logger.addHandler(handler)\n",
        "\n",
        "# Test the logger\n",
        "logger.debug('Debug message')\n",
        "\n",
        "file_size = os.path.getsize(\"/content/my_log.log\")\n",
        "print(f\"File size: {file_size} bytes\")\n"
      ],
      "metadata": {
        "colab": {
          "base_uri": "https://localhost:8080/"
        },
        "id": "m_G41LtFh5qE",
        "outputId": "8fd7b4f1-8b4b-445d-8bf0-072acf4d499d"
      },
      "execution_count": 58,
      "outputs": [
        {
          "output_type": "stream",
          "name": "stderr",
          "text": [
            "DEBUG:my_logger:Debug message\n"
          ]
        },
        {
          "output_type": "stream",
          "name": "stdout",
          "text": [
            "File size: 240 bytes\n"
          ]
        }
      ]
    },
    {
      "cell_type": "markdown",
      "source": [
        "\n",
        "\n",
        "---\n",
        "\n"
      ],
      "metadata": {
        "id": "Hzko9Jfg_C50"
      }
    },
    {
      "cell_type": "markdown",
      "source": [
        "19. Write a program that handles both IndexError and KeyError using a try-except block."
      ],
      "metadata": {
        "id": "RMkPl4nAjDkn"
      }
    },
    {
      "cell_type": "code",
      "source": [
        "l = [1, 2, 3, 4]\n",
        "d = {\"Name\": \"Devyani\", \"class\": \"ds\"}\n",
        "try:\n",
        "  l[4]\n",
        "except  IndexError as e:\n",
        "  print(\"The IndexError is: \", e)\n",
        "\n",
        "try:\n",
        "  d[\"age\"]\n",
        "except KeyError as e:\n",
        "  print(\"The KeyError is: \", e)\n"
      ],
      "metadata": {
        "colab": {
          "base_uri": "https://localhost:8080/"
        },
        "id": "dEwJUKRwk0I5",
        "outputId": "248e8fa2-88a2-4a80-8406-ff303b45a452"
      },
      "execution_count": 75,
      "outputs": [
        {
          "output_type": "stream",
          "name": "stdout",
          "text": [
            "The IndexError is:  list index out of range\n",
            "The KeyError is:  'age'\n"
          ]
        }
      ]
    },
    {
      "cell_type": "markdown",
      "source": [
        "\n",
        "\n",
        "---\n",
        "\n"
      ],
      "metadata": {
        "id": "SrQjpnAp_FcI"
      }
    },
    {
      "cell_type": "markdown",
      "source": [
        "20. How would you open a file and read its contents using a context manager in Python?"
      ],
      "metadata": {
        "id": "TCVTPsRzoOrL"
      }
    },
    {
      "cell_type": "code",
      "source": [
        "with open(\"file.txt\", 'r') as f:\n",
        "  print(f.read())"
      ],
      "metadata": {
        "colab": {
          "base_uri": "https://localhost:8080/"
        },
        "id": "Vr3OdmcSopzq",
        "outputId": "30dcca4c-8051-4fd4-c45c-d153d1b783c6"
      },
      "execution_count": 77,
      "outputs": [
        {
          "output_type": "stream",
          "name": "stdout",
          "text": [
            "This is first line\n",
            "This is second line\n",
            "This is new line added\n"
          ]
        }
      ]
    },
    {
      "cell_type": "markdown",
      "source": [
        "\n",
        "\n",
        "---\n",
        "\n"
      ],
      "metadata": {
        "id": "ou3KOY8A_Ihq"
      }
    },
    {
      "cell_type": "markdown",
      "source": [
        "21. Write a Python program that reads a file and prints the number of occurrences of a specific word."
      ],
      "metadata": {
        "id": "4kvY6b5ZtFSn"
      }
    },
    {
      "cell_type": "code",
      "source": [
        "f = open(\"file3.txt\", 'w')\n",
        "f.write(\"one two three one five six seven eight nine seven one\")\n",
        "f.close()\n",
        "\n",
        "d = {}\n",
        "f = open(\"file3.txt\", 'r')\n",
        "for line in f:\n",
        "    line = line.strip()\n",
        "    words = line.split(\" \")\n",
        "\n",
        "    for w in words:\n",
        "        if w in d:\n",
        "            d[w] = d[w] + 1\n",
        "        else:\n",
        "            d[w] = 1\n",
        "\n",
        "for key in list(d.keys()):\n",
        "    print(key, \":\", d[key])\n",
        "\n",
        "f.close()"
      ],
      "metadata": {
        "colab": {
          "base_uri": "https://localhost:8080/"
        },
        "id": "WWIDOKxftqjg",
        "outputId": "8af364ed-4104-48b7-c0d9-48f70971a813"
      },
      "execution_count": 81,
      "outputs": [
        {
          "output_type": "stream",
          "name": "stdout",
          "text": [
            "one : 3\n",
            "two : 1\n",
            "three : 1\n",
            "five : 1\n",
            "six : 1\n",
            "seven : 2\n",
            "eight : 1\n",
            "nine : 1\n"
          ]
        }
      ]
    },
    {
      "cell_type": "markdown",
      "source": [
        "\n",
        "\n",
        "---\n",
        "\n"
      ],
      "metadata": {
        "id": "j7s6aP7Z_LtP"
      }
    },
    {
      "cell_type": "markdown",
      "source": [
        "22. How can you check if a file is empty before attempting to read its contents?"
      ],
      "metadata": {
        "id": "RMhGQx2Gvzzj"
      }
    },
    {
      "cell_type": "code",
      "source": [
        "import os\n",
        "file_size = os.path.getsize(\"/content/file1.txt\")\n",
        "if file_size == 0:\n",
        "  print(\"File is empty\")\n",
        "else:\n",
        "  print((\"/content/file1.txt\").read())\n",
        ""
      ],
      "metadata": {
        "colab": {
          "base_uri": "https://localhost:8080/"
        },
        "id": "cMA043qWwu6D",
        "outputId": "ab53f709-09bc-477a-ff70-f294e8bec334"
      },
      "execution_count": 85,
      "outputs": [
        {
          "output_type": "stream",
          "name": "stdout",
          "text": [
            "File is empty\n"
          ]
        }
      ]
    },
    {
      "cell_type": "markdown",
      "source": [
        "\n",
        "\n",
        "---\n",
        "\n"
      ],
      "metadata": {
        "id": "H-B7lpDY_OoL"
      }
    },
    {
      "cell_type": "markdown",
      "source": [
        "23. Write a Python program that writes to a log file when an error occurs during file handling."
      ],
      "metadata": {
        "id": "zHwfv5kkyMCs"
      }
    },
    {
      "cell_type": "code",
      "source": [
        "import logging\n",
        "\n",
        "try:\n",
        "    f = open(\"myfile.txt\", 'r')\n",
        "    f.read()\n",
        "except FileNotFoundError as e:\n",
        "    logging.error(f\"Unable to read file as: {e}\")"
      ],
      "metadata": {
        "colab": {
          "base_uri": "https://localhost:8080/"
        },
        "id": "d0QsvqmVymHj",
        "outputId": "85faffd2-e398-4a81-9e6a-485d982fdae5"
      },
      "execution_count": 93,
      "outputs": [
        {
          "output_type": "stream",
          "name": "stderr",
          "text": [
            "ERROR:root:Unable to read file as: [Errno 2] No such file or directory: 'myfile.txt'\n"
          ]
        }
      ]
    },
    {
      "cell_type": "markdown",
      "source": [
        "\n",
        "\n",
        "---\n",
        "\n",
        "\n",
        "\n",
        "---\n",
        "\n",
        "\n",
        "\n",
        "---\n",
        "\n"
      ],
      "metadata": {
        "id": "Jj3oz8az_RJz"
      }
    },
    {
      "cell_type": "markdown",
      "source": [],
      "metadata": {
        "id": "RVwhEQHhAEq7"
      }
    }
  ]
}