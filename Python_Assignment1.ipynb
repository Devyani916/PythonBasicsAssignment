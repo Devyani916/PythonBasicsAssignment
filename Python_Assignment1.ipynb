{
  "nbformat": 4,
  "nbformat_minor": 0,
  "metadata": {
    "colab": {
      "provenance": [],
      "authorship_tag": "ABX9TyO19sOmBiIMjFYCFaOY8Tvv",
      "include_colab_link": true
    },
    "kernelspec": {
      "name": "python3",
      "display_name": "Python 3"
    },
    "language_info": {
      "name": "python"
    }
  },
  "cells": [
    {
      "cell_type": "markdown",
      "metadata": {
        "id": "view-in-github",
        "colab_type": "text"
      },
      "source": [
        "<a href=\"https://colab.research.google.com/github/Devyani916/PythonBasicsAssignment/blob/main/Python_Assignment1.ipynb\" target=\"_parent\"><img src=\"https://colab.research.google.com/assets/colab-badge.svg\" alt=\"Open In Colab\"/></a>"
      ]
    },
    {
      "cell_type": "markdown",
      "source": [
        "**Python Basics Assignment**"
      ],
      "metadata": {
        "id": "9UioNfBrE29y"
      }
    },
    {
      "cell_type": "markdown",
      "source": [
        "**Theory Questions:**\n",
        "\n",
        "1. What is python, and why is it poupular?\n",
        "- Python is a programming language. Python is very poupular as it is easy to understand and write. Python has extensive standard library, large community of developers and highly compatiable paradigms. It has a third party packages for various domains.\n",
        "\n",
        "2. What is an interpreter in python?\n",
        "- Interpreter is a computer code which translate python code into a machine understandable code.\n",
        "\n",
        "3. What are pre-defined keywords in python?\n",
        "- Predefined keywords have a special meaning in python and they are reserved which can not be used as a variable name, function name, etc. Eg. if, else, while, type(), int, etc.\n",
        "\n",
        "4. Can keywords be used as variable names?\n",
        "- No, keywords can not be used as variable names as it has special meaning and cannot be redefined in python.\n",
        "\n",
        "5. What is mutability in python?\n",
        "- Mutability means modification or changing the value of variable or object after its creation. Mutability affects how can we store value in memory. It impact the peformance and memory usage in python programs.\n",
        "\n",
        "6. Why lists are mutable , but tuples are immutable?\n",
        "- List are mutable as we can change or modify values in list after its creation. Whereas, in case of tuples it can not be modified once created.\n",
        "\n",
        "7. What is the difference between \"==\" and \"is\" operators in python?\n",
        "- In python, \"==\" is a comparison operator which compare value of two variables or objects. \"is\" checks whether two variables point to the same object in memory.\n",
        "\n",
        "8. What are logical operator in python?\n",
        "- Logical operators are keywords used to combine multiple expression or conitional statement into one statement. Eg. AND, OR, NOT, etc.\n",
        "\n",
        "9. What is type casting in python?\n",
        "- Type casting is a process of changing one data type to other in python. It is also known as a type conversion. Type casting is offenly used while performing arithematic operations, data manipulation, etc.\n",
        "\n",
        "10. What is the difference between implicit and explicit type casting?\n",
        "- Implicit type casting is by default understanding the data type of variable/ object. Explicit type casting is the like we manually convert the data type.\n",
        "\n",
        "11. What is the purpose of conditional statements in python?\n",
        "- Conditional statements are used to execute code based on evaluation of one or more conditions. Conditional statement can be nested to handle multiple conditions.\n",
        "\n",
        "12. How does the elif statment work?\n",
        "- Statement elif stands for else if. It is used when we have multiple condition to check. Workflow is like it checks first condition if that condition is true it execute that block of code else it check for second condition.\n",
        "\n",
        "13. What is the difference between for and while loops?\n",
        "- 'for' loops are used for iterating over a sequence of elements, while \"while\" loops are used for executing the code until the specified condition becomes false.\n",
        "\n",
        "14. Describe a scenario where a while loop is more suitable than a for loop.\n",
        "- When we now the number of iteration to be perform we use a \"for\" loop but when we dont have any specified number of iteration but we have a condition based on which we need to run the code a \"while\" loop is recommended.\n"
      ],
      "metadata": {
        "id": "YHgpjHjrSZgw"
      }
    },
    {
      "cell_type": "markdown",
      "source": [
        "\n",
        "**Practical Questions:**"
      ],
      "metadata": {
        "id": "FZeHdqYPEnZ3"
      }
    },
    {
      "cell_type": "markdown",
      "source": [
        "1. Write a Python program to print \"Hello, World!\".\n"
      ],
      "metadata": {
        "id": "NbK9v7QF_tXl"
      }
    },
    {
      "cell_type": "code",
      "source": [
        "print(\"Hello, world!\")"
      ],
      "metadata": {
        "colab": {
          "base_uri": "https://localhost:8080/"
        },
        "id": "neF_rHLNAEZh",
        "outputId": "5bb25843-24a1-4797-997f-bb681639a972"
      },
      "execution_count": null,
      "outputs": [
        {
          "output_type": "stream",
          "name": "stdout",
          "text": [
            "Hello, world!\n"
          ]
        }
      ]
    },
    {
      "cell_type": "markdown",
      "source": [
        "2. Write a Python program that displays your name and age?\n"
      ],
      "metadata": {
        "id": "FvDzdMubBLaG"
      }
    },
    {
      "cell_type": "code",
      "source": [
        "name = \"Devyani\"\n",
        "age = 29\n",
        "print(\"My name is:\", name)\n",
        "print(\"My age is:\", age)"
      ],
      "metadata": {
        "colab": {
          "base_uri": "https://localhost:8080/"
        },
        "id": "ani1MLKcBZln",
        "outputId": "fa1f776f-f174-4084-82a5-b422c4a4b3b7"
      },
      "execution_count": null,
      "outputs": [
        {
          "output_type": "stream",
          "name": "stdout",
          "text": [
            "My name is: Devyani\n",
            "My age is: 29\n"
          ]
        }
      ]
    },
    {
      "cell_type": "markdown",
      "source": [
        "3. Write a code to print all the pre-defined keywords in python using keyword library.\n"
      ],
      "metadata": {
        "id": "hBTHmelQDpgX"
      }
    },
    {
      "cell_type": "code",
      "source": [
        "import keyword\n",
        "print(\"These are all the keywords in Python: \")\n",
        "print(keyword.kwlist)"
      ],
      "metadata": {
        "colab": {
          "base_uri": "https://localhost:8080/"
        },
        "id": "9nO_gTVdEWCx",
        "outputId": "e80cc12f-9ec3-4241-e5f5-7024770ff5bb"
      },
      "execution_count": null,
      "outputs": [
        {
          "output_type": "stream",
          "name": "stdout",
          "text": [
            "These are all the keywords in Python: \n",
            "['False', 'None', 'True', 'and', 'as', 'assert', 'async', 'await', 'break', 'class', 'continue', 'def', 'del', 'elif', 'else', 'except', 'finally', 'for', 'from', 'global', 'if', 'import', 'in', 'is', 'lambda', 'nonlocal', 'not', 'or', 'pass', 'raise', 'return', 'try', 'while', 'with', 'yield']\n"
          ]
        }
      ]
    },
    {
      "cell_type": "markdown",
      "source": [
        "4. Write a program that checks if a given word is a Python keyword.\n"
      ],
      "metadata": {
        "id": "vdBUsBMdRq8v"
      }
    },
    {
      "cell_type": "code",
      "source": [
        "import keyword\n",
        "i= input(\"Enter the keyword:\")\n",
        "print(i)\n",
        "if i in keyword.kwlist:\n",
        "  print(\"The keyword is a Python keyword.\")\n",
        "else:\n",
        "  print(\"The keyword is not a Python keyword.\")"
      ],
      "metadata": {
        "colab": {
          "base_uri": "https://localhost:8080/"
        },
        "id": "T33ImYWWSr4e",
        "outputId": "4f1beab3-d16e-403d-f8a2-ca8b03c7f1e7"
      },
      "execution_count": null,
      "outputs": [
        {
          "output_type": "stream",
          "name": "stdout",
          "text": [
            "Enter the keyword:it\n",
            "it\n",
            "The keyword is not a Python keyword.\n"
          ]
        }
      ]
    },
    {
      "cell_type": "markdown",
      "source": [
        "5. Create a list and tuple in Python, and demonstrate how attempting to change an element works differently for each."
      ],
      "metadata": {
        "id": "hszWqOFgXWDg"
      }
    },
    {
      "cell_type": "code",
      "source": [
        "my_list= [1, 2, \"pwskills\", \"devyani\", \"Python\"] #list\n",
        "my_tuple= (1, 2, \"msOffice\", \"Wonder\") #tuple\n",
        "\n",
        "my_list"
      ],
      "metadata": {
        "id": "XRfmUtamRqVV",
        "colab": {
          "base_uri": "https://localhost:8080/"
        },
        "outputId": "dd3ac291-94f9-411b-a182-7fa66aff1786"
      },
      "execution_count": null,
      "outputs": [
        {
          "output_type": "execute_result",
          "data": {
            "text/plain": [
              "[1, 2, 'pwskills', 'devyani', 'Python']"
            ]
          },
          "metadata": {},
          "execution_count": 2
        }
      ]
    },
    {
      "cell_type": "code",
      "source": [
        "my_tuple"
      ],
      "metadata": {
        "colab": {
          "base_uri": "https://localhost:8080/"
        },
        "id": "6GOpP8jkrBJK",
        "outputId": "5cbf0aad-673b-4b7c-de85-a0ed592801f3"
      },
      "execution_count": null,
      "outputs": [
        {
          "output_type": "execute_result",
          "data": {
            "text/plain": [
              "(1, 2, 'msOffice', 'Wonder')"
            ]
          },
          "metadata": {},
          "execution_count": 3
        }
      ]
    },
    {
      "cell_type": "code",
      "source": [
        "## Try to change the element of list\n",
        "my_list[0] = \"Saikat\"\n",
        "\n",
        "my_list # 1 at my_list[0] has been replaced by \"Saikat\""
      ],
      "metadata": {
        "colab": {
          "base_uri": "https://localhost:8080/"
        },
        "id": "dkNHS7KFrGHz",
        "outputId": "26ee21f3-96e4-48c1-bb14-afdecae2c1d7"
      },
      "execution_count": null,
      "outputs": [
        {
          "output_type": "execute_result",
          "data": {
            "text/plain": [
              "['Saikat', 2, 'pwskills', 'devyani', 'Python']"
            ]
          },
          "metadata": {},
          "execution_count": 5
        }
      ]
    },
    {
      "cell_type": "code",
      "source": [
        "# Try to change the element of tuple\n",
        "my_tuple[1]= \"Mitra\"\n",
        "\n",
        "my_tuple #It will not allow to change the element of tuple after creation"
      ],
      "metadata": {
        "colab": {
          "base_uri": "https://localhost:8080/",
          "height": 193
        },
        "id": "37lIWAJ9roas",
        "outputId": "6ab8f2fb-6fb8-4e4a-a334-05acdbd8751d"
      },
      "execution_count": null,
      "outputs": [
        {
          "output_type": "error",
          "ename": "TypeError",
          "evalue": "'tuple' object does not support item assignment",
          "traceback": [
            "\u001b[0;31m---------------------------------------------------------------------------\u001b[0m",
            "\u001b[0;31mTypeError\u001b[0m                                 Traceback (most recent call last)",
            "\u001b[0;32m<ipython-input-6-4165466e4445>\u001b[0m in \u001b[0;36m<cell line: 0>\u001b[0;34m()\u001b[0m\n\u001b[1;32m      1\u001b[0m \u001b[0;31m# Try to change the element of tuple\u001b[0m\u001b[0;34m\u001b[0m\u001b[0;34m\u001b[0m\u001b[0m\n\u001b[0;32m----> 2\u001b[0;31m \u001b[0mmy_tuple\u001b[0m\u001b[0;34m[\u001b[0m\u001b[0;36m1\u001b[0m\u001b[0;34m]\u001b[0m\u001b[0;34m=\u001b[0m \u001b[0;34m\"Mitra\"\u001b[0m\u001b[0;34m\u001b[0m\u001b[0;34m\u001b[0m\u001b[0m\n\u001b[0m\u001b[1;32m      3\u001b[0m \u001b[0;34m\u001b[0m\u001b[0m\n\u001b[1;32m      4\u001b[0m \u001b[0mmy_tuple\u001b[0m \u001b[0;31m#It will not allow to change the element of tuple after creation\u001b[0m\u001b[0;34m\u001b[0m\u001b[0;34m\u001b[0m\u001b[0m\n",
            "\u001b[0;31mTypeError\u001b[0m: 'tuple' object does not support item assignment"
          ]
        }
      ]
    },
    {
      "cell_type": "markdown",
      "source": [
        "6. Write a function to demonstrate the behaviour of mutable and immutable arguments."
      ],
      "metadata": {
        "id": "fOlhFg734Qp1"
      }
    },
    {
      "cell_type": "code",
      "source": [
        "# The difference between mutable and immutable object is that mutable object can be updated or changed after its creation where as immutable object does not\n",
        "#support change or updation once it has been created.\n",
        "# Example of mutable object is list\n",
        "#Example of immutable object is tuple\n",
        "\n",
        "my_list.append(7) #adding the number in list is possible as list is a mutable\n",
        "my_list"
      ],
      "metadata": {
        "colab": {
          "base_uri": "https://localhost:8080/"
        },
        "id": "reDn4P9b3AJR",
        "outputId": "f6994b75-d914-4add-f7fb-f3cfba96a851"
      },
      "execution_count": null,
      "outputs": [
        {
          "output_type": "execute_result",
          "data": {
            "text/plain": [
              "[1, 2, 'pwskills', 'devyani', 'Python', 7]"
            ]
          },
          "metadata": {},
          "execution_count": 12
        }
      ]
    },
    {
      "cell_type": "code",
      "source": [
        "my_tuple.append(9) # Tuples can not be modified as tuple is immutable\n",
        "my_tuple"
      ],
      "metadata": {
        "colab": {
          "base_uri": "https://localhost:8080/",
          "height": 159
        },
        "id": "9p4Mu2Ha3pw8",
        "outputId": "3bdcdd0a-8a4b-4899-8ca0-a03d42f68bca"
      },
      "execution_count": null,
      "outputs": [
        {
          "output_type": "error",
          "ename": "AttributeError",
          "evalue": "'tuple' object has no attribute 'append'",
          "traceback": [
            "\u001b[0;31m---------------------------------------------------------------------------\u001b[0m",
            "\u001b[0;31mAttributeError\u001b[0m                            Traceback (most recent call last)",
            "\u001b[0;32m<ipython-input-13-33e67eba6b67>\u001b[0m in \u001b[0;36m<cell line: 0>\u001b[0;34m()\u001b[0m\n\u001b[0;32m----> 1\u001b[0;31m \u001b[0mmy_tuple\u001b[0m\u001b[0;34m.\u001b[0m\u001b[0mappend\u001b[0m\u001b[0;34m(\u001b[0m\u001b[0;36m9\u001b[0m\u001b[0;34m)\u001b[0m \u001b[0;31m# Tuples can not be modified\u001b[0m\u001b[0;34m\u001b[0m\u001b[0;34m\u001b[0m\u001b[0m\n\u001b[0m\u001b[1;32m      2\u001b[0m \u001b[0mmy_tuple\u001b[0m\u001b[0;34m\u001b[0m\u001b[0;34m\u001b[0m\u001b[0m\n",
            "\u001b[0;31mAttributeError\u001b[0m: 'tuple' object has no attribute 'append'"
          ]
        }
      ]
    },
    {
      "cell_type": "markdown",
      "source": [
        "7. Write a function to demonstrate the behaviour of mutable and immutable arguments.  "
      ],
      "metadata": {
        "id": "QvpjGazoru6i"
      }
    },
    {
      "cell_type": "code",
      "source": [
        "my_list= [1, 2, \"pwskills\", \"data science\", \"Python\"] #list\n",
        "def add_element(my_list):\n",
        "  my_list= my_list.append(7) #adding the number in list is possible as list is a mutable\n",
        "\n",
        "add_element(my_list)\n",
        "print(my_list)"
      ],
      "metadata": {
        "colab": {
          "base_uri": "https://localhost:8080/"
        },
        "id": "_zfsDh8QryAt",
        "outputId": "f11d0008-6571-4cd5-da8d-b99273050399"
      },
      "execution_count": 8,
      "outputs": [
        {
          "output_type": "stream",
          "name": "stdout",
          "text": [
            "[1, 2, 'pwskills', 'data science', 'Python', 7]\n"
          ]
        }
      ]
    },
    {
      "cell_type": "code",
      "source": [
        "my_tuple= (6, 7, True, \"Hello\", \"World\") #tuple\n",
        "def add_element(my_tuple):\n",
        "  my_tuple= my_tuple.append(9) #adding the number in tuple, it gives an error as tuple is immutable\n",
        "\n",
        "add_element(my_tuple)\n",
        "print(my_tuple)"
      ],
      "metadata": {
        "colab": {
          "base_uri": "https://localhost:8080/",
          "height": 349
        },
        "id": "PG3XUjNQtzSB",
        "outputId": "84e07956-833c-485d-a0e7-a72a713d084b"
      },
      "execution_count": 12,
      "outputs": [
        {
          "output_type": "error",
          "ename": "AttributeError",
          "evalue": "'tuple' object has no attribute 'append'",
          "traceback": [
            "\u001b[0;31m---------------------------------------------------------------------------\u001b[0m",
            "\u001b[0;31mAttributeError\u001b[0m                            Traceback (most recent call last)",
            "\u001b[0;32m<ipython-input-12-4e616abd1e2f>\u001b[0m in \u001b[0;36m<cell line: 0>\u001b[0;34m()\u001b[0m\n\u001b[1;32m      3\u001b[0m   \u001b[0mmy_tuple\u001b[0m\u001b[0;34m=\u001b[0m \u001b[0mmy_tuple\u001b[0m\u001b[0;34m.\u001b[0m\u001b[0mappend\u001b[0m\u001b[0;34m(\u001b[0m\u001b[0;36m9\u001b[0m\u001b[0;34m)\u001b[0m \u001b[0;31m#adding the number in tuple, it gives an error as tuple is immutable\u001b[0m\u001b[0;34m\u001b[0m\u001b[0;34m\u001b[0m\u001b[0m\n\u001b[1;32m      4\u001b[0m \u001b[0;34m\u001b[0m\u001b[0m\n\u001b[0;32m----> 5\u001b[0;31m \u001b[0madd_element\u001b[0m\u001b[0;34m(\u001b[0m\u001b[0mmy_tuple\u001b[0m\u001b[0;34m)\u001b[0m\u001b[0;34m\u001b[0m\u001b[0;34m\u001b[0m\u001b[0m\n\u001b[0m\u001b[1;32m      6\u001b[0m \u001b[0mprint\u001b[0m\u001b[0;34m(\u001b[0m\u001b[0mmy_tuple\u001b[0m\u001b[0;34m)\u001b[0m\u001b[0;34m\u001b[0m\u001b[0;34m\u001b[0m\u001b[0m\n",
            "\u001b[0;32m<ipython-input-12-4e616abd1e2f>\u001b[0m in \u001b[0;36madd_element\u001b[0;34m(my_tuple)\u001b[0m\n\u001b[1;32m      1\u001b[0m \u001b[0mmy_tuple\u001b[0m\u001b[0;34m=\u001b[0m \u001b[0;34m(\u001b[0m\u001b[0;36m6\u001b[0m\u001b[0;34m,\u001b[0m \u001b[0;36m7\u001b[0m\u001b[0;34m,\u001b[0m \u001b[0;32mTrue\u001b[0m\u001b[0;34m,\u001b[0m \u001b[0;34m\"Hello\"\u001b[0m\u001b[0;34m,\u001b[0m \u001b[0;34m\"World\"\u001b[0m\u001b[0;34m)\u001b[0m \u001b[0;31m#tuple\u001b[0m\u001b[0;34m\u001b[0m\u001b[0;34m\u001b[0m\u001b[0m\n\u001b[1;32m      2\u001b[0m \u001b[0;32mdef\u001b[0m \u001b[0madd_element\u001b[0m\u001b[0;34m(\u001b[0m\u001b[0mmy_tuple\u001b[0m\u001b[0;34m)\u001b[0m\u001b[0;34m:\u001b[0m\u001b[0;34m\u001b[0m\u001b[0;34m\u001b[0m\u001b[0m\n\u001b[0;32m----> 3\u001b[0;31m   \u001b[0mmy_tuple\u001b[0m\u001b[0;34m=\u001b[0m \u001b[0mmy_tuple\u001b[0m\u001b[0;34m.\u001b[0m\u001b[0mappend\u001b[0m\u001b[0;34m(\u001b[0m\u001b[0;36m9\u001b[0m\u001b[0;34m)\u001b[0m \u001b[0;31m#adding the number in tuple, it gives an error as tuple is immutable\u001b[0m\u001b[0;34m\u001b[0m\u001b[0;34m\u001b[0m\u001b[0m\n\u001b[0m\u001b[1;32m      4\u001b[0m \u001b[0;34m\u001b[0m\u001b[0m\n\u001b[1;32m      5\u001b[0m \u001b[0madd_element\u001b[0m\u001b[0;34m(\u001b[0m\u001b[0mmy_tuple\u001b[0m\u001b[0;34m)\u001b[0m\u001b[0;34m\u001b[0m\u001b[0;34m\u001b[0m\u001b[0m\n",
            "\u001b[0;31mAttributeError\u001b[0m: 'tuple' object has no attribute 'append'"
          ]
        }
      ]
    },
    {
      "cell_type": "markdown",
      "source": [
        "8. Write a program to demonstrate the use of logical operators."
      ],
      "metadata": {
        "id": "czY66tCu2Dlu"
      }
    },
    {
      "cell_type": "code",
      "source": [
        "# There are 3 logical operator and, or, not operator\n",
        "\n",
        "a, b, c= True, False, True\n",
        "\n",
        "# Usecase for AND operator\n",
        "if a==True and c == True:\n",
        "  print(\"Condition is true\")\n",
        "else:\n",
        "  print(\"Condition is false\")"
      ],
      "metadata": {
        "id": "cI-juZeD2UR3",
        "colab": {
          "base_uri": "https://localhost:8080/"
        },
        "outputId": "9e89cc9c-c6b8-442a-842b-33939ca21d9c"
      },
      "execution_count": null,
      "outputs": [
        {
          "output_type": "stream",
          "name": "stdout",
          "text": [
            "Condition is true\n"
          ]
        }
      ]
    },
    {
      "cell_type": "code",
      "source": [
        "# Usecase for OR operator\n",
        "if a==True or b == False:\n",
        "  print(\"Condition is true\")\n",
        "else:\n",
        "  print(\"Condition is false\")\n",
        "\n"
      ],
      "metadata": {
        "colab": {
          "base_uri": "https://localhost:8080/"
        },
        "id": "hK6S-6xE38Oj",
        "outputId": "f409aac3-18b3-4c43-d103-4d3646c9f9a3"
      },
      "execution_count": null,
      "outputs": [
        {
          "output_type": "stream",
          "name": "stdout",
          "text": [
            "Condition is true\n"
          ]
        }
      ]
    },
    {
      "cell_type": "code",
      "source": [
        "# Usecase for NOT operator\n",
        "if b is not False:\n",
        "  print(\"Condition is true\")\n",
        "else:\n",
        "  print(\"Condition is false\")"
      ],
      "metadata": {
        "colab": {
          "base_uri": "https://localhost:8080/"
        },
        "id": "PmCth_zPOQKV",
        "outputId": "a8bc8c2b-448d-491f-bb06-2205a6f9d739"
      },
      "execution_count": null,
      "outputs": [
        {
          "output_type": "stream",
          "name": "stdout",
          "text": [
            "Condition is false\n"
          ]
        }
      ]
    },
    {
      "cell_type": "markdown",
      "source": [
        "9. Write a python program to convert user input from string to integer, float and boolean types."
      ],
      "metadata": {
        "id": "9ZXoxuPGPdj1"
      }
    },
    {
      "cell_type": "code",
      "source": [
        "l = input(\"Enter the value:\")\n",
        "print(l)\n",
        "if type(l) == str:\n",
        "  Choice= input(\"Type of variable you want:\")\n",
        "  if Choice==\"int\":\n",
        "    l= int(l)\n",
        "    print(l)\n",
        "  elif Choice==\"float\":\n",
        "    l= float(l)\n",
        "    print(l)\n",
        "  elif Choice==\"bool\":\n",
        "    l= bool(l)\n",
        "    print(l)\n",
        "  else:\n",
        "    print(\"Invalid choice\")\n",
        "else:\n",
        "  print(\"Invalid Input\")\n",
        "type(l)"
      ],
      "metadata": {
        "colab": {
          "base_uri": "https://localhost:8080/"
        },
        "id": "Ape2aQbuGrSE",
        "outputId": "13920d92-eccc-4109-9416-ae28a677e905"
      },
      "execution_count": null,
      "outputs": [
        {
          "output_type": "stream",
          "name": "stdout",
          "text": [
            "Enter the value:2\n",
            "2\n",
            "Type of variable you want:float\n",
            "2.0\n"
          ]
        },
        {
          "output_type": "execute_result",
          "data": {
            "text/plain": [
              "float"
            ]
          },
          "metadata": {},
          "execution_count": 8
        }
      ]
    },
    {
      "cell_type": "markdown",
      "source": [
        "10. Write a code to demonstrate type casting with list elements."
      ],
      "metadata": {
        "id": "r7XGX5t_K70C"
      }
    },
    {
      "cell_type": "code",
      "source": [
        "s = \"pwskills\"\n",
        "l = list(s)\n",
        "print(l)"
      ],
      "metadata": {
        "id": "lUXbg6PTLiCc",
        "colab": {
          "base_uri": "https://localhost:8080/"
        },
        "outputId": "3a24edf8-a3e9-4eed-c20e-1b02152077cd"
      },
      "execution_count": null,
      "outputs": [
        {
          "output_type": "stream",
          "name": "stdout",
          "text": [
            "['p', 'w', 's', 'k', 'i', 'l', 'l', 's']\n"
          ]
        }
      ]
    },
    {
      "cell_type": "markdown",
      "source": [
        "11. Write a program that checks if a number is positive, negative, or zero."
      ],
      "metadata": {
        "id": "DN8w5uM8Mrsz"
      }
    },
    {
      "cell_type": "code",
      "source": [
        "n = input(\"Enter the number:\")\n",
        "print(n)\n",
        "n= int(n)\n",
        "if n > 0:\n",
        "  print(\"Number is positive.\")\n",
        "elif n<0:\n",
        "  print(\"Number is negative.\")\n",
        "elif n==0:\n",
        "  print(\"Number is Zero\")\n",
        "else:\n",
        "  print(\"Invalid Input\")"
      ],
      "metadata": {
        "colab": {
          "base_uri": "https://localhost:8080/"
        },
        "id": "dNbRfGPDNnR4",
        "outputId": "20de5733-e638-4e72-ee78-39e5c7b85294"
      },
      "execution_count": null,
      "outputs": [
        {
          "output_type": "stream",
          "name": "stdout",
          "text": [
            "Enter the number:-6\n",
            "-6\n",
            "Number is negative.\n"
          ]
        }
      ]
    },
    {
      "cell_type": "markdown",
      "source": [
        "12. Write a for loop to print numbers from 1 to 10."
      ],
      "metadata": {
        "id": "5MqQx_5uPQVz"
      }
    },
    {
      "cell_type": "code",
      "source": [
        "for i in range(1,11):\n",
        "  print(i)"
      ],
      "metadata": {
        "colab": {
          "base_uri": "https://localhost:8080/"
        },
        "id": "3SSjsZhmPhnv",
        "outputId": "ab0166e7-2405-44ed-a18c-3f16eb478fac"
      },
      "execution_count": null,
      "outputs": [
        {
          "output_type": "stream",
          "name": "stdout",
          "text": [
            "1\n",
            "2\n",
            "3\n",
            "4\n",
            "5\n",
            "6\n",
            "7\n",
            "8\n",
            "9\n",
            "10\n"
          ]
        }
      ]
    },
    {
      "cell_type": "markdown",
      "source": [
        "13. Write a Python program to find the sum of all even numbers between 1 to 50."
      ],
      "metadata": {
        "id": "rx8oOGRUQK43"
      }
    },
    {
      "cell_type": "code",
      "source": [
        "# Sum of all the even numbers between 1 to 50\n",
        "sum1 = 0\n",
        "for i in range(1,51):\n",
        "  if i%2 == 0:\n",
        "    sum1 = sum1 + i\n",
        "  else:\n",
        "    i= i+1\n",
        "    continue\n",
        "print(sum1)\n"
      ],
      "metadata": {
        "colab": {
          "base_uri": "https://localhost:8080/"
        },
        "id": "UnaL-fQVQcVq",
        "outputId": "4689572a-edda-43cc-ef59-7ab1209c2b15"
      },
      "execution_count": null,
      "outputs": [
        {
          "output_type": "stream",
          "name": "stdout",
          "text": [
            "650\n"
          ]
        }
      ]
    },
    {
      "cell_type": "markdown",
      "source": [
        "14. Write a program to reverse a string using a while loop."
      ],
      "metadata": {
        "id": "Yv3JxehzSdn4"
      }
    },
    {
      "cell_type": "code",
      "source": [
        "string = input(\"Enter the string:\")\n",
        "rev = \"\"\n",
        "le = len(string)\n",
        "print(le)\n",
        "while string:\n",
        "  rev = rev + string[le-1]\n",
        "  string = string[:-1]\n",
        "  le = le-1\n",
        "print(rev)"
      ],
      "metadata": {
        "colab": {
          "base_uri": "https://localhost:8080/"
        },
        "id": "7BRtmGy1Szbt",
        "outputId": "56be8ba0-14c7-4c96-a596-3fcf56c5c695"
      },
      "execution_count": null,
      "outputs": [
        {
          "output_type": "stream",
          "name": "stdout",
          "text": [
            "Enter the string:pwskills\n",
            "8\n",
            "sllikswp\n"
          ]
        }
      ]
    },
    {
      "cell_type": "markdown",
      "source": [
        "15. Write a python program to calculate the factorial of a number provided by the user using a while loop."
      ],
      "metadata": {
        "id": "_pJ7wSj9bFJP"
      }
    },
    {
      "cell_type": "code",
      "source": [
        "a = int(input(\"Enter the number:\"))\n",
        "fact = 1\n",
        "while a>0:\n",
        "  fact = fact * a\n",
        "  a = a-1\n",
        "print(fact)"
      ],
      "metadata": {
        "colab": {
          "base_uri": "https://localhost:8080/"
        },
        "id": "0QlvmWMAbaYz",
        "outputId": "8ee20516-ca83-472a-d916-acad011d2560"
      },
      "execution_count": null,
      "outputs": [
        {
          "output_type": "stream",
          "name": "stdout",
          "text": [
            "Enter the number:5\n",
            "120\n"
          ]
        }
      ]
    }
  ]
}