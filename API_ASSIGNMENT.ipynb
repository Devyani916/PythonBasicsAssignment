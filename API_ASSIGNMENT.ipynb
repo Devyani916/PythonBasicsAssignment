{
  "nbformat": 4,
  "nbformat_minor": 0,
  "metadata": {
    "colab": {
      "provenance": [],
      "authorship_tag": "ABX9TyN7sOYgrIqd19ub8f6jBbRG",
      "include_colab_link": true
    },
    "kernelspec": {
      "name": "python3",
      "display_name": "Python 3"
    },
    "language_info": {
      "name": "python"
    }
  },
  "cells": [
    {
      "cell_type": "markdown",
      "metadata": {
        "id": "view-in-github",
        "colab_type": "text"
      },
      "source": [
        "<a href=\"https://colab.research.google.com/github/Devyani916/PythonBasicsAssignment/blob/main/API_ASSIGNMENT.ipynb\" target=\"_parent\"><img src=\"https://colab.research.google.com/assets/colab-badge.svg\" alt=\"Open In Colab\"/></a>"
      ]
    },
    {
      "cell_type": "markdown",
      "source": [
        "# **RESTful API and flask Assignment**"
      ],
      "metadata": {
        "id": "X1PvZ0kC_NhH"
      }
    },
    {
      "cell_type": "markdown",
      "source": [
        "***Theory Questions***"
      ],
      "metadata": {
        "id": "9gF2c2Zv_mVa"
      }
    },
    {
      "cell_type": "markdown",
      "source": [
        "1. What is RESTful API?\n",
        "- A RESTful API (or REST API) is an application programming interface (API) that follows the principles of Representational State Transfer (REST), using standard HTTP methods to interact with resources, making it a common and lightweight way for applications to communicate over the internet.\n",
        "\n",
        "---\n",
        "\n"
      ],
      "metadata": {
        "id": "xZMEnr2f_umy"
      }
    },
    {
      "cell_type": "markdown",
      "source": [
        "2. Explain the concept of API specification.\n",
        "- An API specification is a formal document that describes the elements of an API, acting as a blueprint for its design and development, detailing operations, endpoints, data models, and expected behavior.\n",
        "- Purpose: API specifications are crucial for ensuring consistency, facilitating communication between developers, and enabling automated tools to work with the API.\n",
        "\n",
        "---\n",
        "\n"
      ],
      "metadata": {
        "id": "a0yjiOMiAUHW"
      }
    },
    {
      "cell_type": "markdown",
      "source": [
        "3. What is Flask, and why is it popular for building API's?\n",
        "- Flask is a lightweight and flexible micro web framework for Python. It's perfect for building small to medium-sized web applications and APIs. In this post, we'll walk through building a simple Flask API for user management, complete with validation and error handling.\n",
        "\n",
        "\n",
        "---\n",
        "\n",
        "\n",
        "\n"
      ],
      "metadata": {
        "id": "QSze2zZUA3GW"
      }
    },
    {
      "cell_type": "markdown",
      "source": [
        "4. What is routing flask?\n",
        "- Routing in flask is the technique used to map the specific URL with the associated function intended to perform some task.\n",
        "\n",
        "---\n",
        "\n"
      ],
      "metadata": {
        "id": "Qme8gs1WldRN"
      }
    },
    {
      "cell_type": "markdown",
      "source": [
        "5. How do you create a simple flask application?\n",
        "- Steps to be followed while creating an simple flask application:\n",
        "1. Flask Object: Main app instance.\n",
        "\n",
        "```\n",
        "from flask import Flask\n",
        " app = Flask(__name__)\n",
        "```\n",
        "2. Routes: Define URL mappings.\n",
        "\n",
        "```\n",
        "@app.route('/')\n",
        "def home():\n",
        "    return 'Hello, World!'\n",
        "```\n",
        "3. Templates: HTML files for rendering.\n",
        "\n",
        "```\n",
        "<!-- templates/hello.html -->\n",
        "<h1>Hello, {{ name }}!</h1>\n",
        "```\n",
        "4. Static Files: Assets like CSS.\n",
        "\n",
        "```\n",
        "<link rel=\"stylesheet\" href=\"{{ url_for('static', filename='styles.css') }}\">\n",
        "\n",
        "```\n",
        "5. Request and Response: Handle data.\n",
        "\n",
        "```\n",
        "from flask import request, jsonify\n",
        "\n",
        "@app.route('/json')\n",
        "def json_example():\n",
        "    return jsonify({\"message\": \"Hello, JSON!\"})\n",
        "```\n",
        "\n",
        "---\n",
        "\n"
      ],
      "metadata": {
        "id": "IPAVoZFLT2bQ"
      }
    },
    {
      "cell_type": "markdown",
      "source": [
        "6. What are HTTP methods used in RESTful APIs?\n",
        "- In RESTful APIs, the primary HTTP methods used for interacting with resources are `GET (read), POST (create), PUT (update), PATCH (partial update), and DELETE (delete)`, corresponding to the CRUD (Create, Read, Update, Delete) operations.\n",
        "\n",
        "---\n",
        "\n"
      ],
      "metadata": {
        "id": "bf066t6GWamY"
      }
    },
    {
      "cell_type": "markdown",
      "source": [
        "7. What is the purpose of the @app.route() decorator in Flask?\n",
        "- By having app. route as decorator, the function index is registered for the route / so that when that route is requested, index is called and its result “Hello world” is returned back to the client i.e. browser.\n",
        "\n",
        "---\n",
        "\n",
        "\n",
        "\n"
      ],
      "metadata": {
        "id": "RgPGDTTDXPSH"
      }
    },
    {
      "cell_type": "markdown",
      "source": [
        "8. What is the difference between GET and POST HTTP methods?\n",
        "- The basic difference between GET and POST method is :   \n",
        " *   GET requests are used to retrieve data from a server\n",
        " *   POST requests are used to send or submit data to a server, often for creating or updating resources.\n",
        "\n",
        "---\n",
        "\n"
      ],
      "metadata": {
        "id": "8wQga9chYQur"
      }
    },
    {
      "cell_type": "markdown",
      "source": [
        "9. How do you handle errors in Flask APIs?\n",
        "- Error handling in Flask APIs can be done by registering an error handlers. An error handler is a function that returns a response when a type of error is raised, similar to how a view is a function that returns a response when a request URL is matched. It is passed the instance of the error being handled which is most likely a HTTPException.\n",
        "\n",
        "---\n",
        "\n"
      ],
      "metadata": {
        "id": "jhKnEW0yZKeh"
      }
    },
    {
      "cell_type": "markdown",
      "source": [
        "10. How do you connect Flask to a SQL database?\n",
        "- Steps to connect SQL database with Flask app:\n",
        "\n",
        " *  Step 1: Create the getdb function.\n",
        " * Step 2: Close the database connection after each request\n",
        " * Step 3: Use the getdb function in route\n",
        "\n",
        "---"
      ],
      "metadata": {
        "id": "oSBQ53-J3O9b"
      }
    },
    {
      "cell_type": "markdown",
      "source": [
        "11. What is the role of SQLAlchemy?\n",
        "- SQLAlchemy is the Python SQL toolkit that allows developers to access and manage SQL databases using Pythonic domain language.\n",
        "\n",
        "\n",
        "---"
      ],
      "metadata": {
        "id": "H30EG4AH4D2w"
      }
    },
    {
      "cell_type": "markdown",
      "source": [
        "12. What are Flask blueprints, and how are they useful?\n",
        "- Flask blueprints helps to simplify how large applications work and provide a central means for Flask extensions to register operations on applications.\n",
        "- Flask blueprints useful for making application components and supporting common patterns within an application or across applications.\n",
        "\n",
        "\n",
        "---"
      ],
      "metadata": {
        "id": "_nCLf8dO48cj"
      }
    },
    {
      "cell_type": "markdown",
      "source": [
        "13. What is the purpose of Flask's request object?\n",
        "- The Flask's request object is an object that contains all the data sent from the Client to Server. This data can be recovered using the GET/POST Methods.\n",
        "---\n",
        "\n"
      ],
      "metadata": {
        "id": "IkeGVk_754mO"
      }
    },
    {
      "cell_type": "markdown",
      "source": [
        "14. How do you create a RESTful API endpoint using Flask?\n",
        "- Steps to create a RESTful API endpoint using Flask:\n",
        " * Step 1 — Setting Up Your Flask Environment\n",
        " * Step 2 - Create a Flask Application\n",
        " * Step 3 — Creating RESTful Routes\n",
        " * Step 4 — Running and Testing Your API\n",
        "\n",
        "---\n",
        "\n"
      ],
      "metadata": {
        "id": "tFr6r6GQ6SOC"
      }
    },
    {
      "cell_type": "markdown",
      "source": [
        "15. What is the purpose of Flask's jsonify() function?\n",
        "- The jsonify() function is useful in Flask apps because it automatically sets the correct response headers and content type for JSON responses, and allows you to easily return JSON-formatted data from your route handlers. This makes it easier and more convenient to create APIs that return JSON data.\n",
        "\n",
        "\n",
        "---\n",
        "\n"
      ],
      "metadata": {
        "id": "n9_CwnzmAInT"
      }
    },
    {
      "cell_type": "markdown",
      "source": [
        "16. Explain Flask's url_for() function.\n",
        "- The url_for() function in Flask is used to generate URLs for a specific function. It accepts the name of the function as its first argument, and any number of keyword arguments, each corresponding to a variable part of the URL rule.\n",
        "\n",
        "---\n",
        "\n"
      ],
      "metadata": {
        "id": "XLNR-wQsBTYM"
      }
    },
    {
      "cell_type": "markdown",
      "source": [
        "17. How does Flask handle static files (CSS, javascript, etc.)?\n",
        "- Flask automatically creates a static view for static files like CSS, javascript and image from a folder named static in your application's directory (the /static directory).\n",
        "\n",
        "---\n",
        "\n"
      ],
      "metadata": {
        "id": "Rf_WrysDBnNy"
      }
    },
    {
      "cell_type": "markdown",
      "source": [
        "18. What is an API specification, and how does it help in building a Flask API?\n",
        "- An API specification is a formal document that describes the elements of an API, acting as a blueprint for its design and development, detailing operations, endpoints, data models, and expected behavior.\n",
        "- An API specification provides a broad understanding of how an API behaves and how the API links with other APIs. It explains how the API functions and the results to expect when using the API. A good example of an API specification is the OpenAPI Specification.\n",
        "\n",
        "\n",
        "---\n",
        "\n"
      ],
      "metadata": {
        "id": "5SeiniWaCicH"
      }
    },
    {
      "cell_type": "markdown",
      "source": [
        "19. What are HTTP status codes, and why are they important in a Flask API?\n",
        "- HTTP status codes are three-digit codes that indicate the outcome of an API request. They are included in the API's response to the API client, and they **include important information that helps the client know how to proceed**.\n",
        "\n",
        "---\n",
        "\n"
      ],
      "metadata": {
        "id": "-aY4rE5pEhMa"
      }
    },
    {
      "cell_type": "markdown",
      "source": [
        "20. How do you handle POST requests in Flask?\n",
        "- To handle POST request, we add that in the decorator app.route() method and change it in the decorator. Steps to be followed are:\n",
        " * Step1: Created a new resource we wanted to add to the JSONPlaceholder API.\n",
        " * Step2: Defined the endpoint to POST the new data.\n",
        " * Step3: Sent a POST request using the requests.\n",
        " * Step4: Used the response.\n",
        " * Step5: The last step is to print the JSON response data.\n",
        "\n",
        "---\n",
        "\n"
      ],
      "metadata": {
        "id": "RmeGzpaJFHe1"
      }
    },
    {
      "cell_type": "markdown",
      "source": [
        "21. How would you secure a Flask-RESTful application?\n",
        "- Basic security practices are fundamental for Flask, such as employing strong cryptographic hashes for password storage, implementing protections against Cross-Site Request Forgery (CSRF) and Cross-Origin Resource Sharing (CORS), and protecting against SQL injection attacks.\n",
        "\n",
        "---\n",
        "\n"
      ],
      "metadata": {
        "id": "7rk4IvBXGyzu"
      }
    },
    {
      "cell_type": "markdown",
      "source": [
        "22. What is the significance of the Flask-RESTful extension?\n",
        "- Flask-RESTful stands out as a powerful and flexible extension for building RESTful APIs with Python. Its resource-oriented design, intuitive request parsing, and seamless integration with Flask make it an excellent choice for developers looking to create efficient and scalable APIs.\n",
        "\n",
        "---\n",
        "\n"
      ],
      "metadata": {
        "id": "9muqYqpqHQPd"
      }
    },
    {
      "cell_type": "markdown",
      "source": [
        "23. What is the role of Flask's session object?\n",
        "- The Flask's session object is used to maintain sessions. A dictionary-like interface, (which is a python inbuilt type) is provided by the session object for storing and retrieving user-specific information.\n",
        "\n",
        "---\n",
        "\n",
        "\n",
        "\n",
        "---\n",
        "\n"
      ],
      "metadata": {
        "id": "q6wvsM1rHlDq"
      }
    },
    {
      "cell_type": "markdown",
      "source": [
        "***Practical Questions:***"
      ],
      "metadata": {
        "id": "yWd8I7YjIBEX"
      }
    },
    {
      "cell_type": "markdown",
      "source": [
        "1. How do you create a basic Flask Application?\n",
        "- Steps to create a basic flask app:\n",
        " * app.py: Main Flask application file.\n",
        " * templates/: Directory for HTML templates (in this case, index.html).\n",
        " * static/: Directory for static files (CSS, JS, images). For this basic example, you don't need to add anything.\n",
        " * requirements.txt: List of Python dependencies (e.g., flask).\n",
        " * config.py: Configuration settings for your app (optional for simple projects).\n",
        "\n",
        "As this is a basic Flask app we will just create a app.py file"
      ],
      "metadata": {
        "id": "UQhZorbTIOWz"
      }
    },
    {
      "cell_type": "code",
      "source": [
        "#app.py file\n",
        "from flask import Flask, render_template\n",
        "\n",
        "app = Flask(__name__)\n",
        "\n",
        "@app.route('/')\n",
        "def home():\n",
        "    return \"Hello World!\"\n",
        "if __name__ == '__main__':\n",
        "    app.run(debug=True)"
      ],
      "metadata": {
        "id": "_xhn7n2OM8h-"
      },
      "execution_count": null,
      "outputs": []
    },
    {
      "cell_type": "markdown",
      "source": [
        "\n",
        "\n",
        "---\n",
        "\n"
      ],
      "metadata": {
        "id": "3kmGndWWPqFh"
      }
    },
    {
      "cell_type": "markdown",
      "source": [
        "2. How do you serve static files like images or CSS in Flask?\n",
        "- Flask automatically creates a static endpoint to serve static files (like HTML templates, CSS stylesheets, JS files, and images). For example, to serve an image, copy the image into the \"static\" folder of the Flask project."
      ],
      "metadata": {
        "id": "dNcYR3kpPrq8"
      }
    },
    {
      "cell_type": "code",
      "source": [
        "# This is an example which take a logo image file as a static file and a flask_logo() returns this file\n",
        "from flask import current_app\n",
        "\n",
        "@app.route('/logo')\n",
        "def flask_logo():\n",
        "    return current_app.send_static_file('flask-logo.png')"
      ],
      "metadata": {
        "id": "e-axk5yKnAnl"
      },
      "execution_count": null,
      "outputs": []
    },
    {
      "cell_type": "markdown",
      "source": [
        "\n",
        "\n",
        "---\n",
        "\n"
      ],
      "metadata": {
        "id": "Q8xcaaFlnA7e"
      }
    },
    {
      "cell_type": "markdown",
      "source": [
        "3. How do you define different routes with different HTTP methods in Flask?"
      ],
      "metadata": {
        "id": "Hl7Cht5yP3IK"
      }
    },
    {
      "cell_type": "code",
      "source": [
        "from flask import Flask, request\n",
        "\n",
        "app = Flask(__name__)\n",
        "\n",
        "@app.route('/', methods=['GET'])\n",
        "def index():\n",
        " return \"This is the home page\"\n",
        "\n",
        "@app.route('/authors', methods=['GET', 'POST'])\n",
        "def authors():\n",
        " if request.method == 'GET':\n",
        "    return \"Get all authors\"\n",
        " elif request.method == 'POST':\n",
        "    # Create a new author\n",
        "    return \"Create a new author\"\n",
        "\n",
        "@app.route('/authors/<int:author_id>', methods=['GET', 'PUT', 'DELETE'])\n",
        "def author(author_id):\n",
        " if request.method == 'GET':\n",
        "    return f\"Get author with ID: {author_id}\"\n",
        " elif request.method == 'PUT':\n",
        "    # Update author with ID: author_id\n",
        "    return f\"Update author with ID: {author_id}\"\n",
        " elif request.method == 'DELETE':\n",
        "    # Delete author with ID: author_id\n",
        "    return f\"Delete user with ID: {author_id}\"\n",
        "\n",
        "if __name__ == '__main__':\n",
        " app.run()"
      ],
      "metadata": {
        "id": "tA_JW5Aimm8U"
      },
      "execution_count": null,
      "outputs": []
    },
    {
      "cell_type": "markdown",
      "source": [
        "\n",
        "\n",
        "---\n",
        "\n"
      ],
      "metadata": {
        "id": "KSLeFpPAmnmy"
      }
    },
    {
      "cell_type": "markdown",
      "source": [
        "4. How do you render HTML templates in a Flask?"
      ],
      "metadata": {
        "id": "UOwu4JsOQEzU"
      }
    },
    {
      "cell_type": "code",
      "source": [
        "#app.py file\n",
        "from flask import Flask, render_template\n",
        "\n",
        "app = Flask(__name__)\n",
        "\n",
        "@app.route('/')\n",
        "def home():\n",
        "    return render_template('index.html') # rendering HTML template using render_template\n",
        "if __name__ == '__main__':\n",
        "    app.run(debug=True)"
      ],
      "metadata": {
        "id": "vOll5u-eQZji"
      },
      "execution_count": null,
      "outputs": []
    },
    {
      "cell_type": "code",
      "source": [
        "with open(\"/content/index.html\", 'r') as f1:\n",
        "  print(f1.read())\n"
      ],
      "metadata": {
        "colab": {
          "base_uri": "https://localhost:8080/"
        },
        "id": "g06embm7PC0n",
        "outputId": "87f40ec1-c4c4-481a-c5b7-ad8e8240ac5c"
      },
      "execution_count": null,
      "outputs": [
        {
          "output_type": "stream",
          "name": "stdout",
          "text": [
            "<!DOCTYPE html>\n",
            "<html lang=\"en\">\n",
            "  <head>\n",
            "    <meta charset=\"UTF-8\">\n",
            "    <meta name=\"viewport\", content=\"width=device-width, intial-scale= 1.0\" >\n",
            "    <title>\"Hello World!\"</title>\n",
            "  </head>\n",
            "  <body>\n",
            "    <h1> \"Hello World!\" </h1>\n",
            "  </body>\n",
            "</html>\n"
          ]
        }
      ]
    },
    {
      "cell_type": "markdown",
      "source": [
        "\n",
        "\n",
        "---\n",
        "\n"
      ],
      "metadata": {
        "id": "iBAp-PJNQFGz"
      }
    },
    {
      "cell_type": "markdown",
      "source": [
        "5. How can you generate URLs for routes in Flask using url_for?"
      ],
      "metadata": {
        "id": "X3idZcvuRDsQ"
      }
    },
    {
      "cell_type": "code",
      "source": [
        "from flask import Flask, url_for\n",
        "\n",
        "app = Flask(__name__)\n",
        "\n",
        "@app.route('/')\n",
        "def index():\n",
        " return \"This is a basic flask application\"\n",
        "\n",
        "@app.route('/authors/<username>')\n",
        "def show_author(username):\n",
        "  return f\"Return the author profile of {username}\"\n",
        "\n",
        "@app.route('/post/<int:post_id>/<slug>')\n",
        "def show_post(post_id):\n",
        " return f\"Showing post with ID: {post_id}\"\n",
        "\n",
        "if __name__ == '__main__':\n",
        " with app.test_request_context():\n",
        "   home_url = url_for('index') # Generate URLs using url_for()\n",
        "   profile_url = url_for('show_author', username='SudhaAapte')   # Generate URLs using url_for()\n",
        "   post_url = url_for('show_post', post_id=456, slug='flask-intro' )   # Generate URLs using url_for()\n",
        "\n",
        " #printing output\n",
        "   print(\"Generated URLs:\")\n",
        "   print(\"Home URL:\", home_url)\n",
        "   print(\"Author profile URL:\", profile_url)\n",
        "   print(\"Post URL:\", post_url)\n"
      ],
      "metadata": {
        "colab": {
          "base_uri": "https://localhost:8080/"
        },
        "id": "HXsInRQYR4Wi",
        "outputId": "0c532acc-006e-43ce-d18a-818bd60061bd"
      },
      "execution_count": null,
      "outputs": [
        {
          "output_type": "stream",
          "name": "stdout",
          "text": [
            "Generated URLs:\n",
            "Home URL: /\n",
            "Author profile URL: /authors/SudhaAapte\n",
            "Post URL: /post/456/flask-intro\n"
          ]
        }
      ]
    },
    {
      "cell_type": "markdown",
      "source": [
        "\n",
        "\n",
        "---\n",
        "\n"
      ],
      "metadata": {
        "id": "2_g-qYOeSaZT"
      }
    },
    {
      "cell_type": "markdown",
      "source": [
        "6. How do you handle forms in Flask?\n",
        "- Steps that we will follow to Use Web Forms in a Flask Application:\n",
        "\n",
        " * Create an HTML page that will contain our form.\n",
        " * Create a Flask application that will act as a backend.\n",
        " * Run the Flask application and fill out the form.\n",
        " * Submit the form and view the results.\n",
        "\n",
        "---\n",
        "\n"
      ],
      "metadata": {
        "id": "ALnG4rcwSb2U"
      }
    },
    {
      "cell_type": "markdown",
      "source": [
        "7. How can you validate form data in Flask?\n",
        "- Step1: Create the form from the request form value if the data is submitted via the HTTP POST method and args if the data is submitted as GET .\n",
        "- Step2: to validate the data, call the validate() method, which will return True if the data validates, False otherwise.\n",
        "- Step3: to access individual values from the form, access form.\n",
        "\n",
        "---\n",
        "\n"
      ],
      "metadata": {
        "id": "3ijPiT0qTTiz"
      }
    },
    {
      "cell_type": "markdown",
      "source": [
        "8. How do you manage sessions in Flask?\n",
        "- Sessions in Flask store user-specific data across requests, like login status, using cookies. Data is stored on the client side but signed with a secret key to ensure security. They help maintain user sessions without requiring constant authentication.\n",
        "\n",
        "---\n",
        "\n"
      ],
      "metadata": {
        "id": "IrUJUKGRULd5"
      }
    },
    {
      "cell_type": "markdown",
      "source": [
        "9. How do you redirect different route in Flask?"
      ],
      "metadata": {
        "id": "ljGkyB13VSn1"
      }
    },
    {
      "cell_type": "code",
      "source": [
        "# import flast module\n",
        "from flask import Flask, redirect\n",
        "\n",
        "# instance of flask application\n",
        "app = Flask(__name__)\n",
        "\n",
        "# home route that redirects to\n",
        "# helloworld page\n",
        "@app.route(\"/\")\n",
        "def home():\n",
        "\treturn redirect(\"/helloworld\")\n",
        "\n",
        "# route that returns hello world text\n",
        "@app.route(\"/helloworld\")\n",
        "def hello_world():\n",
        "\treturn \"<p>Hello, World from \\\n",
        "\t\t\t\tredirected page.!</p>\"\n",
        "\n",
        "\n",
        "if __name__ == '__main__':\n",
        "\tapp.run(debug=True)"
      ],
      "metadata": {
        "id": "8hDtVSDCtXt1"
      },
      "execution_count": null,
      "outputs": []
    },
    {
      "cell_type": "markdown",
      "source": [
        "\n",
        "\n",
        "---\n",
        "\n"
      ],
      "metadata": {
        "id": "WB3KzlqKtZ8u"
      }
    },
    {
      "cell_type": "markdown",
      "source": [
        "10. How do you handle errors in Flask (eg. 404)?"
      ],
      "metadata": {
        "id": "EDjoWyk4tbhp"
      }
    },
    {
      "cell_type": "code",
      "source": [
        "from flask import jsonify, render_template\n",
        "\n",
        "# at the application level\n",
        "# not the blueprint level\n",
        "@app.errorhandler(404)\n",
        "def page_not_found(e):\n",
        "    # if a request is in our blog URL space\n",
        "    if request.path.startswith('/blog/'):\n",
        "        # we return a custom blog 404 page\n",
        "        return render_template(\"blog/404.html\"), 404\n",
        "    else:\n",
        "        # otherwise we return our generic site-wide 404 page\n",
        "        return render_template(\"404.html\"), 404\n",
        "\n",
        "@app.errorhandler(405)\n",
        "def method_not_allowed(e):\n",
        "    # if a request has the wrong method to our API\n",
        "    if request.path.startswith('/api/'):\n",
        "        # we return a json saying so\n",
        "        return jsonify(message=\"Method Not Allowed\"), 405\n",
        "    else:\n",
        "        # otherwise we return a generic site-wide 405 page\n",
        "        return render_template(\"405.html\"), 405"
      ],
      "metadata": {
        "id": "Oijda6G3ucek"
      },
      "execution_count": null,
      "outputs": []
    },
    {
      "cell_type": "markdown",
      "source": [
        "\n",
        "\n",
        "---\n",
        "\n"
      ],
      "metadata": {
        "id": "ENxDu48gvWcI"
      }
    },
    {
      "cell_type": "markdown",
      "source": [
        "11. How do you structure a Flask app using Blueprints?"
      ],
      "metadata": {
        "id": "Xa35QIvBvYbe"
      }
    },
    {
      "cell_type": "code",
      "source": [
        "from flask import Flask\n",
        "\n",
        "app = Flask(__name__)\n",
        "\n",
        "@app.route('/')\n",
        "def index():\n",
        "    return \"This is a flask app\"\n",
        "\n",
        "\n",
        "\n",
        "#Blueprint of above app\n",
        "from flask import Blueprint\n",
        "\n",
        "example_blueprint = Blueprint('example_blueprint', __name__)\n",
        "\n",
        "@example_blueprint.route('/')\n",
        "def index():\n",
        "    return \"This is a blueprint of flask app\""
      ],
      "metadata": {
        "id": "ICV1eD3FU8MZ"
      },
      "execution_count": null,
      "outputs": []
    },
    {
      "cell_type": "markdown",
      "source": [
        "\n",
        "\n",
        "---\n",
        "\n"
      ],
      "metadata": {
        "id": "375GQiD8iMRT"
      }
    },
    {
      "cell_type": "markdown",
      "source": [
        "12. How do you define a custom jinja filter in flask?"
      ],
      "metadata": {
        "id": "aqq6K42ciNLS"
      }
    },
    {
      "cell_type": "code",
      "source": [
        "# An example of a jinja filter\n",
        "\n",
        "@app.template_filter('reverse')\n",
        "def reverse_filter(s):\n",
        "    return s[::-1]\n",
        "\n",
        "def reverse_filter(s):\n",
        "    return s[::-1]\n",
        "app.jinja_env.filters['reverse'] = reverse_filter"
      ],
      "metadata": {
        "id": "-6yeAJjIjTvW"
      },
      "execution_count": null,
      "outputs": []
    },
    {
      "cell_type": "markdown",
      "source": [
        "\n",
        "\n",
        "---\n",
        "\n"
      ],
      "metadata": {
        "id": "seLLLzdsjbtB"
      }
    },
    {
      "cell_type": "markdown",
      "source": [
        "13. How can you redirect with query parameters in flask?"
      ],
      "metadata": {
        "id": "R08AiNrDjc6s"
      }
    },
    {
      "cell_type": "code",
      "source": [
        "from flask import session, url_for\n",
        "\n",
        "def d_buzz():\n",
        "    messages = json.dumps({\"main\":\"Condition failed on page buzz\"})\n",
        "    session['messages'] = messages\n",
        "    return redirect(url_for('.d_fool', messages=messages))   # redirection to the d_fool function\n",
        "\n",
        "@app.route('/f')\n",
        "def d_fool():\n",
        "    messages = request.args['messages']  # counterpart for url_for()\n",
        "    messages = session['messages']       # counterpart for session\n",
        "    return render_template(\"fool.html\", messages=json.loads(messages))"
      ],
      "metadata": {
        "id": "ohC_EZRajqRY"
      },
      "execution_count": null,
      "outputs": []
    },
    {
      "cell_type": "markdown",
      "source": [
        "\n",
        "\n",
        "---\n",
        "\n"
      ],
      "metadata": {
        "id": "F62KSvwOkljG"
      }
    },
    {
      "cell_type": "markdown",
      "source": [
        "14. How do you return JSON responses in Flask?\n",
        "\n",
        "- If we want to return another JSON type, use the jsonify() function, which creates a response object with the given data serialized to JSON.\n",
        "\n",
        "```\n",
        "Response.json(data)\n",
        "Response.json(data, options)\n",
        "\n",
        "```\n",
        "\n"
      ],
      "metadata": {
        "id": "F6ysk9Gtkms7"
      }
    },
    {
      "cell_type": "code",
      "source": [
        "const jsonResponse = Response.json(\n",
        "  { some: \"data\", more: \"information\" },\n",
        "  { status: 307, statusText: \"Temporary Redirect\" },\n",
        ");\n",
        "logResponse(jsonResponse);"
      ],
      "metadata": {
        "id": "KVnMf7tjlgkT"
      },
      "execution_count": null,
      "outputs": []
    },
    {
      "cell_type": "markdown",
      "source": [
        "\n",
        "\n",
        "---\n",
        "\n"
      ],
      "metadata": {
        "id": "QjId5LnLlxLD"
      }
    },
    {
      "cell_type": "markdown",
      "source": [
        "15. How do you capture URL parameters in Flask?"
      ],
      "metadata": {
        "id": "Tja0Sa7mlxUB"
      }
    },
    {
      "cell_type": "code",
      "source": [
        "# Example of capturing of url parameters in Flask\n",
        "\n",
        "@app.route('/products', defaults={'product_id': None, 'store_id': None})\n",
        "@app.route('/products/<product_id>', defaults={'store_id': None})\n",
        "@app.route('/products/<product_id>/<store_id>')\n",
        "def show_product(product_id, store_id):\n",
        "    if product_id:\n",
        "      if store_id:\n",
        "        # code to show individual product at specific store\n",
        "      else:\n",
        "        # code to show individual product everywhere\n",
        "    else:\n",
        "      # code to show whole catalog\n"
      ],
      "metadata": {
        "id": "JC_jImBAkyNS"
      },
      "execution_count": null,
      "outputs": []
    },
    {
      "cell_type": "markdown",
      "source": [
        "\n",
        "\n",
        "---\n",
        "\n",
        "---\n",
        "\n",
        "\n",
        "---\n",
        "\n",
        "\n",
        "\n"
      ],
      "metadata": {
        "id": "Ow7kfT8umZ4C"
      }
    }
  ]
}