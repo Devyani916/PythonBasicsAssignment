{
  "nbformat": 4,
  "nbformat_minor": 0,
  "metadata": {
    "colab": {
      "provenance": [],
      "authorship_tag": "ABX9TyPG2mbG2LM5dcFkVLWKRnuv",
      "include_colab_link": true
    },
    "kernelspec": {
      "name": "python3",
      "display_name": "Python 3"
    },
    "language_info": {
      "name": "python"
    }
  },
  "cells": [
    {
      "cell_type": "markdown",
      "metadata": {
        "id": "view-in-github",
        "colab_type": "text"
      },
      "source": [
        "<a href=\"https://colab.research.google.com/github/Devyani916/PythonBasicsAssignment/blob/main/Data_Structure_Assignment.ipynb\" target=\"_parent\"><img src=\"https://colab.research.google.com/assets/colab-badge.svg\" alt=\"Open In Colab\"/></a>"
      ]
    },
    {
      "cell_type": "markdown",
      "source": [
        "**Data types and Data structures Assignment**"
      ],
      "metadata": {
        "id": "KWiHLPewlOwO"
      }
    },
    {
      "cell_type": "markdown",
      "source": [
        "***Theory Questions***"
      ],
      "metadata": {
        "id": "JptFj5dqlm_2"
      }
    },
    {
      "cell_type": "markdown",
      "source": [
        "1. What are data sturctures, and why are they important?\n",
        "- Data structures are ways to organize, store and manipulate the data in computer memory so that it can be accessed and update effectively. Data sturcture is a fundamental part of computer programming.\n",
        "-**Why are they important:**\n",
        "\n",
        "\n",
        "1.   Effective data management\n",
        "2.   Memory optimization\n",
        "3.   Make data handling easier\n",
        "4.   Format programs\n",
        "5.   Data understanding\n",
        "\n"
      ],
      "metadata": {
        "id": "mn34NR_ilyOg"
      }
    },
    {
      "cell_type": "markdown",
      "source": [
        "********************************************************************************"
      ],
      "metadata": {
        "id": "EUaNt7nmstZk"
      }
    },
    {
      "cell_type": "markdown",
      "source": [
        "2. Explain the difference between mutable and immutable data types with examples.\n",
        "-Difference between mutable and immutable  data types:\n",
        "1.   Mutable data types\n",
        "-   It can be changed after creation\n",
        "-   It can be used to change the size or content of the object\n",
        "-   Example: List, Dictonaries and Sets.\n",
        "\n",
        "2.   Immutable data types\n",
        "-   It can be modified once it has been created\n",
        "-   If we want to make any changes then we simply need to create a copy of that.\n",
        "-   Examples: Strings, tuples, ints, floats and bools.\n"
      ],
      "metadata": {
        "id": "She4w4kDs1u3"
      }
    },
    {
      "cell_type": "markdown",
      "source": [
        "********************************************************************************"
      ],
      "metadata": {
        "id": "oYgv_z6Muy_V"
      }
    },
    {
      "cell_type": "markdown",
      "source": [
        "3. What are the main differences between lists and tuples in Python?\n",
        "- Difference between list and tuple:\n",
        "\n",
        "\n",
        "1.   List is mutable data type whereas tuple is immutable data types\n",
        "2.   Tuple is more memory efficient as compare to list\n",
        "3.   Iteration is slightly slower in case of list than that in tuples.\n",
        "4.   List can be defined using square brackets and tuples defined using parenthesis.\n",
        "5.   List has more in-built methods (like append(),extend()) and tuples have fewer methods (like count, context)."
      ],
      "metadata": {
        "id": "gxVXLBbyu1y7"
      }
    },
    {
      "cell_type": "markdown",
      "source": [
        "********************************************************************************"
      ],
      "metadata": {
        "id": "8A-xb_iT4QEJ"
      }
    },
    {
      "cell_type": "markdown",
      "source": [
        "4. Describe how dictionaries store data.\n",
        "-  Dictionaries stores data 'Key-Value pairs', that is each piece of information is associated with a unique key that allows for quick retrieval of corresponding value. It's like a lookup table where you use a key to find associated data.\n",
        "-  Example: {\"Name\": \"Saikat\",   \"age\": 27,   \"gender\": \"male\"}\n"
      ],
      "metadata": {
        "id": "1hOYEB69youB"
      }
    },
    {
      "cell_type": "markdown",
      "source": [
        "********************************************************************************"
      ],
      "metadata": {
        "id": "CPfwD3t84Nxa"
      }
    },
    {
      "cell_type": "markdown",
      "source": [
        "5. Why might you use a set instead of a list in Python?\n",
        "-  Use of set is efficient when we dont want duplicates because set can not have multiple occurrences, it removes duplicate values from tuple or list and to perform common math operations like union and intersection.\n",
        "-  Example:\n",
        "    - my_set = {\"Apple\", \"Banana\", \"Grapes\"}\n",
        "    - my_list = [\"Apple\", \"Banana\", \"Grapes\", \"Grapes\", \"Apple\"]"
      ],
      "metadata": {
        "id": "tNRkQ42p4mSD"
      }
    },
    {
      "cell_type": "markdown",
      "source": [
        "********************************************************************************"
      ],
      "metadata": {
        "id": "8p6sVzno_C4F"
      }
    },
    {
      "cell_type": "markdown",
      "source": [
        "6. What is a string in Python, and how it is different from a list?\n",
        "- String is a sequence of a characters which is enclosed with in single or double quotes. Whereas, list is a data structure which stores a sequence of item of any type enclosed with square brackets.\n",
        "- Strings is immutable and list is mutable.\n",
        "- Example:\n",
        "       - string = \"Pwskills\"\n",
        "       - lis = [1, 3, \"DSA\", True, 4+6j]  "
      ],
      "metadata": {
        "id": "LGsltpzg_H6F"
      }
    },
    {
      "cell_type": "markdown",
      "source": [
        "********************************************************************************"
      ],
      "metadata": {
        "id": "ikqAitwNSjZR"
      }
    },
    {
      "cell_type": "markdown",
      "source": [
        "7. How do tuples ensures data integrity in Python?\n",
        "-  Tuples maintain data integrity in Python by maintaining data consistency and fixed structure. And its immutable nature help to maintain accuracy of data."
      ],
      "metadata": {
        "id": "jBWbn1cjStkr"
      }
    },
    {
      "cell_type": "markdown",
      "source": [
        "********************************************************************************"
      ],
      "metadata": {
        "id": "1RMakhqIdxTG"
      }
    },
    {
      "cell_type": "markdown",
      "source": [
        "8. What is a hash table, and how does it relate to dictionaries in Python?\n",
        "- Hash table is a data structure which implemented as a dictionary and uses hashing function to map keys and values in an array.\n",
        "- In Python, dictionary is built using hash table where keys are hashable, and used as an input in hash function.  "
      ],
      "metadata": {
        "id": "x5-ozIGwd0iH"
      }
    },
    {
      "cell_type": "markdown",
      "source": [
        "********************************************************************************"
      ],
      "metadata": {
        "id": "PUCP3o-9fO91"
      }
    },
    {
      "cell_type": "markdown",
      "source": [
        "9. Can lists contain different data types in Python?\n",
        "- Yes, in Python lists can different data types as lists are heterogeneous in nature. Lists can contain integer, float, strings, complex number, boolean type, list, tuples, etc.\n",
        "Example: mylist = [1, 2.3, 3+7j, True, \"Pwskills\", [1, 2], (\"DSA\", 1)]"
      ],
      "metadata": {
        "id": "a3CjkyavfRZg"
      }
    },
    {
      "cell_type": "markdown",
      "source": [
        "********************************************************************************"
      ],
      "metadata": {
        "id": "_kW7CYhRgRCk"
      }
    },
    {
      "cell_type": "markdown",
      "source": [
        "10. Explain why strings are immutable in Python?\n",
        "- Strings are immutable in nature to keep it secure and protect data. Strings are immutable as its can not be changed once it has been created.\n",
        "Example: mystring = \"Devyani\""
      ],
      "metadata": {
        "id": "gwWC71hmgUhs"
      }
    },
    {
      "cell_type": "markdown",
      "source": [
        "********************************************************************************"
      ],
      "metadata": {
        "id": "kj7gCtwshIia"
      }
    },
    {
      "cell_type": "markdown",
      "source": [
        "11. What advantages do dictionaries offer over lists for certain tasks?\n",
        "- Dictionaries prefferd over lists where tasks require fast lookups and searching a specific object/element. It also store more complex data and flexible nature.\n",
        "- Dictionaries also have wide range of built-in functions."
      ],
      "metadata": {
        "id": "GcXfrHVChPDQ"
      }
    },
    {
      "cell_type": "markdown",
      "source": [
        "********************************************************************************"
      ],
      "metadata": {
        "id": "pzdb28qIi2qa"
      }
    },
    {
      "cell_type": "markdown",
      "source": [
        "\n",
        "12. Describe a scenario where using a tuple would be preferable over a list.\n",
        "- The first advantage of using tuple is that its immutable nature which gives us faster and memory efficient performance than a list. Tuple is preferable as keys of dictionary or where the iteration speed is a crucial element."
      ],
      "metadata": {
        "id": "G8ZS7HsXi9IX"
      }
    },
    {
      "cell_type": "markdown",
      "source": [
        "********************************************************************************"
      ],
      "metadata": {
        "id": "gI_ttGa9lbMz"
      }
    },
    {
      "cell_type": "markdown",
      "source": [
        "13. How do sets handle duplicate values in Python?\n",
        "- Set contain unique and no duplicate elements allowed in Python. In set if we added an element, then adding same element again in set will not affect it. It remove duplicate values and maintain single unique values in it."
      ],
      "metadata": {
        "id": "oMxPq2WDkIn5"
      }
    },
    {
      "cell_type": "markdown",
      "source": [
        "********************************************************************************"
      ],
      "metadata": {
        "id": "qxdwML6clVpR"
      }
    },
    {
      "cell_type": "markdown",
      "source": [
        "14. How does the \"in\" keyword work diffently for lists and dictionaries?\n",
        "- The \"in\" operation with dictionary tests on keys. Where key of a dictionary  has unique value so it check whether something appear as a key or not. Whereas, in list \"in\" operation perform search operation whether an element is present in a list or not."
      ],
      "metadata": {
        "id": "IRMh5Mv7lfUJ"
      }
    },
    {
      "cell_type": "markdown",
      "source": [
        "********************************************************************************"
      ],
      "metadata": {
        "id": "LPn6UzW9n1HX"
      }
    },
    {
      "cell_type": "markdown",
      "source": [
        "15. Can you modify the elements of a tuple? Explain why or why not.\n",
        "- No, we can not modify the elements of a tuple as it is immutable in nature. Once a tuple is created can't be changed."
      ],
      "metadata": {
        "id": "RS0d2d1-n6Hu"
      }
    },
    {
      "cell_type": "markdown",
      "source": [
        "********************************************************************************"
      ],
      "metadata": {
        "id": "2h8Bl730ozDr"
      }
    },
    {
      "cell_type": "markdown",
      "source": [
        "16. What is a nested dictionary? and give an example of its use case.\n",
        "- A nested dictionary is nothing but dictionary in a dictionary i.e. we can store a dictionary in dictionary as a value of a key. But we can not define a key as a dictionary."
      ],
      "metadata": {
        "id": "rtLzVJI2o2M5"
      }
    },
    {
      "cell_type": "code",
      "source": [
        "# Example of nested dictionary:\n",
        "my_dict = {\"india\":{\"Maharashtra\":\"Mumbai\"}, \"USA\":{\"California\":\"Los Angeles\"}} #Here, for key india value is another dictionary where maharashtra is a key and value is mumbai\n",
        "my_dict"
      ],
      "metadata": {
        "colab": {
          "base_uri": "https://localhost:8080/"
        },
        "id": "2tQuBsGwpulG",
        "outputId": "5b30d1ce-327d-4ded-a710-9fbca9e80452"
      },
      "execution_count": null,
      "outputs": [
        {
          "output_type": "execute_result",
          "data": {
            "text/plain": [
              "{'india': {'Maharashtra': 'Mumbai'}, 'USA': {'California': 'Los Angeles'}}"
            ]
          },
          "metadata": {},
          "execution_count": 1
        }
      ]
    },
    {
      "cell_type": "code",
      "source": [
        "# How to access \"Mumbai\"\n",
        "print(my_dict[\"USA\"][\"California\"]) # It gives us value Los Angeles\n",
        "\n",
        "my_dict[\"india\"][\"Maharashtra\"] #It gives us value mumbai"
      ],
      "metadata": {
        "colab": {
          "base_uri": "https://localhost:8080/",
          "height": 53
        },
        "id": "7KBrzcFwqk-S",
        "outputId": "39258191-a50f-4626-ea84-afdc008c92df"
      },
      "execution_count": null,
      "outputs": [
        {
          "output_type": "stream",
          "name": "stdout",
          "text": [
            "Los Angeles\n"
          ]
        },
        {
          "output_type": "execute_result",
          "data": {
            "text/plain": [
              "'Mumbai'"
            ],
            "application/vnd.google.colaboratory.intrinsic+json": {
              "type": "string"
            }
          },
          "metadata": {},
          "execution_count": 3
        }
      ]
    },
    {
      "cell_type": "markdown",
      "source": [
        "********************************************************************************"
      ],
      "metadata": {
        "id": "O8I3DisorLVn"
      }
    },
    {
      "cell_type": "markdown",
      "source": [
        "17. Describe the time complexity of accessing elements in a dictionary.\n",
        "- Dictionaries in Python provide a fast and efficient way to store and retrieve data using key value pair so understanding the time complexities of dictionary operations is very important for optimizing performance in our programs.\n",
        "- The time complexity of retrieving a value by its key in a dictionary is O(1). This is because dictionaries use a hash table internally which allows constant time lookup."
      ],
      "metadata": {
        "id": "3wFAaYK9rOGv"
      }
    },
    {
      "cell_type": "markdown",
      "source": [
        "********************************************************************************"
      ],
      "metadata": {
        "id": "tqVS4AQuP6wn"
      }
    },
    {
      "cell_type": "markdown",
      "source": [
        "18. In what situations are lists preferred over dictionaries?\n",
        "- Lists are preferred with ordered collection of data and in case of sequential operations like stack and queue, sorting, etc.\n",
        "- Whereas, dictionaries are faster in case of lookups and hash tables."
      ],
      "metadata": {
        "id": "qipPrciDsltP"
      }
    },
    {
      "cell_type": "markdown",
      "source": [
        "********************************************************************************"
      ],
      "metadata": {
        "id": "fqXp-I5zt4Jm"
      }
    },
    {
      "cell_type": "markdown",
      "source": [
        "19. Why are dictionaries considered unordered, and how does that affect data retrieval?\n",
        "- Dictionaries considered as unordered as it does not maintain any order of key-value pairs while iterating. Dictionary can't be accessed using indexing as it is unordered but values can be accessed more effectively using a key.\n",
        "- Dictionary implemented based on hash function optimization which focused on quick search of value using keys."
      ],
      "metadata": {
        "id": "pLl4v-Jit7V4"
      }
    },
    {
      "cell_type": "markdown",
      "source": [
        "________________________________________________________________________________"
      ],
      "metadata": {
        "id": "I9i4uSJn1siE"
      }
    },
    {
      "cell_type": "markdown",
      "source": [
        "20. Explain the difference between a list and a dictionary in terms of data retrieval.\n",
        "- A list retrieves data based on its position in the sequence using an index number, while a dictionary retrieves data using a specific \"key\" which is associated with the desired value.\n",
        "- Dictionary allows faster lookups by directly accessing the key rather than iterating through a list to find the correct position.\n",
        "- Lists are ordered collections accessed by index, while dictionaries are key-value pairs accessed by the key itself."
      ],
      "metadata": {
        "id": "NALFcV2C1wP6"
      }
    },
    {
      "cell_type": "markdown",
      "source": [
        "--------------------------------------------------------------------------------\n",
        "--------------------------------------------------------------------------------"
      ],
      "metadata": {
        "id": "JC9oOJQD23DJ"
      }
    },
    {
      "cell_type": "markdown",
      "source": [
        "***Practical Questions***"
      ],
      "metadata": {
        "id": "2PezpZBOP-BY"
      }
    },
    {
      "cell_type": "markdown",
      "source": [
        "1. Write a code to create a string with your name and print it."
      ],
      "metadata": {
        "id": "-8etkndaUhO6"
      }
    },
    {
      "cell_type": "code",
      "source": [
        "# Code create string with my name and print it\n",
        "my_name = \"Devyani\"\n",
        "print(my_name)"
      ],
      "metadata": {
        "colab": {
          "base_uri": "https://localhost:8080/"
        },
        "id": "BiNLlkNy3W-1",
        "outputId": "9798f063-2ebe-4da4-c8fc-0be8a15fec10"
      },
      "execution_count": 4,
      "outputs": [
        {
          "output_type": "stream",
          "name": "stdout",
          "text": [
            "Devyani\n"
          ]
        }
      ]
    },
    {
      "cell_type": "markdown",
      "source": [
        "--------------------------------------------------------------------------------"
      ],
      "metadata": {
        "id": "3GUqoEn93nUY"
      }
    },
    {
      "cell_type": "markdown",
      "source": [
        "2. Write a code to find the length of the string \"Hello World\"."
      ],
      "metadata": {
        "id": "O9hPS0th3qu2"
      }
    },
    {
      "cell_type": "code",
      "source": [
        "# Code to find the length of string\n",
        "string = \"Hello World\"\n",
        "len(string)"
      ],
      "metadata": {
        "colab": {
          "base_uri": "https://localhost:8080/"
        },
        "id": "WlyzAvjf4DTB",
        "outputId": "57e22c3d-ab38-4c99-dc5b-1981a694629e"
      },
      "execution_count": 6,
      "outputs": [
        {
          "output_type": "execute_result",
          "data": {
            "text/plain": [
              "11"
            ]
          },
          "metadata": {},
          "execution_count": 6
        }
      ]
    },
    {
      "cell_type": "markdown",
      "source": [
        "********************************************************************************"
      ],
      "metadata": {
        "id": "UdmNd8rv4VPc"
      }
    },
    {
      "cell_type": "markdown",
      "source": [
        "3. Write a code to slice the first 3 characters from the string \"Python Programming\"."
      ],
      "metadata": {
        "id": "aJPOp0d44ZB1"
      }
    },
    {
      "cell_type": "code",
      "source": [
        "# Slicing\n",
        "string = \"Python Programming\"\n",
        "string[:3]"
      ],
      "metadata": {
        "colab": {
          "base_uri": "https://localhost:8080/",
          "height": 35
        },
        "id": "lBI9XwFe4vKI",
        "outputId": "576e65e1-4304-4aa9-e111-94c9af5253af"
      },
      "execution_count": 7,
      "outputs": [
        {
          "output_type": "execute_result",
          "data": {
            "text/plain": [
              "'Pyt'"
            ],
            "application/vnd.google.colaboratory.intrinsic+json": {
              "type": "string"
            }
          },
          "metadata": {},
          "execution_count": 7
        }
      ]
    },
    {
      "cell_type": "markdown",
      "source": [
        "********************************************************************************"
      ],
      "metadata": {
        "id": "5gdud6zN44UR"
      }
    },
    {
      "cell_type": "markdown",
      "source": [
        "4. Write a code to convert the string \"hello\" to uppercase."
      ],
      "metadata": {
        "id": "pSdJIsFY49Gn"
      }
    },
    {
      "cell_type": "code",
      "source": [
        "# Convert string to uppercase\n",
        "string1 = \"hello\"\n",
        "string1.upper()"
      ],
      "metadata": {
        "colab": {
          "base_uri": "https://localhost:8080/",
          "height": 35
        },
        "id": "B7-T0xW9423C",
        "outputId": "d9ff5ae5-4d34-4525-99f3-9155398a4a3b"
      },
      "execution_count": 8,
      "outputs": [
        {
          "output_type": "execute_result",
          "data": {
            "text/plain": [
              "'HELLO'"
            ],
            "application/vnd.google.colaboratory.intrinsic+json": {
              "type": "string"
            }
          },
          "metadata": {},
          "execution_count": 8
        }
      ]
    },
    {
      "cell_type": "markdown",
      "source": [
        "********************************************************************************"
      ],
      "metadata": {
        "id": "nefLdRm15UGV"
      }
    },
    {
      "cell_type": "markdown",
      "source": [
        "5. Write a code to replace the word \"apple\" with \"orange\" in the string \"I like apple\"."
      ],
      "metadata": {
        "id": "ThtduIHH5W8q"
      }
    },
    {
      "cell_type": "code",
      "source": [
        "# Replacing the word\n",
        "fruit_string = \"I like apple\"\n",
        "fruit_string"
      ],
      "metadata": {
        "colab": {
          "base_uri": "https://localhost:8080/",
          "height": 35
        },
        "id": "KzA8Z7ZT5yai",
        "outputId": "6388c95e-c218-499b-d592-a9cd7e563edb"
      },
      "execution_count": 10,
      "outputs": [
        {
          "output_type": "execute_result",
          "data": {
            "text/plain": [
              "'I like apple'"
            ],
            "application/vnd.google.colaboratory.intrinsic+json": {
              "type": "string"
            }
          },
          "metadata": {},
          "execution_count": 10
        }
      ]
    },
    {
      "cell_type": "code",
      "source": [
        "fruit_string.replace(\"apple\", \"orange\") #Replace apple with orange"
      ],
      "metadata": {
        "colab": {
          "base_uri": "https://localhost:8080/",
          "height": 35
        },
        "id": "esN3Bsx06TeG",
        "outputId": "4fd2aca1-a54d-40dd-9ff5-dab5bdb6b64e"
      },
      "execution_count": 11,
      "outputs": [
        {
          "output_type": "execute_result",
          "data": {
            "text/plain": [
              "'I like orange'"
            ],
            "application/vnd.google.colaboratory.intrinsic+json": {
              "type": "string"
            }
          },
          "metadata": {},
          "execution_count": 11
        }
      ]
    },
    {
      "cell_type": "markdown",
      "source": [
        "********************************************************************************"
      ],
      "metadata": {
        "id": "3hNUXwQW6hlr"
      }
    },
    {
      "cell_type": "markdown",
      "source": [
        "6. Write a code to create a list with numbers 1 to 5 and print it."
      ],
      "metadata": {
        "id": "AHBoO5Nh6pPh"
      }
    },
    {
      "cell_type": "code",
      "source": [
        "# Create a list with number and print it\n",
        "my_list = [1, 2, 3, 4, 5]\n",
        "print(my_list)"
      ],
      "metadata": {
        "colab": {
          "base_uri": "https://localhost:8080/"
        },
        "id": "u_IKbo6c7MRs",
        "outputId": "8255670d-561c-424b-d94d-a5615100a09e"
      },
      "execution_count": 12,
      "outputs": [
        {
          "output_type": "stream",
          "name": "stdout",
          "text": [
            "[1, 2, 3, 4, 5]\n"
          ]
        }
      ]
    },
    {
      "cell_type": "markdown",
      "source": [
        "********************************************************************************"
      ],
      "metadata": {
        "id": "g4H1REKI7aOg"
      }
    },
    {
      "cell_type": "markdown",
      "source": [
        "7. Write a code to append the number 10 to the list [1, 2, 3, 4]."
      ],
      "metadata": {
        "id": "bzl_jLCC7dT1"
      }
    },
    {
      "cell_type": "code",
      "source": [
        "#Append operation\n",
        "my_list = [1, 2, 3, 4]\n",
        "my_list #original list"
      ],
      "metadata": {
        "colab": {
          "base_uri": "https://localhost:8080/"
        },
        "id": "24wTALTm8L8C",
        "outputId": "e057bc84-593a-4d18-be58-d6c5bfd63d1e"
      },
      "execution_count": 13,
      "outputs": [
        {
          "output_type": "execute_result",
          "data": {
            "text/plain": [
              "[1, 2, 3, 4]"
            ]
          },
          "metadata": {},
          "execution_count": 13
        }
      ]
    },
    {
      "cell_type": "code",
      "source": [
        "my_list.append(10)\n",
        "my_list # list after appending 10"
      ],
      "metadata": {
        "colab": {
          "base_uri": "https://localhost:8080/"
        },
        "id": "YqHnyK2k8XKz",
        "outputId": "d42be182-9700-410c-8954-8134d51e4f40"
      },
      "execution_count": 15,
      "outputs": [
        {
          "output_type": "execute_result",
          "data": {
            "text/plain": [
              "[1, 2, 3, 4, 10, 10]"
            ]
          },
          "metadata": {},
          "execution_count": 15
        }
      ]
    },
    {
      "cell_type": "markdown",
      "source": [
        "********************************************************************************"
      ],
      "metadata": {
        "id": "OarffgcA9Yf3"
      }
    },
    {
      "cell_type": "markdown",
      "source": [
        "8. Write a code to remove the number 3 from the list [1, 2, 3, 4, 5]."
      ],
      "metadata": {
        "id": "3KA5rmBD8sfd"
      }
    },
    {
      "cell_type": "code",
      "source": [
        "mylist = [1, 2, 3, 4, 5]\n",
        "mylist"
      ],
      "metadata": {
        "colab": {
          "base_uri": "https://localhost:8080/"
        },
        "id": "WYGmjMHN88Lr",
        "outputId": "42aa1b39-db38-4808-87a9-a9968ce3e74b"
      },
      "execution_count": 16,
      "outputs": [
        {
          "output_type": "execute_result",
          "data": {
            "text/plain": [
              "[1, 2, 3, 4, 5]"
            ]
          },
          "metadata": {},
          "execution_count": 16
        }
      ]
    },
    {
      "cell_type": "code",
      "source": [
        "#remove 3 from above list\n",
        "mylist.remove(3)\n",
        "mylist"
      ],
      "metadata": {
        "colab": {
          "base_uri": "https://localhost:8080/"
        },
        "id": "3bDRFoWe9Gwt",
        "outputId": "eef15884-f4f1-489d-89c4-9307815c8431"
      },
      "execution_count": 17,
      "outputs": [
        {
          "output_type": "execute_result",
          "data": {
            "text/plain": [
              "[1, 2, 4, 5]"
            ]
          },
          "metadata": {},
          "execution_count": 17
        }
      ]
    },
    {
      "cell_type": "markdown",
      "source": [
        "********************************************************************************"
      ],
      "metadata": {
        "id": "fy9qb-pD9Q_Z"
      }
    },
    {
      "cell_type": "markdown",
      "source": [
        "9. Write a code to access the second element in the list ['a', 'b', 'c', 'd']."
      ],
      "metadata": {
        "id": "kDfZ9bIk9der"
      }
    },
    {
      "cell_type": "code",
      "source": [
        "list1 = ['a', 'b', 'c', 'd']\n",
        "print(f\"This is my list:\\n{list1}\")\n",
        "print(f\"Second element of the list is:\\n {list1[1]}\")"
      ],
      "metadata": {
        "colab": {
          "base_uri": "https://localhost:8080/"
        },
        "id": "ojk05AKK9xel",
        "outputId": "a9746b23-2f3f-4d58-a917-0bc0b2e9020b"
      },
      "execution_count": 19,
      "outputs": [
        {
          "output_type": "stream",
          "name": "stdout",
          "text": [
            "This is my list:\n",
            "['a', 'b', 'c', 'd']\n",
            "Second element of the list is:\n",
            " b\n"
          ]
        }
      ]
    },
    {
      "cell_type": "markdown",
      "source": [
        "********************************************************************************"
      ],
      "metadata": {
        "id": "FiPRdDrK-WiE"
      }
    },
    {
      "cell_type": "markdown",
      "source": [
        "10. Write a code to reverse the list [10, 20, 30, 40, 50]."
      ],
      "metadata": {
        "id": "ewyFxzHy-aBx"
      }
    },
    {
      "cell_type": "code",
      "source": [
        "Num_list = [10, 20, 30, 40, 50]\n",
        "print(f\"The given list is:\\n {Num_list}\\n\")\n",
        "print(f\"The reversed list is:\\n {Num_list[::-1]}\") # Reversed the list"
      ],
      "metadata": {
        "colab": {
          "base_uri": "https://localhost:8080/"
        },
        "id": "5HEw4aOS_XFx",
        "outputId": "c50a4fbd-07d7-4ee7-a729-5a78a84a3e11"
      },
      "execution_count": 21,
      "outputs": [
        {
          "output_type": "stream",
          "name": "stdout",
          "text": [
            "The given list is:\n",
            " [10, 20, 30, 40, 50]\n",
            "\n",
            "The reversed list is:\n",
            " [50, 40, 30, 20, 10]\n"
          ]
        }
      ]
    },
    {
      "cell_type": "markdown",
      "source": [
        "********************************************************************************"
      ],
      "metadata": {
        "id": "gflpndmM_92q"
      }
    },
    {
      "cell_type": "markdown",
      "source": [
        "11. Write a code to create a tuple with the elements 100, 200, 300 and print it."
      ],
      "metadata": {
        "id": "L6BdYijzABA5"
      }
    },
    {
      "cell_type": "code",
      "source": [
        "my_Tuple = (100, 200, 300)\n",
        "print(f\"This is my tuple:\\n {my_Tuple}\")"
      ],
      "metadata": {
        "colab": {
          "base_uri": "https://localhost:8080/"
        },
        "id": "yIJmSTaeAPiR",
        "outputId": "93015d10-44b5-420f-a815-4afe27a1d6d3"
      },
      "execution_count": 22,
      "outputs": [
        {
          "output_type": "stream",
          "name": "stdout",
          "text": [
            "This is my tuple:\n",
            " (100, 200, 300)\n"
          ]
        }
      ]
    },
    {
      "cell_type": "markdown",
      "source": [
        "********************************************************************************"
      ],
      "metadata": {
        "id": "oS-2D-ttA1QQ"
      }
    },
    {
      "cell_type": "markdown",
      "source": [
        "12. Write a code to access the second-to-last element of the tuple ('red', 'green', 'blue', 'yellow')."
      ],
      "metadata": {
        "id": "n9q0EEOTA1f1"
      }
    },
    {
      "cell_type": "code",
      "source": [
        "Color_tuple = ('red', 'green', 'blue', 'yellow')\n",
        "print(f\"This is my tuple:\\n {Color_tuple}\\n\")\n",
        "print(f\"The required element of the tuple is:\\n {Color_tuple[-2]}\") # returns second to last element of the tuple"
      ],
      "metadata": {
        "colab": {
          "base_uri": "https://localhost:8080/"
        },
        "id": "8vbEeg9TB5FW",
        "outputId": "98730b0c-c0f5-42c3-9a75-ff9f8b945fae"
      },
      "execution_count": 24,
      "outputs": [
        {
          "output_type": "stream",
          "name": "stdout",
          "text": [
            "This is my tuple:\n",
            " ('red', 'green', 'blue', 'yellow')\n",
            "\n",
            "The required element of the tuple is:\n",
            " blue\n"
          ]
        }
      ]
    },
    {
      "cell_type": "markdown",
      "source": [
        "********************************************************************************"
      ],
      "metadata": {
        "id": "065sBsjbCwG0"
      }
    },
    {
      "cell_type": "markdown",
      "source": [
        "13. Write a code to find the minimum number in the tuple (10, 20, 5, 15)."
      ],
      "metadata": {
        "id": "FuhNvzg8CW2S"
      }
    },
    {
      "cell_type": "code",
      "source": [
        "tuple1 = (10, 20, 5, 15)\n",
        "print(f\"This is my tuple:\\n {tuple1}\\n\")\n",
        "print(f\"The minimum number in the tuple is:\\n {min(tuple1)}\")"
      ],
      "metadata": {
        "colab": {
          "base_uri": "https://localhost:8080/"
        },
        "id": "xKCmqYhOF7OO",
        "outputId": "715bbaa4-5a9a-4079-c9a1-8476da01abd3"
      },
      "execution_count": 26,
      "outputs": [
        {
          "output_type": "stream",
          "name": "stdout",
          "text": [
            "This is my tuple:\n",
            " (10, 20, 5, 15)\n",
            "\n",
            "The minimum number in the tuple is:\n",
            " 5\n"
          ]
        }
      ]
    },
    {
      "cell_type": "markdown",
      "source": [
        "********************************************************************************"
      ],
      "metadata": {
        "id": "UeA23olcCTmT"
      }
    },
    {
      "cell_type": "markdown",
      "source": [
        "14. Write a code to find the index of the element \"cat\" in the tuple ('dog', 'cat', 'rabbit')."
      ],
      "metadata": {
        "id": "lVHYcKj1HNQ7"
      }
    },
    {
      "cell_type": "code",
      "source": [
        "Animal_tuple = ('dog', 'cat', 'rabbit')\n",
        "print(f\"The given tuple is:\\n {Animal_tuple}\\n\")\n",
        "print(f\"The index of the element 'cat' is:\\n {Animal_tuple.index('cat')}\") # Give the index of cat in given tuple"
      ],
      "metadata": {
        "colab": {
          "base_uri": "https://localhost:8080/"
        },
        "id": "jnmS5AT6Az5B",
        "outputId": "9f339bd5-145d-4d37-8606-57e1e0d9a62b"
      },
      "execution_count": 28,
      "outputs": [
        {
          "output_type": "stream",
          "name": "stdout",
          "text": [
            "The given tuple is:\n",
            " ('dog', 'cat', 'rabbit')\n",
            "\n",
            "The index of the element 'cat' is:\n",
            " 1\n"
          ]
        }
      ]
    },
    {
      "cell_type": "markdown",
      "source": [
        "********************************************************************************"
      ],
      "metadata": {
        "id": "vArgMS4hH3uG"
      }
    },
    {
      "cell_type": "markdown",
      "source": [
        "15. Write a code to create a tuple containing three different fruits and checks if \"kiwi\" is in it."
      ],
      "metadata": {
        "id": "QRUcsIgKIFpK"
      }
    },
    {
      "cell_type": "code",
      "source": [
        "Fruits = ('blueberry', 'stawberry', 'pineapple')\n",
        "print(f\"The tuple of 3 fruits is:\\n {Fruits}\\n\")\n",
        "print(f\"kiwi is in the tuple: {'kiwi' in Fruits}\") # Kiwi is not present hence it give o/p False"
      ],
      "metadata": {
        "colab": {
          "base_uri": "https://localhost:8080/"
        },
        "id": "ZqNszvZyIYeY",
        "outputId": "f9f5fb47-0fd8-40ea-e522-31dc18f552fe"
      },
      "execution_count": 30,
      "outputs": [
        {
          "output_type": "stream",
          "name": "stdout",
          "text": [
            "The tuple of 3 fruits is:\n",
            " ('blueberry', 'stawberry', 'pineapple')\n",
            "\n",
            "kiwi is in the tuple: False\n"
          ]
        }
      ]
    },
    {
      "cell_type": "code",
      "source": [
        "Fruits = ('blueberry', 'kiwi', 'pineapple')\n",
        "print(f\"The tuple of 3 fruits is:\\n {Fruits}\\n\")\n",
        "print(f\"kiwi is in the tuple is {'kiwi' in Fruits} at index {Fruits.index('kiwi')}\") # It gives true and index of element"
      ],
      "metadata": {
        "colab": {
          "base_uri": "https://localhost:8080/"
        },
        "id": "COmZts0LJq87",
        "outputId": "c57247aa-48b6-462a-e24c-2b59e2a59b17"
      },
      "execution_count": 33,
      "outputs": [
        {
          "output_type": "stream",
          "name": "stdout",
          "text": [
            "The tuple of 3 fruits is:\n",
            " ('blueberry', 'kiwi', 'pineapple')\n",
            "\n",
            "kiwi is in the tuple is True at index 1\n"
          ]
        }
      ]
    },
    {
      "cell_type": "markdown",
      "source": [
        "********************************************************************************"
      ],
      "metadata": {
        "id": "xamnoQ1DJ9-2"
      }
    },
    {
      "cell_type": "markdown",
      "source": [
        "16. Write a code to create a set with the elements 'a', 'b', 'c' and print it."
      ],
      "metadata": {
        "id": "3Y0of_NCKRQ_"
      }
    },
    {
      "cell_type": "code",
      "source": [
        "#Create a set and print it\n",
        "MySet = {'a', 'b', 'c'}\n",
        "print(f\"This is my set:\\n {MySet}\") # Print set but not in the same order as set is unordered"
      ],
      "metadata": {
        "colab": {
          "base_uri": "https://localhost:8080/"
        },
        "id": "a8UOIP-LKiUO",
        "outputId": "ccac2435-b54f-4a59-b84a-dcc50575dd08"
      },
      "execution_count": 34,
      "outputs": [
        {
          "output_type": "stream",
          "name": "stdout",
          "text": [
            "This is my set:\n",
            " {'c', 'a', 'b'}\n"
          ]
        }
      ]
    },
    {
      "cell_type": "markdown",
      "source": [
        "********************************************************************************"
      ],
      "metadata": {
        "id": "DCh-qgfQLF0b"
      }
    },
    {
      "cell_type": "markdown",
      "source": [
        "17. Write a code to clear all elements from the set {1,2,3,4,5}."
      ],
      "metadata": {
        "id": "-phcQqdmLKal"
      }
    },
    {
      "cell_type": "code",
      "source": [
        "set1 = {1, 2, 3, 4, 5}\n",
        "print(f\"{set1} is the set.\\n\")\n",
        "print(f\"After clearing the set:\")\n",
        "set1.clear() # clear the set and returns empty set\n",
        "set1"
      ],
      "metadata": {
        "colab": {
          "base_uri": "https://localhost:8080/"
        },
        "id": "6pn4roplLdqq",
        "outputId": "978c92cc-e28f-4073-8adc-16c40ce66faf"
      },
      "execution_count": 41,
      "outputs": [
        {
          "output_type": "stream",
          "name": "stdout",
          "text": [
            "{1, 2, 3, 4, 5} is the set.\n",
            "\n",
            "After clearing the set:\n"
          ]
        },
        {
          "output_type": "execute_result",
          "data": {
            "text/plain": [
              "set()"
            ]
          },
          "metadata": {},
          "execution_count": 41
        }
      ]
    },
    {
      "cell_type": "markdown",
      "source": [
        "********************************************************************************"
      ],
      "metadata": {
        "id": "L_9OCmb7MFDO"
      }
    },
    {
      "cell_type": "markdown",
      "source": [
        "18. Write a code remove the element 4 from the set {1,2,3,4}."
      ],
      "metadata": {
        "id": "m436W9LmMHlp"
      }
    },
    {
      "cell_type": "code",
      "source": [
        "S = {1, 2, 3, 4}\n",
        "print(f\"Given set:\\n{S}\\n\")\n",
        "print(f\"After removing 4 from the set:\") # Removes 4 from the set\n",
        "S.remove(4)\n",
        "S"
      ],
      "metadata": {
        "colab": {
          "base_uri": "https://localhost:8080/"
        },
        "id": "q8yWgIVtMYEQ",
        "outputId": "4efd3d43-b601-43cd-b409-a92603222e6b"
      },
      "execution_count": 42,
      "outputs": [
        {
          "output_type": "stream",
          "name": "stdout",
          "text": [
            "Given set:\n",
            "{1, 2, 3, 4}\n",
            "\n",
            "After removing 4 from the set:\n"
          ]
        },
        {
          "output_type": "execute_result",
          "data": {
            "text/plain": [
              "{1, 2, 3}"
            ]
          },
          "metadata": {},
          "execution_count": 42
        }
      ]
    },
    {
      "cell_type": "markdown",
      "source": [
        "19. Write a code to find the union of two sets {1, 2, 3} and {3, 4, 5}."
      ],
      "metadata": {
        "id": "r9z18T2bNBfq"
      }
    },
    {
      "cell_type": "code",
      "source": [
        "s1 = {1, 2, 3}\n",
        "s2 = {3, 4, 5}\n",
        "print(f\"Two sets are:\\n s1 = {s1}\\n s2 = {s2}\\n\")\n",
        "print(f\"Union of two sets is:\\n {s1|s2}\") # | pipe symbol used to get union of two sets"
      ],
      "metadata": {
        "colab": {
          "base_uri": "https://localhost:8080/"
        },
        "id": "3egLatTENsDz",
        "outputId": "e1a09319-fd96-49be-92fc-70f01fcf9155"
      },
      "execution_count": 44,
      "outputs": [
        {
          "output_type": "stream",
          "name": "stdout",
          "text": [
            "Two sets are:\n",
            " s1 = {1, 2, 3}\n",
            " s2 = {3, 4, 5}\n",
            "\n",
            "Union of two sets is:\n",
            " {1, 2, 3, 4, 5}\n"
          ]
        }
      ]
    },
    {
      "cell_type": "markdown",
      "source": [
        "********************************************************************************"
      ],
      "metadata": {
        "id": "eP8HwJggPHt7"
      }
    },
    {
      "cell_type": "markdown",
      "source": [
        "20. Write a code to find the intersection of two sets {1, 2, 3} and {2, 3, 4}."
      ],
      "metadata": {
        "id": "hRDWjlZWPSLJ"
      }
    },
    {
      "cell_type": "code",
      "source": [
        "Set1 = {1, 2, 3}\n",
        "Set2 = {2, 3, 4}\n",
        "print(f\"Two sets are:\\n Set1 = {Set1}\\n Set2 = {Set2}\\n\")\n",
        "print(f\"Intersection of above two sets is:\\n {Set1&Set2}\") # & symbol used to get intersection of two sets"
      ],
      "metadata": {
        "colab": {
          "base_uri": "https://localhost:8080/"
        },
        "id": "a4yjPWxUPkiT",
        "outputId": "16ee9f61-585c-4c6e-f239-5bd79463958a"
      },
      "execution_count": 48,
      "outputs": [
        {
          "output_type": "stream",
          "name": "stdout",
          "text": [
            "Two sets are:\n",
            " Set1 = {1, 2, 3}\n",
            " Set2 = {2, 3, 4}\n",
            "\n",
            "Intersection of above two sets is:\n",
            " {2, 3}\n"
          ]
        }
      ]
    },
    {
      "cell_type": "markdown",
      "source": [
        "********************************************************************************"
      ],
      "metadata": {
        "id": "kfMeW3a2P88V"
      }
    },
    {
      "cell_type": "markdown",
      "source": [
        "21. Write a code to create a dictionary with the keys \"name\", \"age\", and \"city\", and print it."
      ],
      "metadata": {
        "id": "6vDgpd3lP_YK"
      }
    },
    {
      "cell_type": "code",
      "source": [
        "Info_dict ={\"name\":\"Devyani\", \"age\":27, \"city\":\"Yavatmal\"}\n",
        "print(f\"This is my dictionary:\\n {Info_dict}\")"
      ],
      "metadata": {
        "colab": {
          "base_uri": "https://localhost:8080/"
        },
        "id": "ExSbTEcAQgEG",
        "outputId": "9c451b67-90b0-4805-8bdd-43a0d2653712"
      },
      "execution_count": 50,
      "outputs": [
        {
          "output_type": "stream",
          "name": "stdout",
          "text": [
            "This is my dictionary:\n",
            " {'name': 'Devyani', 'age': 27, 'city': 'Yavatmal'}\n"
          ]
        }
      ]
    },
    {
      "cell_type": "markdown",
      "source": [
        "********************************************************************************"
      ],
      "metadata": {
        "id": "7vGKU9mrQ2Um"
      }
    },
    {
      "cell_type": "markdown",
      "source": [
        "22. Write a code to add a new key-value pair \"country\":\"USA\" to the dictionary {\"name\":\"john\", \"age\":25}."
      ],
      "metadata": {
        "id": "8gzBLxoZQ4tk"
      }
    },
    {
      "cell_type": "code",
      "source": [
        "my_dict = {\"name\":\"John\", \"age\":25}\n",
        "print(f\"The given dictionary is:\\n my_dict = {my_dict}\")\n",
        "my_dict[\"country\"]= \"USA\" # add key-value i.e. \"country\":\"USA\" pair to dictionary\n",
        "print(f\"\\nAfter adding new key-value pair:\\n my_dict = {my_dict}\")\n",
        "\n"
      ],
      "metadata": {
        "colab": {
          "base_uri": "https://localhost:8080/"
        },
        "id": "CaorlYF8RSGX",
        "outputId": "5a3da119-ae18-40a0-91ac-56297c4728d8"
      },
      "execution_count": 63,
      "outputs": [
        {
          "output_type": "stream",
          "name": "stdout",
          "text": [
            "The given dictionary is:\n",
            " my_dict = {'name': 'John', 'age': 25}\n",
            "\n",
            "After adding new key-value pair:\n",
            " my_dict = {'name': 'John', 'age': 25, 'country': 'USA'}\n"
          ]
        }
      ]
    },
    {
      "cell_type": "markdown",
      "source": [
        "********************************************************************************"
      ],
      "metadata": {
        "id": "nq89pv0aTdS9"
      }
    },
    {
      "cell_type": "markdown",
      "source": [
        "23. Write a code to access the value associated with the key \"name\" in the dictionary {\"name\":\"Alice\", \"age\":30}."
      ],
      "metadata": {
        "id": "0q2EVhTiTgEe"
      }
    },
    {
      "cell_type": "code",
      "source": [
        "Profile_dict = {\"name\":\"Alice\", \"age\":30}\n",
        "print(f\"The value associated with key name is:\")\n",
        "Profile_dict[\"name\"]"
      ],
      "metadata": {
        "colab": {
          "base_uri": "https://localhost:8080/",
          "height": 53
        },
        "id": "xqAOfMaPT49Y",
        "outputId": "b788a520-0895-4c77-ffa6-6b0187fba0d2"
      },
      "execution_count": 67,
      "outputs": [
        {
          "output_type": "stream",
          "name": "stdout",
          "text": [
            "The value associated with key name is:\n"
          ]
        },
        {
          "output_type": "execute_result",
          "data": {
            "text/plain": [
              "'Alice'"
            ],
            "application/vnd.google.colaboratory.intrinsic+json": {
              "type": "string"
            }
          },
          "metadata": {},
          "execution_count": 67
        }
      ]
    },
    {
      "cell_type": "markdown",
      "source": [
        "********************************************************************************"
      ],
      "metadata": {
        "id": "YxiBeDKlVHMm"
      }
    },
    {
      "cell_type": "markdown",
      "source": [
        "24. Write a code to remove the key \"age\" from the dictionary {\"name\":\"Bob\", \"age\":22, \"city\":\"New York\"}."
      ],
      "metadata": {
        "id": "oI3YFU8hVQzG"
      }
    },
    {
      "cell_type": "code",
      "source": [
        "Dict = {\"name\":\"Bob\", \"age\":22, \"city\":\"New York\"}\n",
        "print(f\"The dictionary is:\\n{Dict}\\n\")\n",
        "print(f\"After removing the key 'age':\")\n",
        "del Dict[\"age\"]\n",
        "Dict"
      ],
      "metadata": {
        "colab": {
          "base_uri": "https://localhost:8080/"
        },
        "id": "tAnTK6YFWVq7",
        "outputId": "92e481e0-5c58-4094-e502-7650862f2972"
      },
      "execution_count": 72,
      "outputs": [
        {
          "output_type": "stream",
          "name": "stdout",
          "text": [
            "The dictionary is:\n",
            "{'name': 'Bob', 'age': 22, 'city': 'New York'}\n",
            "\n",
            "After removing the key 'age':\n"
          ]
        },
        {
          "output_type": "execute_result",
          "data": {
            "text/plain": [
              "{'name': 'Bob', 'city': 'New York'}"
            ]
          },
          "metadata": {},
          "execution_count": 72
        }
      ]
    },
    {
      "cell_type": "markdown",
      "source": [
        "********************************************************************************"
      ],
      "metadata": {
        "id": "7lKgkNY_XaAa"
      }
    },
    {
      "cell_type": "markdown",
      "source": [
        "25. Write a code to check if the key \"city\" exists in the dictionary {\"name\": \"Alice\", \"city\": \"Paris\"}."
      ],
      "metadata": {
        "id": "eQnu39csXdha"
      }
    },
    {
      "cell_type": "code",
      "source": [
        "info_dict = {\"name\":\"Alice\", \"city\":\"Paris\"}\n",
        "print(f\"The dictionary is:\\n{info_dict}\\n\")\n",
        "print(f\"The key 'city' exists in the dictionary:\")\n",
        "'city' in info_dict #checks whether city exists in dictionary or not. On presence returns True else False"
      ],
      "metadata": {
        "colab": {
          "base_uri": "https://localhost:8080/"
        },
        "id": "f8GGJVrXYPcL",
        "outputId": "f89b3e0c-b6a6-40cb-e75e-63eead3a466c"
      },
      "execution_count": 80,
      "outputs": [
        {
          "output_type": "stream",
          "name": "stdout",
          "text": [
            "The dictionary is:\n",
            "{'name': 'Alice', 'city': 'Paris'}\n",
            "\n",
            "The key 'city' exists in the dictionary:\n"
          ]
        },
        {
          "output_type": "execute_result",
          "data": {
            "text/plain": [
              "True"
            ]
          },
          "metadata": {},
          "execution_count": 80
        }
      ]
    },
    {
      "cell_type": "markdown",
      "source": [
        "********************************************************************************"
      ],
      "metadata": {
        "id": "VdRFahD4a8rH"
      }
    },
    {
      "cell_type": "markdown",
      "source": [
        "26. Write a code to create a list, a tuple and a dictionary and print them all."
      ],
      "metadata": {
        "id": "xiLuKnIYbBWV"
      }
    },
    {
      "cell_type": "code",
      "source": [
        "list2 = [1, 2, 3, 4]  # Create a list\n",
        "tuple2 = (1, 2, 3, 4) #Create a tuple\n",
        "Dict2 = {\"name\":\"Saikat\", \"age\":27, \"city\":\"Puri\"} # Create a dictionary\n",
        "print(f\"This is my list:\\n {list2}\\n\\nThis is my tuple:\\n {tuple2}\\n\\nThis is my dictionary:\\n {Dict2}\") #print created list, tuple and dictionary"
      ],
      "metadata": {
        "colab": {
          "base_uri": "https://localhost:8080/"
        },
        "id": "j4dzTJU4ckkk",
        "outputId": "63d08569-af5a-404d-e1de-8343aaaf324d"
      },
      "execution_count": 84,
      "outputs": [
        {
          "output_type": "stream",
          "name": "stdout",
          "text": [
            "This is my list:\n",
            " [1, 2, 3, 4]\n",
            "\n",
            "This is my tuple:\n",
            " (1, 2, 3, 4)\n",
            "\n",
            "This is my dictionary:\n",
            " {'name': 'Saikat', 'age': 27, 'city': 'Puri'}\n"
          ]
        }
      ]
    },
    {
      "cell_type": "markdown",
      "source": [
        "********************************************************************************"
      ],
      "metadata": {
        "id": "Mjbepyrrd63c"
      }
    },
    {
      "cell_type": "markdown",
      "source": [
        "27. Write a code to create a list of 5 random numbers between 1 to 100, sort it in ascending order, and print the result."
      ],
      "metadata": {
        "id": "8YC47Gr3d-A9"
      }
    },
    {
      "cell_type": "code",
      "source": [
        "no_list = [50, 80, 70, 90, 10]\n",
        "print(f\"Entered list is:\\n{no_list}\\n\")\n",
        "sorted_list = sorted(no_list) # sort list in ascending order\n",
        "print(f\"Sorted list is:\\n{sorted_list}\")"
      ],
      "metadata": {
        "colab": {
          "base_uri": "https://localhost:8080/"
        },
        "id": "cpMqN3MGeZkv",
        "outputId": "792b28fd-418f-41df-877f-e157f285fcc6"
      },
      "execution_count": 100,
      "outputs": [
        {
          "output_type": "stream",
          "name": "stdout",
          "text": [
            "Entered list is:\n",
            "[50, 80, 70, 90, 10]\n",
            "\n",
            "Sorted list is:\n",
            "[10, 50, 70, 80, 90]\n"
          ]
        }
      ]
    },
    {
      "cell_type": "markdown",
      "source": [
        "********************************************************************************"
      ],
      "metadata": {
        "id": "3BvyNtkxYHeW"
      }
    },
    {
      "cell_type": "markdown",
      "source": [
        "28. Write a code to create a list with strings and print the element at the third index."
      ],
      "metadata": {
        "id": "l8b7lHhbkTK1"
      }
    },
    {
      "cell_type": "code",
      "source": [
        "lis = [\"pwskills\", \"DSA\", \"python\", \"c++\"] #list created\n",
        "print(f\"This is my list:\\n{lis}\\n\")\n",
        "print(f\"Element at third index is:\\n{lis[3]}\") # print element at 3rd index\n"
      ],
      "metadata": {
        "colab": {
          "base_uri": "https://localhost:8080/"
        },
        "id": "KbD1bqEZkj3s",
        "outputId": "94fea7f6-a17f-4cc7-c5e7-e84bae261e88"
      },
      "execution_count": 101,
      "outputs": [
        {
          "output_type": "stream",
          "name": "stdout",
          "text": [
            "This is my list:\n",
            "['pwskills', 'DSA', 'python', 'c++']\n",
            "\n",
            "Element at third index is:\n",
            "c++\n"
          ]
        }
      ]
    },
    {
      "cell_type": "markdown",
      "source": [
        "********************************************************************************"
      ],
      "metadata": {
        "id": "5npXLuctx3UW"
      }
    },
    {
      "cell_type": "markdown",
      "source": [
        "29. Write a code to combine two dictionaries into one and print the result."
      ],
      "metadata": {
        "id": "TNp3-HEyx7VZ"
      }
    },
    {
      "cell_type": "code",
      "source": [
        "d1 = {\"name\":\"Saikat\", \"age\": 27}\n",
        "d2 = {\"city\":\"Puri\", \"state\":\"Odisa\"}\n",
        "print(f\"Two dictionaries to combine are:\\n d1 = {d1}\\n d2 = {d2}\")\n",
        "print(f\"\\nCombined dictionary is:\\n {d1|d2}\") # combine two dictionaries"
      ],
      "metadata": {
        "colab": {
          "base_uri": "https://localhost:8080/"
        },
        "id": "5mh5reRWysKl",
        "outputId": "3a3a242c-3271-413c-be41-d17f3391d83c"
      },
      "execution_count": 102,
      "outputs": [
        {
          "output_type": "stream",
          "name": "stdout",
          "text": [
            "Two dictionaries to combine are:\n",
            " d1 = {'name': 'Saikat', 'age': 27}\n",
            " d2 = {'city': 'Puri', 'state': 'Odisa'}\n",
            "\n",
            "Combined dictionary is:\n",
            " {'name': 'Saikat', 'age': 27, 'city': 'Puri', 'state': 'Odisa'}\n"
          ]
        }
      ]
    },
    {
      "cell_type": "markdown",
      "source": [
        "********************************************************************************"
      ],
      "metadata": {
        "id": "23aAh15t0OZ3"
      }
    },
    {
      "cell_type": "markdown",
      "source": [
        "30. Write a code to convert a list of strings into a set."
      ],
      "metadata": {
        "id": "JNuVfhb80S0Y"
      }
    },
    {
      "cell_type": "code",
      "source": [
        "Str_list = [\"Devyani\", \"Mitra\", \"Saikat\", \"Mitra\"] #list created\n",
        "Converted_set = set(Str_list) #Convert list of strings into set, duplicates will be removed in set\n",
        "print(f\"This is my list:\\n{Str_list}\\n\")\n",
        "print(f\"This is my set:\\n{Converted_set}\")\n"
      ],
      "metadata": {
        "colab": {
          "base_uri": "https://localhost:8080/"
        },
        "id": "6OdVx-4-0f98",
        "outputId": "c3ec39f0-4fde-4b35-9765-adc752b8403d"
      },
      "execution_count": 107,
      "outputs": [
        {
          "output_type": "stream",
          "name": "stdout",
          "text": [
            "This is my list:\n",
            "['Devyani', 'Mitra', 'Saikat', 'Mitra']\n",
            "\n",
            "This is my set:\n",
            "{'Saikat', 'Devyani', 'Mitra'}\n"
          ]
        }
      ]
    },
    {
      "cell_type": "code",
      "source": [
        "type(Str_list)"
      ],
      "metadata": {
        "colab": {
          "base_uri": "https://localhost:8080/"
        },
        "id": "Sb-JQDc81jr1",
        "outputId": "6589c080-e6a8-4246-c42d-a2f6efcbe560"
      },
      "execution_count": 110,
      "outputs": [
        {
          "output_type": "execute_result",
          "data": {
            "text/plain": [
              "list"
            ]
          },
          "metadata": {},
          "execution_count": 110
        }
      ]
    },
    {
      "cell_type": "code",
      "source": [
        "type(Converted_set)"
      ],
      "metadata": {
        "colab": {
          "base_uri": "https://localhost:8080/"
        },
        "id": "5yYZy-CA1rrk",
        "outputId": "347885b5-3a86-45f7-9166-4e7cc45809d5"
      },
      "execution_count": 111,
      "outputs": [
        {
          "output_type": "execute_result",
          "data": {
            "text/plain": [
              "set"
            ]
          },
          "metadata": {},
          "execution_count": 111
        }
      ]
    },
    {
      "cell_type": "markdown",
      "source": [
        "________________________________________________________________________________\n",
        "________________________________________________________________________________"
      ],
      "metadata": {
        "id": "ahTsKsPF12VI"
      }
    }
  ]
}