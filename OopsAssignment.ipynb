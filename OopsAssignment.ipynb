{
  "nbformat": 4,
  "nbformat_minor": 0,
  "metadata": {
    "colab": {
      "provenance": [],
      "authorship_tag": "ABX9TyNGvmst8HlTXrrPb7Y5AsJV",
      "include_colab_link": true
    },
    "kernelspec": {
      "name": "python3",
      "display_name": "Python 3"
    },
    "language_info": {
      "name": "python"
    }
  },
  "cells": [
    {
      "cell_type": "markdown",
      "metadata": {
        "id": "view-in-github",
        "colab_type": "text"
      },
      "source": [
        "<a href=\"https://colab.research.google.com/github/Devyani916/PythonBasicsAssignment/blob/main/OopsAssignment.ipynb\" target=\"_parent\"><img src=\"https://colab.research.google.com/assets/colab-badge.svg\" alt=\"Open In Colab\"/></a>"
      ]
    },
    {
      "cell_type": "markdown",
      "source": [
        "**OOPS ASSIGNMENT**"
      ],
      "metadata": {
        "id": "WDPb7d6NBFEj"
      }
    },
    {
      "cell_type": "markdown",
      "source": [
        "***Theoritical Question***"
      ],
      "metadata": {
        "id": "OInUDBsMBT6l"
      }
    },
    {
      "cell_type": "markdown",
      "source": [
        "1. What is Object-Oriented Programming?\n",
        "- Object-oriented programming (OOP) is a programming model that organizes software around objects, rather than logic and functions. It uses objects to implement real-world entities like inheritance, hiding, and polymorphism."
      ],
      "metadata": {
        "id": "B6SdW7XGBhJz"
      }
    },
    {
      "cell_type": "markdown",
      "source": [
        "________________________________________________________________________________"
      ],
      "metadata": {
        "id": "uu9GZcsAB-W2"
      }
    },
    {
      "cell_type": "markdown",
      "source": [
        "2. What is a class in OOP?\n",
        "-  In object-oriented programming (OOP), a class is a blueprint for creating objects. It defines the methods and variables that an object will have"
      ],
      "metadata": {
        "id": "_J64MMTzCA37"
      }
    },
    {
      "cell_type": "markdown",
      "source": [
        "________________________________________________________________________________"
      ],
      "metadata": {
        "id": "i8t2bbUl69A8"
      }
    },
    {
      "cell_type": "markdown",
      "source": [
        "3. What is an object in OOP?\n",
        "- In  object-oriented programming (OOP), an object is a unit of code that represents an entity. Objects are the basic building blocks of OOP."
      ],
      "metadata": {
        "id": "XvWcWr_z6_O7"
      }
    },
    {
      "cell_type": "markdown",
      "source": [
        "________________________________________________________________________________"
      ],
      "metadata": {
        "id": "ZaJMwlXV80OO"
      }
    },
    {
      "cell_type": "markdown",
      "source": [
        "4. What is the difference between abstraction and encapsulation?\n",
        "- Abstraction is hiding complex implementation details and presenting only essential functionalities, while encapsulation involves bundling data and methods within a class, restricting direct access to the internal state of an object to protect data integrity."
      ],
      "metadata": {
        "id": "OnIdzEJ27_ID"
      }
    },
    {
      "cell_type": "markdown",
      "source": [
        "________________________________________________________________________________"
      ],
      "metadata": {
        "id": "l71AjXm88t2R"
      }
    },
    {
      "cell_type": "markdown",
      "source": [
        "5. What are dunder methods in Python?\n",
        "- In Python, dunder methods, also known as magic methods, are methods which specified with double underscores (__) before and after their names. They are used to add special functionality to classes and objects.\n",
        "- Eg.` __add__(), __multiply__(), __init__()`\n",
        "\n"
      ],
      "metadata": {
        "id": "KtCzMz2N84Hu"
      }
    },
    {
      "cell_type": "markdown",
      "source": [
        "________________________________________________________________________________"
      ],
      "metadata": {
        "id": "o_LYdsSL-_ON"
      }
    },
    {
      "cell_type": "markdown",
      "source": [
        "6. Explain the concept of inheritance in OOP.\n",
        "- In object-oriented programming (OOP), inheritance is the process of deriving new classes from existing ones. It's a fundamental concept that helps make code more efficient. There are 4 types of inheritance:\n",
        "    1. Single Inheritance:\n",
        "    2. Multiple Inheritance\n",
        "    3. Multilevel Inheritance\n",
        "    4. Hierarchical Inheritance\n",
        "\n"
      ],
      "metadata": {
        "id": "fLWYSQJb_Bru"
      }
    },
    {
      "cell_type": "markdown",
      "source": [
        "________________________________________________________________________________"
      ],
      "metadata": {
        "id": "tgRmxFwqAPTf"
      }
    },
    {
      "cell_type": "markdown",
      "source": [
        "7. What is polymorphism in OOP?\n",
        "- In Object-Oriented Programming (OOP), polymorphism refers to the ability of an object to take on multiple forms, meaning a single method name can be used to perform different operations depending on the type of object it is called on, allowing for code reusability and flexibility by treating different objects with the same interface."
      ],
      "metadata": {
        "id": "NMSFWhYhASPw"
      }
    },
    {
      "cell_type": "markdown",
      "source": [
        "________________________________________________________________________________"
      ],
      "metadata": {
        "id": "Gt1FjuIegrOq"
      }
    },
    {
      "cell_type": "markdown",
      "source": [
        "8. How is encapsulation achieved in Python?\n",
        "- Encapsulation is achieved by declaring a class's data members and methods as either private or protected. In Python, there is no specific Private and protected methods,intstead this can be achieved by using single and double underscores."
      ],
      "metadata": {
        "id": "fpGMQKVJguBm"
      }
    },
    {
      "cell_type": "markdown",
      "source": [
        "________________________________________________________________________________"
      ],
      "metadata": {
        "id": "B8jTgVFDh81s"
      }
    },
    {
      "cell_type": "markdown",
      "source": [
        "9. What is constructor in Python?\n",
        "- In Python, a constructor is a special method which is called when an object is created with purpose to assign values to the data members within the class when an object is initialized. `__init__()` method is used as a constructor in Python."
      ],
      "metadata": {
        "id": "gNPV8J7_h_WN"
      }
    },
    {
      "cell_type": "markdown",
      "source": [
        "________________________________________________________________________________"
      ],
      "metadata": {
        "id": "eSeFIe7qitAF"
      }
    },
    {
      "cell_type": "markdown",
      "source": [
        "10. What are class and static methods in Python?\n",
        "- A class method can access or modify the class state while a static method can't access or modify it. In general, static methods know nothing about the class state."
      ],
      "metadata": {
        "id": "ytPg7pMuivKL"
      }
    },
    {
      "cell_type": "markdown",
      "source": [
        "________________________________________________________________________________"
      ],
      "metadata": {
        "id": "SkbDyF14bd9u"
      }
    },
    {
      "cell_type": "markdown",
      "source": [
        "11. What is method overloading in Python?\n",
        "- In Python, \"method overloading\" refers to the concept of creating multiple methods with the same name but different parameter lists, allowing a single function to handle various input types or numbers of arguments.\n",
        "- Python does not support method overloading explicitly."
      ],
      "metadata": {
        "id": "Ppb9PN11bgnV"
      }
    },
    {
      "cell_type": "markdown",
      "source": [
        "________________________________________________________________________________"
      ],
      "metadata": {
        "id": "FN1KfL1ic8xp"
      }
    },
    {
      "cell_type": "markdown",
      "source": [
        "12. What is method overriding in Python?\n",
        "- Method overriding in Python occurs when a child class defines a method that has the same name and parameters as a method in its parent class. The child class method overrides or replaces the parent class method when called on an instance of the child class."
      ],
      "metadata": {
        "id": "1zHk63wHc-5O"
      }
    },
    {
      "cell_type": "markdown",
      "source": [
        "________________________________________________________________________________"
      ],
      "metadata": {
        "id": "cvkSWCj-dj6x"
      }
    },
    {
      "cell_type": "markdown",
      "source": [
        "13. What is property decorator in Python?\n",
        "- The @property decorator in Python is a built-in tool that allows you to define properties for classes. Properties are attributes that have logic associated with them, such as access control, validation, etc."
      ],
      "metadata": {
        "id": "YZ48Dz5Ldltv"
      }
    },
    {
      "cell_type": "markdown",
      "source": [
        "________________________________________________________________________________"
      ],
      "metadata": {
        "id": "o7OLlAnKeaDY"
      }
    },
    {
      "cell_type": "markdown",
      "source": [
        "14. Why is Polymorphism important in OOP?\n",
        "- Polymorphism is a feature of object-oriented programming languages that allows a specific routine to use variables of different types at different times. Polymorphism in programming gives a program the ability to redefine methods for derived classes."
      ],
      "metadata": {
        "id": "m2FGxyYaecFr"
      }
    },
    {
      "cell_type": "markdown",
      "source": [
        "________________________________________________________________________________"
      ],
      "metadata": {
        "id": "gIV0Rmc5fMN2"
      }
    },
    {
      "cell_type": "markdown",
      "source": [
        "15. What is abstract class in Python?\n",
        "- Abstract classes in Python are used to define a common interface for a group of subclasses. They enforce certain methods to be implemented by any subclass, ensuring a consistent API and encourages to reuse the code."
      ],
      "metadata": {
        "id": "gw6qzRPhfOaC"
      }
    },
    {
      "cell_type": "markdown",
      "source": [
        "________________________________________________________________________________"
      ],
      "metadata": {
        "id": "5pFWziHDgBof"
      }
    },
    {
      "cell_type": "markdown",
      "source": [
        "16. What are the advantages of OOP?\n",
        "- Object-Oriented Programming (OOP) offers several advantages, such as improved code reuse, modularity, and maintainability. However, OOP can also introduce complexity and performance overhead, particularly in large-scale applications.\n",
        "- OOPS has certain advantages like encapsulation, inheritance, abstraction, polymorphism, etc."
      ],
      "metadata": {
        "id": "mGBkzdLygEpT"
      }
    },
    {
      "cell_type": "markdown",
      "source": [
        "________________________________________________________________________________"
      ],
      "metadata": {
        "id": "285HmTIBguT-"
      }
    },
    {
      "cell_type": "markdown",
      "source": [
        "17. What is the difference between a class variable and an instance variable?\n",
        "- Class variables are defined within the class but outside of the class methods. Instance variables are variables which are defined within class methods, typically the constructor. -\n",
        "- However, changes made to the class variable affect all instances. Changes made to the instance variable does not affect all instances."
      ],
      "metadata": {
        "id": "ItybALFfg9YD"
      }
    },
    {
      "cell_type": "markdown",
      "source": [
        "________________________________________________________________________________"
      ],
      "metadata": {
        "id": "jSpfMl6ThszY"
      }
    },
    {
      "cell_type": "markdown",
      "source": [
        "18. What is multiple inheritance in Python?\n",
        "- A class can be derived from more than one superclass in Python. This is called multiple inheritance.\n",
        "- This means, a child class (derived class) will have multiple parent class (superclass)."
      ],
      "metadata": {
        "id": "C88uDd-Phvc2"
      }
    },
    {
      "cell_type": "markdown",
      "source": [
        "________________________________________________________________________________"
      ],
      "metadata": {
        "id": "z0LNcdY6imGx"
      }
    },
    {
      "cell_type": "markdown",
      "source": [
        "19. Explain the purpose of `__str__` and `__repr__` methods in Python?\n",
        "- The `__str__()` and `__repr__()` methods are two of the special methods that you can define for any class.\n",
        "- The `__str__()` method returns a human-readable, or informal, string representation of an object which is user-friedly and easy to understand for user as well as for a developer.\n",
        "- Whereas, the `__repr__()` method returns a more information-rich, or official, string representation of an object which has more technical information useful as a developer."
      ],
      "metadata": {
        "id": "E2Fi17QFiogl"
      }
    },
    {
      "cell_type": "markdown",
      "source": [
        "________________________________________________________________________________"
      ],
      "metadata": {
        "id": "7KU65uiuoFgy"
      }
    },
    {
      "cell_type": "markdown",
      "source": [
        "20. What is the significance of the 'super()' function in Python?\n",
        "- The super() function gives us access to methods and properties of a parent or sibling class. The super() function also returns an object that represents the parent class."
      ],
      "metadata": {
        "id": "vg8QkQL3oH8I"
      }
    },
    {
      "cell_type": "markdown",
      "source": [
        "________________________________________________________________________________"
      ],
      "metadata": {
        "id": "nazlAh-EpuOh"
      }
    },
    {
      "cell_type": "markdown",
      "source": [
        "21. What is the significance of the `__del__` method in Python?\n",
        "- In Python, the `__del__()` method is referred to as a destructor method. It allows you to define specific actions that should be taken when an object is garbage collected, such as closing files, releasing locks, etc."
      ],
      "metadata": {
        "id": "_kjVVq0CpxQJ"
      }
    },
    {
      "cell_type": "markdown",
      "source": [
        "________________________________________________________________________________"
      ],
      "metadata": {
        "id": "pLtjNLEgsAd4"
      }
    },
    {
      "cell_type": "markdown",
      "source": [
        "22. What is the difference between @staticmethod and @classmethod in Python?\n",
        "- A class method can access or modify the class state while a static method can't access or modify it.\n",
        "- The @classmethod takes the class as the first argument, while @staticmethod doesn't take any automatic arguments."
      ],
      "metadata": {
        "id": "8Nez1HcZsCq3"
      }
    },
    {
      "cell_type": "markdown",
      "source": [
        "________________________________________________________________________________"
      ],
      "metadata": {
        "id": "aARTw9rjpGiB"
      }
    },
    {
      "cell_type": "markdown",
      "source": [
        "23. How does polymorphism work in Python with inheritance?\n",
        "- Inheritance in Python refers to the process by which one class can acquire the attributes and methods of another class. The class that is inheriting is referred to as the child class, and the class that is being inherited from is referred to as the parent class.\n",
        "- Polymorphism in Python is the ability of one object to take on multiple forms. This is done by creating multiple classes inherited from a single base class. Each class can then be used interchangeably, as they all share the same interface. This allows for a great degree of flexibility when it comes to programming."
      ],
      "metadata": {
        "id": "I5SjceQypbaa"
      }
    },
    {
      "cell_type": "markdown",
      "source": [
        "________________________________________________________________________________"
      ],
      "metadata": {
        "id": "IyBvv4eW7HtZ"
      }
    },
    {
      "cell_type": "markdown",
      "source": [
        "24. What is method chaining in Python OOP?\n",
        "- Method chaining refers to calling multiple methods sequentially on the same object in a single expression.with each method returning the object itself, allowing you to chain operations together without needing to store intermediate results in variables, resulting in cleaner and more readable code."
      ],
      "metadata": {
        "id": "3DycIU8v7Kl7"
      }
    },
    {
      "cell_type": "markdown",
      "source": [
        "________________________________________________________________________________"
      ],
      "metadata": {
        "id": "Xq4__mA47y_c"
      }
    },
    {
      "cell_type": "markdown",
      "source": [
        "25. What is the purpose of the `__call__` method in Python?\n",
        "- `__call__()` is to turn your instances into callable objects. In other words, its purpose is to create objects that you can call as you would call a regular function."
      ],
      "metadata": {
        "id": "6OLg83q67140"
      }
    },
    {
      "cell_type": "markdown",
      "source": [
        "________________________________________________________________________________"
      ],
      "metadata": {
        "id": "FFtEeUAH-j7F"
      }
    },
    {
      "cell_type": "markdown",
      "source": [
        "***Practical Questions***"
      ],
      "metadata": {
        "id": "LsERAHib-m6D"
      }
    },
    {
      "cell_type": "markdown",
      "source": [
        "1. Create a parent class Animal with the method speak() that prints a generic message. Create a child class Dog that overrides the speak() method to print \"Bark!\"."
      ],
      "metadata": {
        "id": "Jnz6V7k2_KgQ"
      }
    },
    {
      "cell_type": "code",
      "source": [
        "class Animal: # Parent class\n",
        "    def speak(self):\n",
        "        print(\"Generic message\")\n",
        "\n",
        "class Dog(Animal): #Child class\n",
        "    def speak(self): # Overrides the speak() method of Animal class\n",
        "        print(\"Bark!\")\n",
        "\n",
        "d = Dog()\n",
        "d.speak()"
      ],
      "metadata": {
        "colab": {
          "base_uri": "https://localhost:8080/"
        },
        "id": "4VBr_sfgAGfh",
        "outputId": "4083a683-c543-46b5-e076-824ff6ed13f8"
      },
      "execution_count": null,
      "outputs": [
        {
          "output_type": "stream",
          "name": "stdout",
          "text": [
            "Bark!\n"
          ]
        }
      ]
    },
    {
      "cell_type": "markdown",
      "source": [
        "________________________________________________________________________________"
      ],
      "metadata": {
        "id": "r6P0bCHeCCRA"
      }
    },
    {
      "cell_type": "markdown",
      "source": [
        "2. Write a program to create an abstract class Shape with a method area(). Derive classes Circle and Rectangle from it and implement the area() method in both."
      ],
      "metadata": {
        "id": "Thoejj8HCFC8"
      }
    },
    {
      "cell_type": "code",
      "source": [
        "from abc import ABC, abstractmethod\n",
        "\n",
        "class Shape(ABC):\n",
        "  @abstractmethod\n",
        "  def area(self):\n",
        "    pass\n",
        "\n",
        "class Circle(Shape):\n",
        "  def area(self, rad):\n",
        "    return f\"Area of circle is : {3.14*rad**2}\"\n",
        "\n",
        "class Rectangle(Shape):\n",
        "  def area(self, length, breadth):\n",
        "    return f\"Area of rectangle is : {length*breadth}\"\n",
        "\n",
        "c = Circle()\n",
        "print(c.area(5))\n",
        "\n",
        "r = Rectangle()\n",
        "print(r.area(5, 10))\n"
      ],
      "metadata": {
        "colab": {
          "base_uri": "https://localhost:8080/"
        },
        "id": "PsgHtpXUHP7F",
        "outputId": "a9fb177e-54c2-4543-85f0-ef181d00a673"
      },
      "execution_count": null,
      "outputs": [
        {
          "output_type": "stream",
          "name": "stdout",
          "text": [
            "Area of circle is : 78.5\n",
            "Area of rectangle is : 50\n"
          ]
        }
      ]
    },
    {
      "cell_type": "markdown",
      "source": [
        "________________________________________________________________________________"
      ],
      "metadata": {
        "id": "r5wWxnRCIf3C"
      }
    },
    {
      "cell_type": "markdown",
      "source": [
        "3. Implement a multi-level inheritance scenario where a class Vehicle has an attribute type. Derive a class Car and further derive a class ElectricCar that adds a battery attribute."
      ],
      "metadata": {
        "id": "1bNBjGk8I2AI"
      }
    },
    {
      "cell_type": "code",
      "source": [
        "class Vehicle:   #BaseClass\n",
        "  def __init__(self):\n",
        "    pass\n",
        "\n",
        "class Car(Vehicle): #IntermediateClass\n",
        "  def __init__(self, type):\n",
        "    self.type = type\n",
        "\n",
        "class ElectricCar(Car):  #DerivedClass\n",
        "  def __init__(self, type, battery):  #New attribute battery is added\n",
        "    super().__init__(type)\n",
        "    self.battery = battery\n",
        "\n",
        "e = ElectricCar(\"SUV\", \"100KWh\")\n",
        "print(f\"Type of car is: {e.type}\")\n",
        "print(f\"Power of battery is: {e.battery}\")\n"
      ],
      "metadata": {
        "colab": {
          "base_uri": "https://localhost:8080/"
        },
        "id": "PRs0NQ0iJtL1",
        "outputId": "48dc45c5-9c27-448a-9980-646d1ea8ed55"
      },
      "execution_count": null,
      "outputs": [
        {
          "output_type": "stream",
          "name": "stdout",
          "text": [
            "Type of car is: SUV\n",
            "Power of battery is: 100KWh\n"
          ]
        }
      ]
    },
    {
      "cell_type": "markdown",
      "source": [
        "________________________________________________________________________________"
      ],
      "metadata": {
        "id": "s_BSFYf9M52q"
      }
    },
    {
      "cell_type": "markdown",
      "source": [
        "4. Demonstrate polymorphism by creating a base class Bird with a method fly(). Create two derived classes Sparrow and Penguin that override the fly() method."
      ],
      "metadata": {
        "id": "GFaid_KTNNtn"
      }
    },
    {
      "cell_type": "code",
      "source": [
        "class Bird:   #Base Class\n",
        "  def fly(self):\n",
        "    return \"Bird flies\"\n",
        "\n",
        "class Sparrow(Bird):  #Derived Class 1\n",
        "  def fly(self):\n",
        "    return \"Sparrow flies\"\n",
        "\n",
        "class Penguin(Bird): #Derived class 2\n",
        "  def fly(self):\n",
        "    return \"Penguin cannot fly\"\n",
        "\n",
        "b = Bird()\n",
        "s = Sparrow()\n",
        "p = Penguin()\n",
        "\n",
        "for x in (b, s, p):   #Using for loop we can iterate among functions and can call same method with different class objects.\n",
        "  print(x.fly())"
      ],
      "metadata": {
        "colab": {
          "base_uri": "https://localhost:8080/"
        },
        "id": "VbCVFut4OMPZ",
        "outputId": "4afb70bf-0da5-4b45-9a04-0327c2b10a69"
      },
      "execution_count": null,
      "outputs": [
        {
          "output_type": "stream",
          "name": "stdout",
          "text": [
            "Bird flies\n",
            "Sparrow flies\n",
            "Penguin cannot fly\n"
          ]
        }
      ]
    },
    {
      "cell_type": "markdown",
      "source": [
        "________________________________________________________________________________"
      ],
      "metadata": {
        "id": "XaL_8QHcPo4c"
      }
    },
    {
      "cell_type": "markdown",
      "source": [
        "5. Write a  program to demonstrate encapsulation by creating a class BankAccount with private attributes balance and methods to deposit, withdraw, and check balance."
      ],
      "metadata": {
        "id": "-omg4hCNPrGV"
      }
    },
    {
      "cell_type": "code",
      "source": [
        "class BankAccount:\n",
        "  def __init__(self):\n",
        "    self.__balance = 5000\n",
        "\n",
        "  def deposit(self, amount):\n",
        "    amount = float(input(\"Enter the amount to be deposited:\"))\n",
        "    self.__balance +=amount\n",
        "    print(f\"Amount deposited: {amount} and the balance is : {self.__balance}\")\n",
        "\n",
        "  def withdraw(self, amount):\n",
        "    amount = float(input(\"\\nEnter the amount to be withdrawn:\"))\n",
        "    if self.__balance >= amount:\n",
        "      self.__balance -= amount\n",
        "      print(f\"Amount withdrawn: {amount} and the remaining balance is: {self.__balance}\")\n",
        "    else:\n",
        "      print(\"Insufficient balance\")\n",
        "\n",
        "  def check(self):\n",
        "    print(f\"\\nCurrent balance is: {self.__balance}\")\n",
        "\n",
        "\n",
        "bank = BankAccount()\n",
        "bank.check()\n",
        "bank.deposit(100)\n",
        "bank.withdraw(500)\n",
        "bank.check()\n",
        "bank.withdraw(500)\n",
        "bank.check()"
      ],
      "metadata": {
        "colab": {
          "base_uri": "https://localhost:8080/"
        },
        "id": "dpEIGSSmVBzx",
        "outputId": "978d3693-5e40-4dbf-b65d-569e173f1bf7"
      },
      "execution_count": null,
      "outputs": [
        {
          "output_type": "stream",
          "name": "stdout",
          "text": [
            "\n",
            "Current balance is: 5000\n",
            "Enter the amount to be deposited:1000\n",
            "Amount deposited: 1000.0 and the balance is : 6000.0\n",
            "\n",
            "Enter the amount to be withdrawn:5000\n",
            "Amount withdrawn: 5000.0 and the remaining balance is: 1000.0\n",
            "\n",
            "Current balance is: 1000.0\n",
            "\n",
            "Enter the amount to be withdrawn:1500\n",
            "Insufficient balance\n",
            "\n",
            "Current balance is: 1000.0\n"
          ]
        }
      ]
    },
    {
      "cell_type": "markdown",
      "source": [
        "________________________________________________________________________________"
      ],
      "metadata": {
        "id": "ClKERW47Y3os"
      }
    },
    {
      "cell_type": "markdown",
      "source": [
        "6. Demonstrate runtime polymorphism using a method play() in a base class Instrument. Derive classes Guitar and Piano that implement their own version of play()."
      ],
      "metadata": {
        "id": "2XvQ5zeDY1Ha"
      }
    },
    {
      "cell_type": "code",
      "source": [
        "class Instrument:\n",
        "  def play(self):\n",
        "    return \"Instrment plays sound!\\n\"\n",
        "\n",
        "class Guitar(Instrument):\n",
        "  def play(self):\n",
        "    return \"Guitar plays sound!\\n\"\n",
        "\n",
        "class Piano(Instrument):\n",
        "  def play(self):\n",
        "    return \"Piano plays sound!\"\n",
        "\n",
        "i = Instrument()\n",
        "g = Guitar()\n",
        "p = Piano()\n",
        "\n",
        "for x in (i, g, p): #Polymorphism works same with different objects and methods\n",
        "  print(x.play())"
      ],
      "metadata": {
        "colab": {
          "base_uri": "https://localhost:8080/"
        },
        "id": "XchJoOztY25M",
        "outputId": "600fba72-7a30-4b45-913a-608475470e9f"
      },
      "execution_count": null,
      "outputs": [
        {
          "output_type": "stream",
          "name": "stdout",
          "text": [
            "Instrment plays sound!\n",
            "\n",
            "Guitar plays sound!\n",
            "\n",
            "Piano plays sound!\n"
          ]
        }
      ]
    },
    {
      "cell_type": "markdown",
      "source": [
        "________________________________________________________________________________"
      ],
      "metadata": {
        "id": "vWLXDFdRkUUR"
      }
    },
    {
      "cell_type": "markdown",
      "source": [
        "7. Create a class MathOperations with a class method add_numbers() to add two numbers and a static method subtract_numbers() to two numbers."
      ],
      "metadata": {
        "id": "mhxsQv5ykXtx"
      }
    },
    {
      "cell_type": "code",
      "source": [
        "class MathOperations:\n",
        "  def add_numbers(self, num1, num2):\n",
        "    return num1 + num2\n",
        "\n",
        "  @staticmethod\n",
        "  def subtract_numbers(num1, num2):\n",
        "    return num1 - num2\n",
        "\n",
        "m = MathOperations()\n",
        "print(m.add_numbers(5, 10))\n",
        "print(m.subtract_numbers(10, 5))"
      ],
      "metadata": {
        "colab": {
          "base_uri": "https://localhost:8080/"
        },
        "id": "B2nWG37Lk_Bx",
        "outputId": "1e552149-16e9-47b7-f7f7-6d09a044f977"
      },
      "execution_count": null,
      "outputs": [
        {
          "output_type": "stream",
          "name": "stdout",
          "text": [
            "15\n",
            "5\n"
          ]
        }
      ]
    },
    {
      "cell_type": "markdown",
      "source": [
        "________________________________________________________________________________"
      ],
      "metadata": {
        "id": "3EJ4Znarlou5"
      }
    },
    {
      "cell_type": "markdown",
      "source": [
        "8. Implement a class Person with a class method to count the total number of persons created."
      ],
      "metadata": {
        "id": "n1vBWP3DlrrD"
      }
    },
    {
      "cell_type": "code",
      "source": [
        "class Person:\n",
        "  total_persons = 0\n",
        "  def __init__(self):\n",
        "    Person.total_persons += 1\n",
        "\n",
        "  @classmethod\n",
        "  def get_total_persons(cls):\n",
        "    return cls.total_persons\n",
        "\n",
        "p1 = Person()\n",
        "p2 = Person()\n",
        "p3 = Person()\n",
        "\n",
        "print(Person.get_total_persons())"
      ],
      "metadata": {
        "colab": {
          "base_uri": "https://localhost:8080/"
        },
        "id": "RXjO9fuoY0gP",
        "outputId": "7a168633-bb02-4833-81d8-7ed3d8fa5530"
      },
      "execution_count": null,
      "outputs": [
        {
          "output_type": "stream",
          "name": "stdout",
          "text": [
            "3\n"
          ]
        }
      ]
    },
    {
      "cell_type": "markdown",
      "source": [
        "________________________________________________________________________________"
      ],
      "metadata": {
        "id": "lMKQc0c2nshY"
      }
    },
    {
      "cell_type": "markdown",
      "source": [
        "9. Write a class Fraction with attributes numerator and denominator. Override the str method to display the fraction as \"numerator/denominator\"."
      ],
      "metadata": {
        "id": "2nmfAonOnu3A"
      }
    },
    {
      "cell_type": "code",
      "source": [
        "class Fraction:\n",
        "  def __init__(self, numerator, denominator):\n",
        "    self.numerator = numerator\n",
        "    self.denominator = denominator\n",
        "\n",
        "  def __str__(self):\n",
        "    return f\"{self.numerator}/{self.denominator}\"\n",
        "\n",
        "f = Fraction(5, 10)\n",
        "print(f)"
      ],
      "metadata": {
        "colab": {
          "base_uri": "https://localhost:8080/"
        },
        "id": "Vn65ltPIoqlU",
        "outputId": "3e172826-8894-4be2-8cf7-e12579042834"
      },
      "execution_count": null,
      "outputs": [
        {
          "output_type": "stream",
          "name": "stdout",
          "text": [
            "5/10\n"
          ]
        }
      ]
    },
    {
      "cell_type": "markdown",
      "source": [
        "________________________________________________________________________________"
      ],
      "metadata": {
        "id": "-_63gB29pF1o"
      }
    },
    {
      "cell_type": "markdown",
      "source": [
        "10. Demonstrate operator overloading by creating a class Vector and overriding the add method to add two vectors."
      ],
      "metadata": {
        "id": "y3rJyhKlpI8Y"
      }
    },
    {
      "cell_type": "code",
      "source": [
        "class Vector:\n",
        "  def __init__(self, x, y):\n",
        "    self.x = x\n",
        "    self.y = y\n",
        "\n",
        "  def __add__(self, other):\n",
        "    return Vector(self.x + other.x, self.y + other.y)\n",
        "\n",
        "obj1 = Vector(5, 10)\n",
        "obj2 = Vector(15, 20)\n",
        "obj3 = obj1 + obj2\n",
        "print(obj3.x, obj3.y)"
      ],
      "metadata": {
        "colab": {
          "base_uri": "https://localhost:8080/"
        },
        "id": "_Hz5KccNpeF5",
        "outputId": "4ab2cf6b-3e56-4728-b78e-9845f6decd42"
      },
      "execution_count": null,
      "outputs": [
        {
          "output_type": "stream",
          "name": "stdout",
          "text": [
            "20 30\n"
          ]
        }
      ]
    },
    {
      "cell_type": "markdown",
      "source": [
        "________________________________________________________________________________"
      ],
      "metadata": {
        "id": "ofvi9o4xrrWS"
      }
    },
    {
      "cell_type": "markdown",
      "source": [
        "11. Create a class Person with attributes name and age. Add a method greet() that prints \"Hello, my name is `{name}` and I am `{age}` years old."
      ],
      "metadata": {
        "id": "HBOA2a2brtgT"
      }
    },
    {
      "cell_type": "code",
      "source": [
        "class Person:\n",
        "  def __init__(self, name, age):\n",
        "    self.name = name\n",
        "    self.age = age\n",
        "\n",
        "  def greet(self):\n",
        "    print(f\"Hello, my name is {self.name} and I am {self.age} years old.\")\n",
        "\n",
        "p = Person(\"John\", 25)\n",
        "p.greet()"
      ],
      "metadata": {
        "id": "woNJoCWnsR1U",
        "colab": {
          "base_uri": "https://localhost:8080/"
        },
        "outputId": "3eea09f1-800a-42ad-eb40-a8fbfd55b6c6"
      },
      "execution_count": null,
      "outputs": [
        {
          "output_type": "stream",
          "name": "stdout",
          "text": [
            "Hello, my name is John and I am 25 years old.\n"
          ]
        }
      ]
    },
    {
      "cell_type": "markdown",
      "source": [
        "________________________________________________________________________________"
      ],
      "metadata": {
        "id": "_wSK2exCK8We"
      }
    },
    {
      "cell_type": "markdown",
      "source": [
        "12. Implement a class Student with attributes name and grades. Create a method average_grade() to compute the average of the grades."
      ],
      "metadata": {
        "id": "ATT4AVaZK_KA"
      }
    },
    {
      "cell_type": "code",
      "source": [
        "class Student:\n",
        "  def __init__(self, name, grades):\n",
        "    self.name = name\n",
        "    self.grades = grades\n",
        "\n",
        "  def average_grade(self):\n",
        "    avg = sum(self.grades)/len(self.grades)\n",
        "    return f\"The student {self.name} got average {avg} grades.\"\n",
        "\n",
        "s = Student(\"John\", [30,40,50,60])\n",
        "print(s.average_grade())"
      ],
      "metadata": {
        "colab": {
          "base_uri": "https://localhost:8080/"
        },
        "id": "98W16sg_MUyT",
        "outputId": "c0f92d3d-3419-487b-a168-21592fdfda24"
      },
      "execution_count": null,
      "outputs": [
        {
          "output_type": "stream",
          "name": "stdout",
          "text": [
            "The student John got average 45.0 grades.\n"
          ]
        }
      ]
    },
    {
      "cell_type": "markdown",
      "source": [
        "________________________________________________________________________________"
      ],
      "metadata": {
        "id": "QzjL1MuBQc6Z"
      }
    },
    {
      "cell_type": "markdown",
      "source": [
        "13. Create a class Rectangle with methods set_dimensions() to set the dimensions and area() to calculate the area."
      ],
      "metadata": {
        "id": "2xvVRTTyQgUB"
      }
    },
    {
      "cell_type": "code",
      "source": [
        "class Rectangle:\n",
        "  def __init__(self):\n",
        "    self.length = 0\n",
        "    self.breadth = 0\n",
        "\n",
        "  def set_dimensions(self, length, breadth):\n",
        "    self.length = length\n",
        "    self.breadth = breadth\n",
        "\n",
        "  def area(self):\n",
        "    return f\"Area of rectangle is: {self.length * self.breadth}\"\n",
        "\n",
        "rect = Rectangle()\n",
        "rect.set_dimensions(5, 10)\n",
        "print(rect.area())"
      ],
      "metadata": {
        "id": "AithRcEDRxK2",
        "colab": {
          "base_uri": "https://localhost:8080/"
        },
        "outputId": "d60f2315-5362-4972-a702-8e14eb771341"
      },
      "execution_count": 2,
      "outputs": [
        {
          "output_type": "stream",
          "name": "stdout",
          "text": [
            "Area of rectangle is: 50\n"
          ]
        }
      ]
    },
    {
      "cell_type": "markdown",
      "source": [
        "________________________________________________________________________________"
      ],
      "metadata": {
        "id": "cTloaka84vrE"
      }
    },
    {
      "cell_type": "markdown",
      "source": [
        "14. Create a class Employee with a method calculate_salary() that computes the salary based on hours worked and hourly rate. Create a derived class Manager that adds a bonus to the salary."
      ],
      "metadata": {
        "id": "d95YGy0l4zGv"
      }
    },
    {
      "cell_type": "code",
      "source": [
        "class Employee:\n",
        "  def __init__(self, name, hours_worked, hourly_rate):\n",
        "    self.name = name\n",
        "    self.hours_worked = hours_worked\n",
        "    self.hourly_rate = hourly_rate\n",
        "\n",
        "  def calculate_salary(self):\n",
        "    print(\"This is an employee class\")\n",
        "    return f\"{self.name} is a employee and his/her salary  is: {self.hours_worked * self.hourly_rate}\\n\\n\"\n",
        "\n",
        "class Manager(Employee):\n",
        "  def __init__(self, name, hours_worked, hourly_rate, bonus):\n",
        "    super().__init__(name, hours_worked, hourly_rate)\n",
        "    self.bonus = bonus\n",
        "\n",
        "  def calculate_salary(self):\n",
        "    print(\"This is a manager class\")\n",
        "    return f\"{self.name} is a manager and his/her salary is: {self.hours_worked * self.hourly_rate + self.bonus}\"\n",
        "\n",
        "emp = Employee(\"Alice\", 10, 1000)\n",
        "print(emp.calculate_salary())\n",
        "mgr = Manager(\"John\", 10, 2000, 1000)\n",
        "print(mgr.calculate_salary())"
      ],
      "metadata": {
        "colab": {
          "base_uri": "https://localhost:8080/"
        },
        "id": "qE3dVYIN5gCN",
        "outputId": "4ec108ef-a9e4-4bb9-ee15-f1635e8e224a"
      },
      "execution_count": 15,
      "outputs": [
        {
          "output_type": "stream",
          "name": "stdout",
          "text": [
            "This is an employee class\n",
            "Alice is a employee and his/her salary  is: 10000\n",
            "\n",
            "\n",
            "This is a manager class\n",
            "John is a manager and his/her salary is: 21000\n"
          ]
        }
      ]
    },
    {
      "cell_type": "markdown",
      "source": [
        "________________________________________________________________________________"
      ],
      "metadata": {
        "id": "kSWp536tHRoQ"
      }
    },
    {
      "cell_type": "markdown",
      "source": [
        "15. Create a class Product with attributes name, price, and quantity. Implement a method total_price() that calculates the total price of the product."
      ],
      "metadata": {
        "id": "8D4w9tAFHr26"
      }
    },
    {
      "cell_type": "code",
      "source": [
        "class Product:\n",
        "  def __init__(self, name, price, quantity):\n",
        "    self.name = name\n",
        "    self.price = price\n",
        "    self.quantity = quantity\n",
        "\n",
        "\n",
        "  def total_price(self):\n",
        "    self.total_bill = 0\n",
        "    self.total_bill += self.price * self.quantity\n",
        "    return f\"Total price is: {self.total_bill}\"\n",
        "\n",
        "t = Product(\"a\", 10, 100)\n",
        "print(t.total_price())"
      ],
      "metadata": {
        "colab": {
          "base_uri": "https://localhost:8080/"
        },
        "id": "q8DbXjNUIN6T",
        "outputId": "521b6840-a323-4703-8b10-f380a7b920cc"
      },
      "execution_count": 24,
      "outputs": [
        {
          "output_type": "stream",
          "name": "stdout",
          "text": [
            "Total price is: 1000\n"
          ]
        }
      ]
    },
    {
      "cell_type": "markdown",
      "source": [
        "________________________________________________________________________________"
      ],
      "metadata": {
        "id": "8uE5BNviP2pl"
      }
    },
    {
      "cell_type": "markdown",
      "source": [
        "16. Create a class Animal with an abstract method sound(). Create two derived classes Cow and Sheep that implement the sound() method."
      ],
      "metadata": {
        "id": "UxY9uA_rP4th"
      }
    },
    {
      "cell_type": "code",
      "source": [
        "from abc import ABC, abstractmethod\n",
        "class Animal:\n",
        "  @abstractmethod\n",
        "  def sound(self):\n",
        "    pass\n",
        "\n",
        "class Cow(Animal):\n",
        "  def sound(self):\n",
        "    return \"Cow makes sound Moo!\"\n",
        "\n",
        "class Sheep(Animal):\n",
        "  def sound(self):\n",
        "    return \"Sheep makes sound Maaa!\"\n",
        "\n",
        "c = Cow()\n",
        "print(c.sound())\n",
        "s = Sheep()\n",
        "print(s.sound())"
      ],
      "metadata": {
        "colab": {
          "base_uri": "https://localhost:8080/"
        },
        "id": "gKlm1aGFQV1_",
        "outputId": "41a9a9ce-189f-4d51-c755-2e51ebdcbd8c"
      },
      "execution_count": 29,
      "outputs": [
        {
          "output_type": "stream",
          "name": "stdout",
          "text": [
            "Cow makes sound Moo!\n",
            "Sheep makes sound Maaa!\n"
          ]
        }
      ]
    },
    {
      "cell_type": "markdown",
      "source": [
        "________________________________________________________________________________"
      ],
      "metadata": {
        "id": "G15gBqdSRT3s"
      }
    },
    {
      "cell_type": "markdown",
      "source": [
        "17. Create a class Book with attributes title, author, and year_published. Add a method get_book_info() that returns a formatted string with the book's details."
      ],
      "metadata": {
        "id": "0Qbz8P_nRWa_"
      }
    },
    {
      "cell_type": "code",
      "source": [
        "class Book:\n",
        "  def __init__(self, title, author, year_published):\n",
        "    self.title = title\n",
        "    self.author = author\n",
        "    self.year_published = year_published\n",
        "\n",
        "  def get_book_info(self):\n",
        "    return f\"Title: {self.title}\\n\\nAuthor: {self.author}\\n\\nYear Published: {self.year_published}\"\n",
        "\n",
        "b = Book(\"Ikigai: Japanese secret to long and happy life\", \"Francesc Miralles, Hector Garcia\", 2016)\n",
        "print(b.get_book_info())"
      ],
      "metadata": {
        "colab": {
          "base_uri": "https://localhost:8080/"
        },
        "id": "aSIN8C0PSf6r",
        "outputId": "09426a14-4681-45db-cfcb-3157e681acca"
      },
      "execution_count": 33,
      "outputs": [
        {
          "output_type": "stream",
          "name": "stdout",
          "text": [
            "Title: Ikigai: Japanese secret to long and happy life\n",
            "\n",
            "Author: Francesc Miralles, Hector Garcia\n",
            "\n",
            "Year Published: 2016\n"
          ]
        }
      ]
    },
    {
      "cell_type": "markdown",
      "source": [
        "________________________________________________________________________________"
      ],
      "metadata": {
        "id": "MZjyVPOPT5Om"
      }
    },
    {
      "cell_type": "markdown",
      "source": [
        "18. Create a class House with attributes address and price. Create a derived class Mansion that adds an attribute number_of_rooms."
      ],
      "metadata": {
        "id": "elfqDOi1T9UR"
      }
    },
    {
      "cell_type": "code",
      "source": [
        "class House:\n",
        "  def __init__(self, address, price):\n",
        "    self.address = address\n",
        "    self.price = price\n",
        "\n",
        "class Mansion(House):\n",
        "  def __init__(self, address, price, number_of_rooms):\n",
        "    super().__init__(address, price)\n",
        "    self.number_of_rooms = number_of_rooms\n",
        "\n",
        "  def get_house_info(self):\n",
        "    return f\"Address: {self.address}\\n\\nPrice: {self.price}\\n\\nNumber of rooms: {self.number_of_rooms}\"\n",
        "\n",
        "m = Mansion(\"House no 21, Main city, Hyderabad\", 1000000, 10)\n",
        "print(m.get_house_info())"
      ],
      "metadata": {
        "colab": {
          "base_uri": "https://localhost:8080/"
        },
        "id": "aJkPWIjXXNpW",
        "outputId": "d81873cb-9772-496d-c209-3fe0099689fa"
      },
      "execution_count": 44,
      "outputs": [
        {
          "output_type": "stream",
          "name": "stdout",
          "text": [
            "Address: House no 21, Main city, Hyderabad\n",
            "\n",
            "Price: 1000000\n",
            "\n",
            "Number of rooms: 10\n"
          ]
        }
      ]
    },
    {
      "cell_type": "markdown",
      "source": [
        "________________________________________________________________________________"
      ],
      "metadata": {
        "id": "huOjKWaBXlxd"
      }
    }
  ]
}